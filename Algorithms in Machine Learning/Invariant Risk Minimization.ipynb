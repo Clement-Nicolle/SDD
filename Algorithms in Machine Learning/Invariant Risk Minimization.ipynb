{
 "cells": [
  {
   "cell_type": "markdown",
   "metadata": {
    "id": "cdmxavJ-NnNJ"
   },
   "source": [
    "# Subject 67 - Invariant Risk Minimization"
   ]
  },
  {
   "cell_type": "markdown",
   "metadata": {
    "id": "wGcd3EHYomBj"
   },
   "source": [
    "## Introduction"
   ]
  },
  {
   "cell_type": "markdown",
   "metadata": {
    "id": "zvv4m3bl7nT8"
   },
   "source": [
    "This notebook presents essential results studied in the article **Invariant Risk Minimization** that can be found at https://arxiv.org/pdf/1907.02893.pdf.\n",
    "Because most machine learning algorithms depend on the assumption that training and testing data are sampled independently from the same distribution, it is common practice to shuffle at random the training and testing sets. Nevertheless, this article suggests this is not always the best solution, in fact the origin of your data can contain some useful details and shuffling between all of them can discard some information. To adress this issue, the authors purpose another way of training model.\n",
    "\n",
    "Before introducing this new idea, let's see first what can go wrong with traditional machine learning model through an example:"
   ]
  },
  {
   "cell_type": "markdown",
   "metadata": {
    "id": "oXA-Ia_37nT9"
   },
   "source": [
    "### The camel-cow example"
   ]
  },
  {
   "cell_type": "markdown",
   "metadata": {
    "id": "WE0Lbu3u8GSv"
   },
   "source": [
    "Suppose you are working on an image classification task and you want to determine for each images whether it is a cow image or a camel one. Owing a set of images like the ones below you will surely train a CNN to deal with this task.\n",
    "<table><tr>\n",
    "<td> <img src=\"images/vache1.jpg\" alt=\"Drawing\" style=\"width: 300px;\"/> </td>\n",
    "<td> <img src=\"images/chameau1.jpg\" alt=\"Drawing\" style=\"width: 300px;\"/> </td>\n",
    "</tr></table>\n",
    "<table><tr>\n",
    "<td> <img src=\"images/vache2.jpg\" alt=\"Drawing\" style=\"width: 300px;\"/> </td>\n",
    "<td> <img src=\"images/chameau2.jpg\" alt=\"Drawing\" style=\"width: 300px;\"/> </td>\n",
    "</tr></table>\n",
    "\n",
    "Unfortunately it is much probable that your neural network fails to classify such image :\n",
    "<table><tr>\n",
    "<td> <img src=\"images/vache_desert.jpeg\" alt=\"Drawing\" style=\"width: 300px;\"/> </td>\n",
    "</tr></table>\n",
    "\n",
    "The reason is that your CNN achieved a good training error minimization thanks to a cheat : classfying green and grassy landscape as cows and beige and aride one as camels. In fact, your model has exploited a spurious correlation (between lanscapes and types of animal) to classify your data. Imagine your data comes from two different sources or environnements : in the first one 90% of cows are in a green landscape, in the second one only 70%. Shuffling both of them will lose this information and perhaps misslead to the utilisation of landscape to determine if an animal is a cow. In keeping both environnement and study them disctinclty, you can notice that there is a strong (but spurious) link between grassy environnement and cow that should be discarded."
   ]
  },
  {
   "cell_type": "markdown",
   "metadata": {
    "id": "L-Ht026RpjEf",
    "tags": []
   },
   "source": [
    "## The goal of Invariant Risk Minimization"
   ]
  },
  {
   "cell_type": "markdown",
   "metadata": {
    "id": "Vn7DtG887nT_",
    "tags": []
   },
   "source": [
    "### Definition of the study case "
   ]
  },
  {
   "cell_type": "markdown",
   "metadata": {
    "id": "0l0a4kIt7nUA",
    "tags": []
   },
   "source": [
    "The main objective of Invariant Risk Minimization (IRM) is to provide a new learning paradigm in estimating nonlinear, invariant, causal predictors from multiple training environments, which enable out-of-distribution (OOD) generalization.\n",
    "\n",
    "In the following, we will consider datasets $D_e=\\{(x_i^e,y_i^e)\\}_{1\\leq i\\leq n_e}$ from different environnements $e\\in \\xi_{tr}$ where each pair describes the same random variables measured under different conditions.\n",
    "\n",
    "The objective here is to use these environnements to learn a predictor $f$ such that $Y\\approx f(X)$ and which performs well across a large set of unseen but related environments $\\xi_{all} \\supset \\xi_{tr}$.\n",
    "\n",
    "If we denote $R^e(f):=\\mathbb{E}_{X^e,Y^e}[l(f(X^e),Y^e)]$ for a certain loss $l$, the goal to be minimized can be written as : $$$$\n",
    "$$R^{OOD}(f) = max_{e\\in \\xi_{all}}R^e(f)$$"
   ]
  },
  {
   "cell_type": "markdown",
   "metadata": {
    "id": "HJFGQs_jpqlF",
    "tags": []
   },
   "source": [
    "### A first toy example"
   ]
  },
  {
   "cell_type": "markdown",
   "metadata": {
    "id": "fWLCadYI7nUB",
    "jp-MarkdownHeadingCollapsed": true,
    "tags": []
   },
   "source": [
    "We will define here a concrete and practical example which will be usefull all along this study. \n",
    "\n",
    "Let's consider the three following random variables defined on a set of some environnement $e\\in\\xi_{tr} $ as :\n",
    "$$$$\n",
    "$$X_1^e \\sim \\mathcal{N}(0,\\,\\sigma^{2}_e)$$\n",
    "$$Y^e \\sim X_1^e + \\mathcal{N}(0,\\,\\sigma^{2}_e)$$\n",
    "$$X_2^e \\sim Y^e + \\mathcal{N}(0,\\,1)$$\n",
    "$$$$\n",
    "where $\\xi_{all} $ denotes the set of all possible/existing environnement.\n",
    "$$$$\n",
    "\n",
    "According to you, what will happen if we decide to predict $Y$, knowing $X_1$ and $X_2$ ?"
   ]
  },
  {
   "cell_type": "code",
   "execution_count": 1,
   "metadata": {
    "id": "Tphr_CQ_7nUC"
   },
   "outputs": [],
   "source": [
    "# Any idea ?\n",
    "\n"
   ]
  },
  {
   "cell_type": "markdown",
   "metadata": {
    "id": "VO96Zs_N7nUD",
    "tags": []
   },
   "source": [
    "#### Question 1\n",
    "Define the previous variables on two different environnements (for example $\\sigma=0.1$ and $10)$.\n",
    "Generate a consequent number of samples."
   ]
  },
  {
   "cell_type": "code",
   "execution_count": 2,
   "metadata": {
    "id": "Tc5PhU-d7nUE"
   },
   "outputs": [],
   "source": [
    "# %load question1\n",
    "import numpy as np\n",
    "\n",
    "#Generate n samples under environnement sigma\n",
    "def sample(sigma, n):\n",
    "    X1 = np.random.normal(0,sigma,n).reshape(-1,1)\n",
    "    Y = X1 + np.random.normal(0,sigma,n).reshape(-1,1)\n",
    "    X2 = Y + np.random.normal(0,1,n).reshape(-1,1)\n",
    "    return X1, X2, Y\n",
    "\n",
    "n = 10000 # number of samples for each environnement \n",
    "\n",
    "sigma1 = 10 # variance for the environnement 1 noise \n",
    "sigma2 = 0.1 # variance for the environnement 2 noise \n",
    "\n",
    "X1e1, X2e1, Ye1 = sample(sigma1, n)\n",
    "X1e2, X2e2, Ye2 = sample(sigma2, n)"
   ]
  },
  {
   "cell_type": "markdown",
   "metadata": {
    "id": "YkDhqGzb7nUE",
    "jp-MarkdownHeadingCollapsed": true,
    "tags": []
   },
   "source": [
    "$$$$\n",
    "Just before pursuing this case, let's compute now some statistics about these random variables which will be useful later : (you can check these following results with your previous implementation)\n",
    "\n",
    "$\\sigma^2(X_1^e)=\\sigma^{2}_e$,\n",
    "\n",
    "$\\sigma^2(Y^e)=2\\sigma^{2}_e$,\n",
    "\n",
    "$\\sigma^2(X_2^e)=2\\sigma^{2}_e+1$,\n",
    "\n",
    "$\\sigma(X_1^e,Y^e)=\\sigma^{2}_e$,\n",
    "\n",
    "$\\sigma(X_2^e,Y^e)=2\\sigma^{2}_e$,\n",
    "\n",
    "$\\sigma^2(X_1^e,X_2^e)=\\sigma^{2}_e$\n",
    "$$$$"
   ]
  },
  {
   "cell_type": "markdown",
   "metadata": {
    "id": "KhhhPF7PxwVX"
   },
   "source": [
    "In order to predict $Y$, we will consider the three different linear regressions : $Y^e=aX_1^e+c$, $Y^e=bX_2^e+c$ and $Y^e=aX_1^e+bX_2^e+c$ and realize each regression on two distinct environnements."
   ]
  },
  {
   "cell_type": "markdown",
   "metadata": {
    "id": "lgZtBXiw7nUG",
    "tags": []
   },
   "source": [
    "#### Question 2"
   ]
  },
  {
   "cell_type": "markdown",
   "metadata": {
    "id": "0F7mKMTv7nUG"
   },
   "source": [
    "Realize the three regressions on two different environnements. For each regression, compare the coefficients between both environnement."
   ]
  },
  {
   "cell_type": "code",
   "execution_count": 3,
   "metadata": {
    "colab": {
     "base_uri": "https://localhost:8080/"
    },
    "id": "_EYv0a2OpiVx",
    "outputId": "7381aaa6-f240-48b1-ef01-1033972c26bd"
   },
   "outputs": [
    {
     "name": "stdout",
     "output_type": "stream",
     "text": [
      "By running such regressions (despite different environnements), one might naively expect to \n",
      "have quite the same result for each pair of regressions on both environnement but this is not \n",
      "the case. \n",
      "For the first regression we obtain 0.999643 as coefficient on environnement 1 and 0.994872 \n",
      "on environnement 2.\n",
      "For the second regression we obtain 0.994882 as coefficient on environnement 1 and 0.019259 \n",
      "on environnement 2.\n",
      "For the third regression we obtain the couple (0.009650, 0.990035) as coefficients on \n",
      "environnement 1 and (0.985591, 0.010995) on environnement 2.\n"
     ]
    }
   ],
   "source": [
    "# %load question2\n",
    "from sklearn.linear_model import LinearRegression\n",
    "\n",
    "def regressor(Y, X):\n",
    "    lr = LinearRegression()\n",
    "    lr.fit(X,Y)\n",
    "    return lr.coef_\n",
    "\n",
    "reg1_env1 = regressor(Ye1,X1e1)[0]\n",
    "reg2_env1 = regressor(Ye1,X2e1)[0]\n",
    "reg3_env1 = regressor(Ye1,np.concatenate([X1e1,X2e1], axis=1))[0]\n",
    "\n",
    "reg1_env2 = regressor(Ye2,X1e2)[0]\n",
    "reg2_env2 = regressor(Ye2,X2e2)[0]\n",
    "reg3_env2 = regressor(Ye2,np.concatenate([X1e2,X2e2], axis=1))[0]\n",
    "                      \n",
    "print(\"By running such regressions (despite different environnements), one might naively expect to \\nhave quite the same result for each pair of regressions on both environnement but this is not \\nthe case. \\nFor the first regression we obtain %f as coefficient on environnement 1 and %f \\non environnement 2.\\nFor the second regression we obtain %f as coefficient on environnement 1 and %f \\non environnement 2.\\nFor the third regression we obtain the couple (%f, %f) as coefficients on \\nenvironnement 1 and (%f, %f) on environnement 2.\" % (reg1_env1, reg1_env2, reg2_env1, reg2_env2, reg3_env1[0], reg3_env1[1], reg3_env2[0], reg3_env2[1]))"
   ]
  },
  {
   "cell_type": "markdown",
   "metadata": {
    "id": "sezF6M777nUI"
   },
   "source": [
    "### Explanation of the results"
   ]
  },
  {
   "cell_type": "markdown",
   "metadata": {
    "id": "zx-Z7G5T7dP3"
   },
   "source": [
    "In our example, only the regression $Y^e=aX_1^e+c$ has given quite the same result on both environnement, let's see more in detail why we obtained these result.\n",
    "\n",
    "Our linear regressor as it is defined solve the Least Square Criterion $$\\min \\frac1n\\sum\\limits_{k=1}^n(y_k-a_1X_1-...-a_mX_m+b)^2$$\n",
    "$$$$\n",
    "The calculation of the annulation point of the gradient (with respect to $(a_i)_i,b$) gives :\n",
    "$$$$\n",
    "$$\\begin{cases}\n",
    "a_1\\sigma^2(x_1)  &=\\sigma(x_1,y) \\\\\n",
    "b &=\\bar{y}-a_1\\bar{x_1}\n",
    "\\end{cases}\\leftrightarrow\\begin{cases}\n",
    "a_1  &=\\frac{\\sigma(x_1,y)}{\\sigma^2(x_1)} \\\\\n",
    "b &=\\bar{y}-a_1\\bar{x_1} \\\\\n",
    "\\end{cases}$$ for the 1D case \n",
    "and : \n",
    "$$$$\n",
    "$$\\begin{cases}\n",
    "a_1\\sigma^2(x_1) + a_2\\sigma(x_1,x_2)  &=\\sigma(x_1,y) \\\\\n",
    "a_1\\sigma(x_1,x_2) + a_2\\sigma^2(x_2)  &=\\sigma(x_2,y) \\\\\n",
    "b &=\\bar{y}-a_1\\bar{x_1}-a_2\\bar{x_2} \\\\\n",
    "\\end{cases}\\leftrightarrow\\begin{cases}\n",
    "a_1  &=\\frac{\\sigma^2(x_2)\\sigma(x_1,y)-\\sigma(x_1,x_2)\\sigma(x_2,y)}{\\sigma^2(x_1)\\sigma^2(x_2)-\\sigma(x_1,x_2)^2} \\\\\n",
    "a_2  &=\\frac{\\sigma^2(x_1)\\sigma(x_2,y)-\\sigma(x_1,x_2)\\sigma(x_1,y)}{\\sigma^2(x_1)\\sigma^2(x_2)-\\sigma(x_1,x_2)^2} \\\\\n",
    "b &=\\bar{y}-a_1\\bar{x_1}-a_2\\bar{x_2} \\\\\n",
    "\\end{cases}$$ for the 2D case \n",
    "\n",
    "\n",
    "\n"
   ]
  },
  {
   "cell_type": "markdown",
   "metadata": {
    "id": "w11TaVcYGBYp"
   },
   "source": [
    "Using these results on our original regressions gives the following analytical solutions : $$$$ \n",
    "$$Y^e = 1\\cdot X_1^e $$\n",
    "$$Y^e = \\frac{\\sigma^2_e}{\\sigma^2_e+0.5}\\cdot X_2^e$$\n",
    "$$Y^e = \\frac{1}{\\sigma^2_e+1}\\cdot X_1^e + \\frac{\\sigma^2_e}{\\sigma^2_e+1}\\cdot X_2^e $$\n",
    "$$$$\n",
    "The regression using $X_1$ is the only one whose coefficients are independant of the environnement; it highlights a invariant correlation contrary to the one using $X_2$. \n",
    "In the following, we will be interesting in finding a way to learn the invariant."
   ]
  },
  {
   "cell_type": "markdown",
   "metadata": {
    "id": "RGyDkfQ-7nUK"
   },
   "source": [
    "## How to build an algorithm for Invariant Risk Minimization ?"
   ]
  },
  {
   "cell_type": "markdown",
   "metadata": {
    "id": "RfUHFph37nUL"
   },
   "source": [
    "Our goal in this topic is to learn correlations invariant across training environments. In the case of prediction problems if we keep the definition of $R^{OOD}(f)$ as it was previously defined, this means finding a data representation such that the optimal classifier, on top of that data representation, is the same for all environments."
   ]
  },
  {
   "cell_type": "markdown",
   "metadata": {
    "id": "PJzQHBs47nUM"
   },
   "source": [
    "### Formulation of the IRM algorithm"
   ]
  },
  {
   "cell_type": "markdown",
   "metadata": {
    "id": "nhe7pJvZ7nUN"
   },
   "source": [
    "Let's write $\\Phi:\\mathbb{X}\\rightarrow\\mathbb{H}$ a data representation where $\\mathbb{X}$ is the space of our data points $X$, $\\mathbb{H}$ another space and $\\mathbb{Y}$ the space of our output $Y$.\n",
    "We will say that a data representation $\\Phi$ *elicits an invariant predictor $w\\circ\\Phi$ if there exists a classifier $w:\\mathbb{H}\\rightarrow\\mathbb{Y}$ which is optimal simultaneously for all environnement*.\n",
    "Thus, it can be expressed as $w\\in \\displaystyle\\arg\\min_{\\bar w : \\mathbb{H}\\rightarrow\\mathbb{Y} }R^e(\\bar w \\circ \\Phi)$\n",
    "\n",
    "Obviously, every data representation is not equivalent, as for traditionnal we are interested in finding 'the best' one. Finally, a data representation as we have defined it in the context of Invariant Risk Minimization has two main concerns : being useful to predict well and eliciting a invariant predictor.\n",
    "\n",
    "The resolution of the following constrained optimization problem achieved these two objectives.\n",
    "$$$$\n",
    "$$ \\displaystyle \\min_{\\Phi:\\mathbb{X}\\rightarrow\\mathbb{H}, w:\\mathbb{H}\\rightarrow\\mathbb{Y}} \\displaystyle \\sum_{e\\in\\xi_{tr}}R^e(\\bar w \\circ \\Phi)$$\n",
    "$$w\\in \\arg\\min_{\\bar w : \\mathbb{H}\\rightarrow\\mathbb{Y} }R^e(\\bar w \\circ \\Phi)$$\n",
    "\n",
    "Unfortunately, the resolution of such a problem is not easy due to the fact it is bi-leveled."
   ]
  },
  {
   "cell_type": "markdown",
   "metadata": {
    "id": "qsBc6zPO7nUN",
    "tags": []
   },
   "source": [
    "### From a complex formulation to a more usable one "
   ]
  },
  {
   "cell_type": "markdown",
   "metadata": {
    "id": "I-KsKHwW7nUO"
   },
   "source": [
    "**1) From constraints to penalty**\n",
    "\n",
    "The previous problem could be reformulate into the following penalized loss where $\\mathbb{D}$ measures how close $w$ is to minimize $R^e(\\bar w \\circ \\Phi)$ and $\\lambda$ is a hyper-parameter handling the trade-off predictive power/invariance. $$$$ $$L_{IRM}(\\Phi,w) = \\sum_{e\\in\\xi_{tr}}R^e(\\bar w \\circ \\Phi) + \\lambda\\cdot\\mathbb{D}(w,\\Phi,e)$$ $$$$\n",
    "In practice we want $\\mathbb{D}$ to be differentiable. From now we will assume that this is the case and that $w$ is a linear classifier. \n",
    "\n",
    "**2) Choice of $\\mathbb{D}$**\n",
    "\n",
    "Among all possibilities we have for $\\mathbb{D}$, one seems more natural than the other; this is the square of the Euclidean distance to the optimal solution $w_{\\Phi}^e = \\mathbb{E}_{X^e}[\\Phi(X^e)\\Phi(X^e)^{T}]^{-1}\\mathbb{E}_{X^e,Y^e}[\\Phi(X^e)Y^e]$ $$$$\n",
    "$$\\mathbb{D}_{dist}(w,\\Phi,e) = \\|w-w_{\\Phi}^e\\|^2$$ $$$$\n",
    "Unfortunately after a deeper analysis this choice turns out to be a poor one."
   ]
  },
  {
   "cell_type": "markdown",
   "metadata": {
    "id": "Ns7m3rLt7nUO"
   },
   "source": [
    "#### Question 3"
   ]
  },
  {
   "cell_type": "markdown",
   "metadata": {
    "id": "opA2XD9d7nUP"
   },
   "source": [
    "Keeping the previous example (with $X_1,Y,X_2$) and the particular case of $\\Phi(x) = x\\cdot Diag([1,c])$ and $w=(1,0)^T$, plot ${D}_{dist}(w,\\Phi,e)$ as a function of c varying from $-1$ to $1$."
   ]
  },
  {
   "cell_type": "markdown",
   "metadata": {
    "id": "7Lik9YZA7nUP"
   },
   "source": [
    "<div class=\"alert alert-warning\"> Do you want some indications ?\n",
    "<details>\n",
    "    <summary>Hint</summary>\n",
    "  Rather than using the exact formula to calculate $w_{\\Phi}^e$, you could consider a linear regression between $\\Phi(X^e)$ and $Y^e$, it should be easier !\n",
    "</details>\n",
    "</div>"
   ]
  },
  {
   "cell_type": "code",
   "execution_count": 4,
   "metadata": {
    "colab": {
     "base_uri": "https://localhost:8080/",
     "height": 371
    },
    "id": "F9J3pcq_7nUQ",
    "outputId": "d5e69dc3-6214-4ca1-9486-74333a781a4d"
   },
   "outputs": [
    {
     "data": {
      "image/png": "[encoded data removed]",
      "text/plain": [
       "<Figure size 576x360 with 1 Axes>"
      ]
     },
     "metadata": {
      "needs_background": "light"
     },
     "output_type": "display_data"
    }
   ],
   "source": [
    "# %load question3\n",
    "import matplotlib.pyplot as plt\n",
    "import numpy as np\n",
    "\n",
    "X1, X2, Y = sample(sigma=10, n=10000)\n",
    "\n",
    "Ddist = []\n",
    "C =  np.linspace(-1, 1, 101)\n",
    "w  = np.array([1,0])\n",
    "\n",
    "for c in C:\n",
    "    X=np.concatenate([X1,X2], axis=1)\n",
    "    phi = np.array([[1, 0],\n",
    "                   [0, c]])\n",
    "    we = regressor(Y, X@phi)\n",
    "    Ddist.append(((we-w)@(we-w).T).sum())\n",
    "plt.figure(figsize=(8,5))\n",
    "plt.ylim(-1, 20)\n",
    "plt.plot(C, Ddist)\n",
    "plt.ylabel('Ddist')\n",
    "plt.xlabel('c')\n",
    "plt.title('Influence of the variable c on the Ddist')\n",
    "plt.show()"
   ]
  },
  {
   "cell_type": "markdown",
   "metadata": {
    "id": "-WYd1DRk7nUR"
   },
   "source": [
    "The previous curve exhibits a clear issue with $\\mathbb{D}_{dist}$ : it is discontinous at $c=0$ which is the targeted value eliciting an invariant predictor. Even with a severe ridge regression instead of a linear regression, the same phenomenom could be observed, a little change in the previous cell allows to see it.\n",
    "Thus, the distance developped by authors to override this problem is just undoing the matrix inversion in the previous formula and calculating the square norm of the difference : $$$$\n",
    "$$\\mathbb{D}_{lin}(w,\\Phi,e) = \\|\\mathbb{E}_{X^e}[\\Phi(X^e)\\Phi(X^e)^{T}]\\cdot w- \\mathbb{E}_{X^e,Y^e}[\\Phi(X^e)Y^e]\\|^2$$ $$$$\n",
    "This distance can be interpreted as a measure of how much does the classifier $w$ violate the normal equations."
   ]
  },
  {
   "cell_type": "markdown",
   "metadata": {
    "id": "ItmfQxgA7nUR",
    "tags": []
   },
   "source": [
    "#### Question 4"
   ]
  },
  {
   "cell_type": "markdown",
   "metadata": {
    "id": "kyqZV9ka7nUR"
   },
   "source": [
    "Once again, plot $\\mathbb{D}_{lin}(w,\\Phi,e)$ as a function of c with the same parameters than **Question 3**.\n",
    "\n",
    "Spoiler : You should obtain a much more smooth curve this time !!"
   ]
  },
  {
   "cell_type": "code",
   "execution_count": 5,
   "metadata": {
    "colab": {
     "base_uri": "https://localhost:8080/",
     "height": 378
    },
    "id": "RtAVe2vp7nUT",
    "outputId": "28690278-5a87-42de-9354-919d4ac4d12c"
   },
   "outputs": [
    {
     "data": {
      "image/png": "[encoded data removed]",
      "text/plain": [
       "<Figure size 576x360 with 1 Axes>"
      ]
     },
     "metadata": {},
     "output_type": "display_data"
    }
   ],
   "source": [
    "# %load question4\n",
    "import matplotlib.pyplot as plt\n",
    "import numpy as np\n",
    "\n",
    "import matplotlib.pyplot as plt\n",
    "import numpy as np\n",
    "\n",
    "X1, X2, Y = sample(sigma=10, n=10000)\n",
    "\n",
    "Dlin = []\n",
    "C =  np.linspace(-1, 1, 101)\n",
    "w  = np.array([1,0])\n",
    "\n",
    "for c in C:\n",
    "    X=np.concatenate([X1,X2], axis=1)\n",
    "    phi = np.array([[1, 0],\n",
    "                   [0, c]])\n",
    "    u = (phi.T @ X.T @ X @ phi @ w - Y.T @ X @ phi)/Y.shape[0]\n",
    "    Dlin.append((u @ u.T).sum())\n",
    "    #Dlin.append((np.linalg.norm(phi.T @ X.T @ X @ phi @ w - phi.T @ X.T @ Y) / X.shape[0])**2)\n",
    "\n",
    "with plt.xkcd(0.8, 40, 5): #don't hesitate to comment this line if you don't enjoy the graph\n",
    "    fig, ax = plt.subplots(figsize=(8,5))\n",
    "    ax.annotate(\n",
    "        'I did not lie, that is\\n much more smooth',\n",
    "        xy=(0, 0), arrowprops=dict(arrowstyle='->'), xytext=(-0.5, 6000))\n",
    "    ax.plot(C, Dlin)\n",
    "    plt.ylabel('Ddist')\n",
    "    plt.xlabel('c')\n",
    "    plt.title('Influence of the variable c on Dlin')\n",
    "    plt.show()"
   ]
  },
  {
   "cell_type": "markdown",
   "metadata": {
    "id": "j_UcDl_T7nUU"
   },
   "source": [
    "**3) Fixing $w$** \n",
    "\n",
    "Suppose now an invertible mapping $\\Psi:\\mathbb{H}\\rightarrow\\mathbb{H'}$, we can rewrite our invariant predictor $w\\circ\\Phi$ as :$$$$\n",
    "$$w\\circ\\Phi = (w\\circ\\Psi^{-1})\\circ(\\Psi\\circ\\Phi) = \\bar w\\circ\\bar \\Phi$$\n",
    "$$$$\n",
    "This observation is in fact a real issue for our study case. Indeed, if you consider the invertible mapping $\\Psi_{\\gamma}(h) = \\gamma\\cdot h$, the distance $\\mathbb{D}_{lin}(w,\\Phi,e) = \\mathbb{D}_{lin}(\\dfrac1\\gamma \\cdot w,\\gamma\\cdot\\Phi,e)$ tends to zero by letting $\\gamma$ tend to zero, while the ERM term $R^e((\\dfrac1\\gamma \\cdot w) \\circ (\\gamma\\cdot\\Phi))$ is not affected. This is due to the fact that we dealing with an over-parametrized problem.\n",
    "To fix it, the solution is to choose a regressor $\\bar w$ and to restrict our search on data representations for which the optimal classifier on each environnement is the same fixed classifier $\\bar w$. $$$$\n",
    "\n",
    "At this point our function to be minimized can be expressed as : $$$$\n",
    "$$L_{IRM, w=\\bar w}(\\Phi) = \\sum_{e\\in\\xi_{tr}}R^e(\\bar w \\circ \\Phi) + \\lambda\\cdot\\mathbb{D}_{lin}(\\bar w,\\Phi,e)$$\n",
    "\n",
    "**4) Scalar classifier are sufficient to monitor invariance**\n",
    "\n",
    "The previous point suggests we can arbitrarly choose $\\bar w$, in the following we will choose $\\bar w = \\begin{pmatrix}1 & 0 & \\cdots & 0\\end{pmatrix}$. With such a choice, only the first component of the data representation would matter. As it could be surprising, the authors provides a demonstration in the case where the data representation is linear. You can find the explanation in part *3.1.4 Scalar fixed classifiers $\\bar w$ are sufficient to monitor invariance* (*p 8*) and the demonstration of the theorem used in Appendix *B.2 Proof of Theorem 4* (*pp 27-28*)\n",
    "\n",
    "Thus, this choice amounts to take $w=1$ scalar.\n",
    "\n",
    "**5) Final formulation**\n",
    "\n",
    "Remind that $R^e(f):=\\mathbb{E}_{X^e,Y^e}[l(f(X^e),Y^e)]$, then for any convex norm $l$, we get :$$$$\n",
    "$$\\|\\nabla_{w|w=1}R^e(w\\cdot \\Phi)\\|^2 = \\mathbb{D}_{lin}(w,\\Phi,e)$$\n",
    "$$$$\n",
    "By using mini-batches for stochastic gradient descent, an unbiased estimator of this term could be obtained as $$$$\n",
    "$$\\sum\\limits_{k=1}^{B}[\\nabla_{w|w=1}l(w\\cdot\\Phi(X^{e,i}_k),Y^{e,i}_k)\\cdot\\nabla_{w|w=1}l(w\\cdot\\Phi(X^{e,j}_k),Y^{e,j}_k)]$$\n",
    "$$$$\n",
    "with $(X^{e,i}_k,Y^{e,i}_k),(X^{e,j}_k,Y^{e,j}_k)$ two random mini-batches of size $B$."
   ]
  },
  {
   "cell_type": "markdown",
   "metadata": {
    "id": "0T4I0ce37nUU"
   },
   "source": [
    "That's all, you now have all the knowledge required to perform your first invariant risk minimization !!"
   ]
  },
  {
   "cell_type": "markdown",
   "metadata": {
    "id": "xVApHo2g7nUU",
    "tags": []
   },
   "source": [
    "## Let's code and test this model !"
   ]
  },
  {
   "cell_type": "markdown",
   "metadata": {
    "id": "fKRB1U9N7nUV"
   },
   "source": [
    "### 1) Application on our toy example"
   ]
  },
  {
   "cell_type": "markdown",
   "metadata": {
    "id": "iDKnKpyl7nUV"
   },
   "source": [
    "From now we will use torch which provides a very powerful and practical tool to compute gradient ! "
   ]
  },
  {
   "cell_type": "code",
   "execution_count": 6,
   "metadata": {
    "id": "kovVI9cd7nUV"
   },
   "outputs": [],
   "source": [
    "#Generate n samples under environnement sigma\n",
    "def sample_torch(n=10000, sigma=1.0):\n",
    "    X1 = torch.normal(0.0, sigma, size=(n,1))\n",
    "    y = X1 + torch.normal(0.0, sigma, size=(n,1))\n",
    "    X2 = y + torch.normal(0.0, 1, size=(n,1))\n",
    "    return X1, X2, y"
   ]
  },
  {
   "cell_type": "markdown",
   "metadata": {
    "id": "2Vnvsj5K7nUW"
   },
   "source": [
    "#### Question 5"
   ]
  },
  {
   "cell_type": "markdown",
   "metadata": {
    "id": "MeB3dW2m7nUW"
   },
   "source": [
    "From the losses tensor under environnement e $$$$ $$losses=\\begin{pmatrix} \\cdots & l(w\\cdot\\Phi(X^{e}_k),Y^{e}_k)&\\cdots \\end{pmatrix}^T$$ $$$$create a function that computes $\\mathbb{D}_{lin}(w,\\Phi,e)$ thanks to its unbiased estimator.\n",
    "You could use the function *grad* from *torch.autograd* with the attribute *create_graph=True* to compute the gradient."
   ]
  },
  {
   "cell_type": "code",
   "execution_count": 7,
   "metadata": {
    "id": "DOTsp7K47nUW"
   },
   "outputs": [],
   "source": [
    "# %load question5\n",
    "import torch\n",
    "from torch.autograd import grad\n",
    "\n",
    "def D_lin(losses, w):\n",
    "    #shuffle the losses\n",
    "    permutation = torch.randperm(losses.shape[0])\n",
    "    losses = losses[permutation]\n",
    "    \n",
    "    #create two mini-batches of size losses.shape[0]/2\n",
    "    #list[a::n] returns a list containing elements indexed by a+k*n from the original list.\n",
    "    batch_1 = losses[0::2]\n",
    "    batch_2 = losses[1::2]\n",
    "    D = 0\n",
    "    for b1,b2 in tqdm(zip(batch_1, batch_2)):\n",
    "        grad_1 = grad(b1, w, create_graph=True, retain_graph=True)[0]\n",
    "        grad_2 = grad(b2, w, create_graph=True, retain_graph=True)[0] \n",
    "        D += grad_1 * grad_2\n",
    "    return D"
   ]
  },
  {
   "cell_type": "markdown",
   "metadata": {
    "id": "y8hZlRjm7nUW"
   },
   "source": [
    "If you test the previous function with a losses of shape (5000,1), you will see that this function is really long (about 1min50 to run), it is due to the grad function which is really expensive to compute. As the algorithm requires using this function once a epoch, you could imagine how long it will take to train a relatively easy example.\n",
    "\n",
    "Fortunately it is possible to strongly decrease this time of calculation checking that $$$$\n",
    "$$\\sum\\limits_{k=1}^{B}[\\nabla_{w|w=1}l(w\\cdot\\Phi(X^{e,i}_k),Y^{e,i}_k)\\cdot\\nabla_{w|w=1}l(w\\cdot\\Phi(X^{e,j}_k),Y^{e,j}_k)]$$ $$\\simeq B\\cdot\\nabla_{w|w=1}\\dfrac1B\\sum\\limits_{k=1}^{B}\\Phi(X^{e,i}_k),Y^{e,i}_k)\\cdot\\nabla_{w|w=1}\\dfrac1B\\sum\\limits_{k=1}^{B}\\Phi(X^{e,j}_k),Y^{e,j}_k)$$\n",
    "\n",
    "As the trade-off predictive power/invariance is regulated by $\\lambda$, we will overlooked the $B$ coefficient in the previous formula. "
   ]
  },
  {
   "cell_type": "markdown",
   "metadata": {
    "id": "8yUVHcRJ7nUX"
   },
   "source": [
    "#### Question 6"
   ]
  },
  {
   "cell_type": "markdown",
   "metadata": {
    "id": "do1vo5vm7nUX"
   },
   "source": [
    "Use the previous remark to compute an estimation of $\\mathbb{D}_{lin}(w,\\Phi,e)$"
   ]
  },
  {
   "cell_type": "code",
   "execution_count": 8,
   "metadata": {
    "id": "6EFfHwBR7nUX"
   },
   "outputs": [],
   "source": [
    "# %load question6\n",
    "import torch\n",
    "from torch.autograd import grad\n",
    "\n",
    "def D_lin_efficient(losses, w):\n",
    "    #shuffle the losses\n",
    "    permutation = torch.randperm(losses.shape[0])\n",
    "    losses = losses[permutation]\n",
    "    \n",
    "    #create two mini-batches of size losses.shape[0]/2\n",
    "    #list[a::n] returns a list containing elements indexed by a+k*n from the original list.\n",
    "    batch_1 = losses[0::2]\n",
    "    batch_2 = losses[1::2]\n",
    "    \n",
    "    grad_1 = grad(batch_1.mean(), w, create_graph=True)[0] \n",
    "    grad_2 = grad(batch_2.mean(), w, create_graph=True)[0] \n",
    "    \n",
    "    #As the result grad_1 * grad_2 is a tensor of shape [1], \n",
    "    #we use .sum() to \"transform\" it into scalar \n",
    "    return (grad_1 * grad_2).sum() "
   ]
  },
  {
   "cell_type": "markdown",
   "metadata": {
    "id": "vC35SGmV7nUY"
   },
   "source": [
    "We can now put all these elements together and see how well our Invariant Risk Minimization algorithm performs on our original example !!"
   ]
  },
  {
   "cell_type": "code",
   "execution_count": 9,
   "metadata": {
    "id": "wKfTmo3W7nUY"
   },
   "outputs": [],
   "source": [
    "#Define several environnements\n",
    "n = 10000\n",
    "environments = [sample_torch(n=n, sigma=1), sample_torch(n=n, sigma=0.1)]"
   ]
  },
  {
   "cell_type": "code",
   "execution_count": 10,
   "metadata": {
    "id": "-b6kirZP7nUY"
   },
   "outputs": [],
   "source": [
    "# Define parameters, loss and optimizer of the model\n",
    "phi = torch.nn.Parameter(torch.ones((2,1)))\n",
    "w = torch.nn.Parameter(torch.Tensor([1.0]))\n",
    "\n",
    "mse = torch.nn.MSELoss(reduction=\"none\")\n",
    "\n",
    "optimizer = torch.optim.SGD([phi], lr=1e-3) "
   ]
  },
  {
   "cell_type": "code",
   "execution_count": 11,
   "metadata": {
    "id": "nwIi5bVS7nUZ"
   },
   "outputs": [],
   "source": [
    "#Instantiate our penalization coefficient\n",
    "lambda_ = 1e-5"
   ]
  },
  {
   "cell_type": "code",
   "execution_count": 13,
   "metadata": {
    "colab": {
     "base_uri": "https://localhost:8080/"
    },
    "id": "u9L_0Ilz7nUZ",
    "outputId": "7260cc97-3f23-42ae-e2eb-e7e42be0d82a",
    "tags": []
   },
   "outputs": [
    {
     "name": "stderr",
     "output_type": "stream",
     "text": [
      "100%|██████████| 10000/10000 [00:24<00:00, 412.43it/s]"
     ]
    },
    {
     "name": "stdout",
     "output_type": "stream",
     "text": [
      "Parameter containing:\n",
      "tensor([[0.9973],\n",
      "        [0.0411]], requires_grad=True)\n"
     ]
    },
    {
     "name": "stderr",
     "output_type": "stream",
     "text": [
      "\n"
     ]
    }
   ],
   "source": [
    "from tqdm import tqdm\n",
    "\n",
    "for iteration in tqdm(range(10000)):\n",
    "    R = 0\n",
    "    D = 0\n",
    "    for X1,X2, Y in environments:\n",
    "        X = torch.cat((X1,X2),1)\n",
    "        losses = mse(X @ phi * w, Y)\n",
    "        D += D_lin_efficient(losses, w)\n",
    "        R += losses.mean()\n",
    "    \n",
    "    loss = lambda_ * R + D\n",
    "    \n",
    "    optimizer.zero_grad()\n",
    "    loss.backward()\n",
    "    optimizer.step()\n",
    "    \n",
    "print(phi)"
   ]
  },
  {
   "cell_type": "markdown",
   "metadata": {
    "id": "kctBT3_v7nUZ"
   },
   "source": [
    "As expected our algorithm found the value of $\\Phi$ which elicits an invariant regressor. Furthermore, it as converged to it quite quickly (about 10000 steps)."
   ]
  },
  {
   "cell_type": "markdown",
   "metadata": {
    "id": "sTBiulv-7nUa"
   },
   "source": [
    "### 2) A more complex problem "
   ]
  },
  {
   "cell_type": "markdown",
   "metadata": {
    "id": "nXiCGuVm7nUa"
   },
   "source": [
    "We will consider in this part the MNIST dataset and try to classify every image of number as even or odd. To see the performance of the Invariant Risk Minimization paradigm, we will define several environments and apply to each a bias. Specifically, we will give a colour to each image according to the parity of the associated number. Furthermore, the couple of colour will obviouly be different for each environment.  "
   ]
  },
  {
   "cell_type": "code",
   "execution_count": 14,
   "metadata": {
    "colab": {
     "base_uri": "https://localhost:8080/"
    },
    "id": "xHUfXSzy7nUa",
    "outputId": "5d21a069-7123-468f-e4a4-fd280d536f34"
   },
   "outputs": [
    {
     "data": {
      "text/plain": [
       "<torch._C.Generator at 0x7f36b79c23d0>"
      ]
     },
     "execution_count": 14,
     "metadata": {},
     "output_type": "execute_result"
    }
   ],
   "source": [
    "#!pip install torchvision\n",
    "import numpy as np\n",
    "import torch\n",
    "from torchvision import datasets\n",
    "from torch import nn, optim, autograd\n",
    "\n",
    "torch.manual_seed(10)"
   ]
  },
  {
   "cell_type": "code",
   "execution_count": 15,
   "metadata": {
    "id": "lScxzakR7nUb"
   },
   "outputs": [],
   "source": [
    "# Load the MNIST dataset and store both labels and images.\n",
    "mnist = datasets.MNIST('~/datasets/mnist', train=True, download=True)\n",
    "mnist_image, mnist_label = mnist.data[:10000], mnist.targets[:10000]"
   ]
  },
  {
   "cell_type": "code",
   "execution_count": 16,
   "metadata": {
    "id": "JpKb-pYZ7nUb"
   },
   "outputs": [],
   "source": [
    "# Separate odd and even images\n",
    "mnist_even = mnist_image[mnist_label%2==0]\n",
    "mnist_odd = mnist_image[mnist_label%2==1]"
   ]
  },
  {
   "cell_type": "code",
   "execution_count": 17,
   "metadata": {
    "id": "clFV-u8U7nUc"
   },
   "outputs": [],
   "source": [
    "#Define our environment function\n",
    "#To ease the computation, we will downsample every images by a 2 factor.\n",
    "def environment(odd, even, env): #env should be between 0 and 1\n",
    "    #downsample\n",
    "    odd = odd[:,::2,::2]\n",
    "    even = even[:,::2,::2]\n",
    "    \n",
    "    #transform the grayscale image in 2 dimension and modidy the colour in function od env.\n",
    "    odd = torch.stack((env/255*odd,(1-env)/255*odd), 3)\n",
    "    even = torch.stack(((1-env)/255*even,env/255*even), 3)\n",
    "    \n",
    "    #Define the labels\n",
    "    even_label = torch.ones(even.shape[0])\n",
    "    odd_label = torch.zeros(odd.shape[0])\n",
    "    \n",
    "    #Shuffle even and odd images \n",
    "    labels = torch.concat((even_label, odd_label), 0)\n",
    "    images = torch.concat((even, odd), 0)\n",
    "    perm = torch.randperm(len(labels))\n",
    "    \n",
    "    return {\n",
    "      'images': images[perm],\n",
    "      'labels': labels[perm]\n",
    "    }"
   ]
  },
  {
   "cell_type": "markdown",
   "metadata": {
    "id": "8MJWe89f7nUd"
   },
   "source": [
    "Let's see now how looks our images after this preprocessing"
   ]
  },
  {
   "cell_type": "code",
   "execution_count": 18,
   "metadata": {
    "colab": {
     "base_uri": "https://localhost:8080/",
     "height": 342
    },
    "id": "vtFspdac7nUd",
    "outputId": "87df7423-1399-4ec4-d5ba-f75445558552"
   },
   "outputs": [
    {
     "data": {
      "image/png": "[encoded data removed]",
      "text/plain": [
       "<Figure size 720x432 with 10 Axes>"
      ]
     },
     "metadata": {
      "needs_background": "light"
     },
     "output_type": "display_data"
    }
   ],
   "source": [
    "#load images from a random environment \n",
    "\n",
    "example = environment(mnist_odd[:5], mnist_even[:5], 0.2)\n",
    "\n",
    "images = example[\"images\"]\n",
    "labels = example[\"labels\"]\n",
    "\n",
    "fig, axs = plt.subplots(2,5, figsize=(10,6))\n",
    "for k in range(10):\n",
    "    #such a great way to plot, using the euclidean division\n",
    "    axs[k%2,k%5].imshow(torch.concat((images[k], torch.zeros((14,14,1))), 2)) #add a layer in order to have 3 dimensions images\n",
    "    axs[k%2,k%5].set_axis_off()\n",
    "    if (labels[k].item()==1):\n",
    "        axs[k%2,k%5].set_title(\"Even\")\n",
    "    else:\n",
    "        axs[k%2,k%5].set_title(\"Odd\")"
   ]
  },
  {
   "cell_type": "markdown",
   "metadata": {
    "id": "h9bA6Dnp7nUe"
   },
   "source": [
    "Great, it looks exactly like expected ! Feel free to change the previous *env* variable to highlight how the colour is varying under different environments.\n",
    "\n",
    "We now are going to train two neural network to try to classify these previous images : one will be train using traditional ERM (Emprical Risk Minimization), the second one using IRM. In order to be able to comparize them, both neural networks will followthe same architecture."
   ]
  },
  {
   "cell_type": "code",
   "execution_count": 19,
   "metadata": {
    "colab": {
     "base_uri": "https://localhost:8080/",
     "height": 58
    },
    "id": "YzIEJ01k7nUe",
    "outputId": "5937bb5b-ddce-4944-c62a-d39f187df4cf"
   },
   "outputs": [
    {
     "data": {
      "application/vnd.google.colaboratory.intrinsic+json": {
       "type": "string"
      },
      "text/plain": [
       "'cuda'"
      ]
     },
     "execution_count": 19,
     "metadata": {},
     "output_type": "execute_result"
    }
   ],
   "source": [
    "device = \"cuda\" if torch.cuda.is_available() else \"cpu\"\n",
    "device"
   ]
  },
  {
   "cell_type": "code",
   "execution_count": 20,
   "metadata": {
    "id": "3B3othPp7nUf"
   },
   "outputs": [],
   "source": [
    "# Define our neural networks, in the case of IRM, the network will play the role of Phi.\n",
    "\n",
    "model_irm = nn.Sequential(nn.Linear(14*14*2,200, bias=False),\n",
    "                     nn.ReLU(),\n",
    "                     nn.Linear(200,200, bias=False),\n",
    "                     nn.ReLU(),\n",
    "                     nn.Linear(200,1, bias=False),\n",
    "                     nn.Sigmoid())\n",
    "\n",
    "model_erm = nn.Sequential(nn.Linear(14*14*2,200, bias=False),\n",
    "                     nn.ReLU(),\n",
    "                     nn.Linear(200,200, bias=False),\n",
    "                     nn.ReLU(),\n",
    "                     nn.Linear(200,1, bias=False),\n",
    "                     nn.Sigmoid())\n",
    "\n",
    "model_irm = model_irm.to(device)\n",
    "model_erm = model_erm.to(device)"
   ]
  },
  {
   "cell_type": "code",
   "execution_count": 21,
   "metadata": {
    "id": "7usXTwQh7nUf"
   },
   "outputs": [],
   "source": [
    "# Instantiate our Binary Cross Entropy Loss\n",
    "bce = nn.BCELoss(reduction=\"none\")"
   ]
  },
  {
   "cell_type": "code",
   "execution_count": 22,
   "metadata": {
    "id": "bHpw4_qW7nUg"
   },
   "outputs": [],
   "source": [
    "# Load two different environnements\n",
    "environments = [environment(mnist_odd[:2500], mnist_even[:2500], 0.1), environment(mnist_odd[2500:5000], mnist_even[2500:5000], 0.5)]"
   ]
  },
  {
   "cell_type": "code",
   "execution_count": 23,
   "metadata": {
    "id": "qsHeUXYW7nUg"
   },
   "outputs": [],
   "source": [
    "# Instantiate our optimizers and parameters used by IRM\n",
    "w = torch.nn.Parameter(torch.Tensor([1.0])).to(device)\n",
    "lambda_ = 1e-3\n",
    "\n",
    "optimizer_erm = optim.Adam(model_erm.parameters(), lr=1e-3)\n",
    "optimizer_irm = optim.Adam(model_irm.parameters(), lr=1e-3)"
   ]
  },
  {
   "cell_type": "code",
   "execution_count": 24,
   "metadata": {
    "colab": {
     "base_uri": "https://localhost:8080/"
    },
    "id": "AHP7s4cR7nUg",
    "outputId": "0c78f213-1e20-464b-a1cf-b64b5dfd67bb"
   },
   "outputs": [
    {
     "name": "stderr",
     "output_type": "stream",
     "text": [
      "  0%|          | 9/10000 [00:00<10:54, 15.28it/s]  "
     ]
    },
    {
     "name": "stdout",
     "output_type": "stream",
     "text": [
      "tensor(1.3840, device='cuda:0', grad_fn=<AddBackward0>) tensor(0.0015, device='cuda:0', grad_fn=<AddBackward0>)\n"
     ]
    },
    {
     "name": "stderr",
     "output_type": "stream",
     "text": [
      "  5%|▌         | 519/10000 [00:07<01:35, 99.31it/s]"
     ]
    },
    {
     "name": "stdout",
     "output_type": "stream",
     "text": [
      "tensor(0.0008, device='cuda:0', grad_fn=<AddBackward0>) tensor(0.0008, device='cuda:0', grad_fn=<AddBackward0>)\n"
     ]
    },
    {
     "name": "stderr",
     "output_type": "stream",
     "text": [
      " 10%|█         | 1019/10000 [00:12<01:30, 98.94it/s]"
     ]
    },
    {
     "name": "stdout",
     "output_type": "stream",
     "text": [
      "tensor(0.0001, device='cuda:0', grad_fn=<AddBackward0>) tensor(0.0008, device='cuda:0', grad_fn=<AddBackward0>)\n"
     ]
    },
    {
     "name": "stderr",
     "output_type": "stream",
     "text": [
      " 15%|█▌        | 1519/10000 [00:17<01:24, 100.23it/s]"
     ]
    },
    {
     "name": "stdout",
     "output_type": "stream",
     "text": [
      "tensor(5.4527e-05, device='cuda:0', grad_fn=<AddBackward0>) tensor(0.0011, device='cuda:0', grad_fn=<AddBackward0>)\n"
     ]
    },
    {
     "name": "stderr",
     "output_type": "stream",
     "text": [
      " 20%|██        | 2016/10000 [00:22<01:22, 96.72it/s]"
     ]
    },
    {
     "name": "stdout",
     "output_type": "stream",
     "text": [
      "tensor(2.7891e-05, device='cuda:0', grad_fn=<AddBackward0>) tensor(0.0007, device='cuda:0', grad_fn=<AddBackward0>)\n"
     ]
    },
    {
     "name": "stderr",
     "output_type": "stream",
     "text": [
      " 25%|██▌       | 2518/10000 [00:27<01:14, 99.87it/s]"
     ]
    },
    {
     "name": "stdout",
     "output_type": "stream",
     "text": [
      "tensor(1.6230e-05, device='cuda:0', grad_fn=<AddBackward0>) tensor(0.0007, device='cuda:0', grad_fn=<AddBackward0>)\n"
     ]
    },
    {
     "name": "stderr",
     "output_type": "stream",
     "text": [
      " 30%|███       | 3018/10000 [00:32<01:11, 98.12it/s]"
     ]
    },
    {
     "name": "stdout",
     "output_type": "stream",
     "text": [
      "tensor(1.0199e-05, device='cuda:0', grad_fn=<AddBackward0>) tensor(0.0006, device='cuda:0', grad_fn=<AddBackward0>)\n"
     ]
    },
    {
     "name": "stderr",
     "output_type": "stream",
     "text": [
      " 35%|███▌      | 3513/10000 [00:37<01:05, 98.69it/s]"
     ]
    },
    {
     "name": "stdout",
     "output_type": "stream",
     "text": [
      "tensor(6.7341e-06, device='cuda:0', grad_fn=<AddBackward0>) tensor(0.0005, device='cuda:0', grad_fn=<AddBackward0>)\n"
     ]
    },
    {
     "name": "stderr",
     "output_type": "stream",
     "text": [
      " 40%|████      | 4011/10000 [00:42<01:02, 96.41it/s]"
     ]
    },
    {
     "name": "stdout",
     "output_type": "stream",
     "text": [
      "tensor(4.5964e-06, device='cuda:0', grad_fn=<AddBackward0>) tensor(0.0003, device='cuda:0', grad_fn=<AddBackward0>)\n"
     ]
    },
    {
     "name": "stderr",
     "output_type": "stream",
     "text": [
      " 45%|████▌     | 4514/10000 [00:47<00:54, 99.89it/s] "
     ]
    },
    {
     "name": "stdout",
     "output_type": "stream",
     "text": [
      "tensor(3.2135e-06, device='cuda:0', grad_fn=<AddBackward0>) tensor(0.0002, device='cuda:0', grad_fn=<AddBackward0>)\n"
     ]
    },
    {
     "name": "stderr",
     "output_type": "stream",
     "text": [
      " 50%|█████     | 5018/10000 [00:52<00:49, 99.93it/s]"
     ]
    },
    {
     "name": "stdout",
     "output_type": "stream",
     "text": [
      "tensor(2.2855e-06, device='cuda:0', grad_fn=<AddBackward0>) tensor(0.0004, device='cuda:0', grad_fn=<AddBackward0>)\n"
     ]
    },
    {
     "name": "stderr",
     "output_type": "stream",
     "text": [
      " 55%|█████▌    | 5512/10000 [00:57<00:45, 98.05it/s]"
     ]
    },
    {
     "name": "stdout",
     "output_type": "stream",
     "text": [
      "tensor(1.6472e-06, device='cuda:0', grad_fn=<AddBackward0>) tensor(0.0003, device='cuda:0', grad_fn=<AddBackward0>)\n"
     ]
    },
    {
     "name": "stderr",
     "output_type": "stream",
     "text": [
      " 60%|██████    | 6017/10000 [01:03<00:47, 83.86it/s]"
     ]
    },
    {
     "name": "stdout",
     "output_type": "stream",
     "text": [
      "tensor(1.1977e-06, device='cuda:0', grad_fn=<AddBackward0>) tensor(9.4126e-05, device='cuda:0', grad_fn=<AddBackward0>)\n"
     ]
    },
    {
     "name": "stderr",
     "output_type": "stream",
     "text": [
      " 65%|██████▌   | 6518/10000 [01:08<00:35, 98.26it/s]"
     ]
    },
    {
     "name": "stdout",
     "output_type": "stream",
     "text": [
      "tensor(8.7832e-07, device='cuda:0', grad_fn=<AddBackward0>) tensor(0.0003, device='cuda:0', grad_fn=<AddBackward0>)\n"
     ]
    },
    {
     "name": "stderr",
     "output_type": "stream",
     "text": [
      " 70%|███████   | 7019/10000 [01:13<00:30, 98.16it/s]"
     ]
    },
    {
     "name": "stdout",
     "output_type": "stream",
     "text": [
      "tensor(6.4852e-07, device='cuda:0', grad_fn=<AddBackward0>) tensor(6.3435e-05, device='cuda:0', grad_fn=<AddBackward0>)\n"
     ]
    },
    {
     "name": "stderr",
     "output_type": "stream",
     "text": [
      " 75%|███████▌  | 7514/10000 [01:18<00:24, 99.51it/s]"
     ]
    },
    {
     "name": "stdout",
     "output_type": "stream",
     "text": [
      "tensor(4.8145e-07, device='cuda:0', grad_fn=<AddBackward0>) tensor(6.8537e-05, device='cuda:0', grad_fn=<AddBackward0>)\n"
     ]
    },
    {
     "name": "stderr",
     "output_type": "stream",
     "text": [
      " 80%|████████  | 8016/10000 [01:23<00:20, 97.71it/s]"
     ]
    },
    {
     "name": "stdout",
     "output_type": "stream",
     "text": [
      "tensor(3.5925e-07, device='cuda:0', grad_fn=<AddBackward0>) tensor(4.8238e-05, device='cuda:0', grad_fn=<AddBackward0>)\n"
     ]
    },
    {
     "name": "stderr",
     "output_type": "stream",
     "text": [
      " 85%|████████▌ | 8514/10000 [01:28<00:15, 99.06it/s]"
     ]
    },
    {
     "name": "stdout",
     "output_type": "stream",
     "text": [
      "tensor(2.6831e-07, device='cuda:0', grad_fn=<AddBackward0>) tensor(0.0004, device='cuda:0', grad_fn=<AddBackward0>)\n"
     ]
    },
    {
     "name": "stderr",
     "output_type": "stream",
     "text": [
      " 90%|█████████ | 9019/10000 [01:34<00:10, 97.99it/s]"
     ]
    },
    {
     "name": "stdout",
     "output_type": "stream",
     "text": [
      "tensor(2.0157e-07, device='cuda:0', grad_fn=<AddBackward0>) tensor(0.0002, device='cuda:0', grad_fn=<AddBackward0>)\n"
     ]
    },
    {
     "name": "stderr",
     "output_type": "stream",
     "text": [
      " 95%|█████████▌| 9516/10000 [01:39<00:04, 100.00it/s]"
     ]
    },
    {
     "name": "stdout",
     "output_type": "stream",
     "text": [
      "tensor(1.5143e-07, device='cuda:0', grad_fn=<AddBackward0>) tensor(0.0001, device='cuda:0', grad_fn=<AddBackward0>)\n"
     ]
    },
    {
     "name": "stderr",
     "output_type": "stream",
     "text": [
      "100%|██████████| 10000/10000 [01:44<00:00, 96.10it/s]\n"
     ]
    }
   ],
   "source": [
    "# Training of models\n",
    "from tqdm import tqdm\n",
    "for iteration in tqdm(range(10000)):\n",
    "    R_irm = 0\n",
    "    D_irm = 0\n",
    "    \n",
    "    loss_erm = 0\n",
    "    \n",
    "    for data in environments:\n",
    "        images = data['images']\n",
    "        images = images.view(images.shape[0],-1).to(device)\n",
    "        labels = data['labels'].to(device)\n",
    "        \n",
    "        #IRM loss\n",
    "        losses = bce(model_irm(images).ravel() * w, labels)\n",
    "        grad = autograd.grad(losses.mean(), w, create_graph=True)[0]\n",
    "        D_irm += torch.sum(grad**2)\n",
    "        R_irm += losses.mean()\n",
    "        \n",
    "        #ERM loss\n",
    "        loss_erm += bce(model_erm(images).ravel() * w, labels).mean()\n",
    "        \n",
    "    \n",
    "    loss_irm = lambda_ * R_irm + D_irm\n",
    "    \n",
    "    #Weights update\n",
    "    optimizer_irm.zero_grad()\n",
    "    loss_irm.backward()\n",
    "    optimizer_irm.step()\n",
    "    \n",
    "    optimizer_erm.zero_grad()\n",
    "    loss_erm.backward()\n",
    "    optimizer_erm.step()\n",
    "\n",
    "    if iteration%500==0:\n",
    "      print(loss_erm, loss_irm)"
   ]
  },
  {
   "cell_type": "markdown",
   "metadata": {
    "id": "ry4zlzA37nUh"
   },
   "source": [
    "Both model are trained, let's see now predictions on a test set from another environment !"
   ]
  },
  {
   "cell_type": "code",
   "execution_count": 25,
   "metadata": {
    "id": "JKSrL2ys7nUi"
   },
   "outputs": [],
   "source": [
    "#Load of a test set of image with a different environment than before\n",
    "envtest = environment(mnist_odd[5000:6000], mnist_even[5000:6000], 0.7)\n",
    "im = envtest[\"images\"]\n",
    "lab = envtest[\"labels\"]"
   ]
  },
  {
   "cell_type": "code",
   "execution_count": 26,
   "metadata": {
    "id": "5uDHG6xP7nUi"
   },
   "outputs": [],
   "source": [
    "#Predict the class for both network\n",
    "model_irm = model_irm.to(\"cpu\")\n",
    "model_erm = model_erm.to(\"cpu\")\n",
    "\n",
    "pred_irm = (model_irm(im.view(im.shape[0],-1))>0.5).float().ravel()\n",
    "pred_erm = (model_erm(im.view(im.shape[0],-1))>0.5).float().ravel()"
   ]
  },
  {
   "cell_type": "code",
   "execution_count": 27,
   "metadata": {
    "id": "cQW7PgMu7nUi"
   },
   "outputs": [],
   "source": [
    "#Compute the accuracy\n",
    "accuracy_irm = (pred_irm==lab).float().mean()\n",
    "accuracy_erm = (pred_erm==lab).float().mean()"
   ]
  },
  {
   "cell_type": "code",
   "execution_count": 28,
   "metadata": {
    "colab": {
     "base_uri": "https://localhost:8080/"
    },
    "id": "TeiPzrqk7nUj",
    "outputId": "0a5d9536-851c-4f93-91c3-c1e576404332"
   },
   "outputs": [
    {
     "name": "stdout",
     "output_type": "stream",
     "text": [
      "On a different environment, the Ivariant Risk Minimization paradigm achieves an accuracy of 82.857147 percent while the\n",
      "Experiment Risk Minimization achieves 70.000000 percent.\n"
     ]
    }
   ],
   "source": [
    "print('On a different environment, the Ivariant Risk Minimization paradigm achieves an accuracy of %f percent while the\\nExperiment Risk Minimization achieves %f percent.' %(accuracy_irm*100, accuracy_erm*100))"
   ]
  },
  {
   "cell_type": "markdown",
   "metadata": {
    "id": "Dqc-nkeqOC9i"
   },
   "source": [
    "This example illustrates how well our algorithm performs on a new environment. In fact, the traditional neural network has surely used spurious correlations on training set and then achieve 12% less than the one trained by IRM on a new environment ! Nevertheless, our IRM model performs better than the traditiional one but achieves only 82% of accuracy on a task that is quite simple (classifying MNIST number). Indeed, in the case of image data, CNN should be prefered over fully connected, so the choice of fully connected was not the most relevant. You could try to reimplement by yourself the previous code and adapt the IRM procedure with a CNN and look at how well your model generalize over unknown environments\n",
    "\n",
    "# Conlusion\n",
    "\n",
    "Yeah, you did it !! \n",
    "If you read this, well done, you now master Invariant Risk Minimization. This notebook has provided to you the basis for this new paradigm both in theory and in practice. Some aspects of the original article were not presented in this notebook, particularly a discussion about the ability of such an algorithm to generalize to out of distribution data, feel free to read the article https://arxiv.org/pdf/1907.02893.pdf or watch a related video https://www.youtube.com/watch?v=iBlCpJmaBh0 to enrich your comprehension of the subject.\n",
    "\n",
    "I hope this lecture was pleasant and you enjoyed it !\n",
    "\n",
    "<table><tr>\n",
    "<td> <img src=\"images/end.jpeg\" alt=\"Drawing\" style=\"width: 1000px;\"/> </td>\n",
    "</tr></table>"
   ]
  },
  {
   "cell_type": "code",
   "execution_count": null,
   "metadata": {},
   "outputs": [],
   "source": []
  }
 ],
 "metadata": {
  "accelerator": "GPU",
  "colab": {
   "provenance": []
  },
  "gpuClass": "standard",
  "kernelspec": {
   "display_name": "Python 3 (ipykernel)",
   "language": "python",
   "name": "python3"
  },
  "language_info": {
   "codemirror_mode": {
    "name": "ipython",
    "version": 3
   },
   "file_extension": ".py",
   "mimetype": "text/x-python",
   "name": "python",
   "nbconvert_exporter": "python",
   "pygments_lexer": "ipython3",
   "version": "3.9.7"
  }
 },
 "nbformat": 4,
 "nbformat_minor": 4
}
