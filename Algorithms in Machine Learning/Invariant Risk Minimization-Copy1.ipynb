{
 "cells": [
  {
   "cell_type": "markdown",
   "metadata": {
    "id": "cdmxavJ-NnNJ"
   },
   "source": [
    "# Subject 67 - Invariant Risk Minimization"
   ]
  },
  {
   "cell_type": "markdown",
   "metadata": {
    "id": "wGcd3EHYomBj"
   },
   "source": [
    "## Introduction"
   ]
  },
  {
   "cell_type": "markdown",
   "metadata": {},
   "source": [
    "This notebook presents essential results studied in the article **Invariant Risk Minimization** that can be found at https://arxiv.org/pdf/1907.02893.pdf.\n",
    "Because most machine learning algorithms depend on the assumption that training and testing data are sampled independently from the same distribution, it is common practice to shuffle at random the training and testing sets. Nevertheless, this article suggests this is not always the best solution, in fact the origin of your data can contain some useful details and shuffling between all of them can discard some information. To adress this issue, the authors purpose another way of training model.\n",
    "\n",
    "Before introducing this new idea, let's see first what can go wrong with traditional machine learning model through an example:"
   ]
  },
  {
   "cell_type": "markdown",
   "metadata": {},
   "source": [
    "### The camel-cow example"
   ]
  },
  {
   "cell_type": "markdown",
   "metadata": {
    "id": "WE0Lbu3u8GSv"
   },
   "source": [
    "Suppose you are working on an image classification task and you want to determine for each images whether it is a cow image or a camel one. Owing a set of images like the ones below you will surely train a CNN to deal with this task.\n",
    "<table><tr>\n",
    "<td> <img src=\"images/vache1.jpg\" alt=\"Drawing\" style=\"width: 300px;\"/> </td>\n",
    "<td> <img src=\"images/chameau1.jpg\" alt=\"Drawing\" style=\"width: 300px;\"/> </td>\n",
    "</tr></table>\n",
    "<table><tr>\n",
    "<td> <img src=\"images/vache2.jpg\" alt=\"Drawing\" style=\"width: 300px;\"/> </td>\n",
    "<td> <img src=\"images/chameau2.jpg\" alt=\"Drawing\" style=\"width: 300px;\"/> </td>\n",
    "</tr></table>\n",
    "\n",
    "Unfortunately it is much probable that your neural network fails to classify such image :\n",
    "<table><tr>\n",
    "<td> <img src=\"images/vache_desert.jpeg\" alt=\"Drawing\" style=\"width: 300px;\"/> </td>\n",
    "</tr></table>\n",
    "\n",
    "The reason is that your CNN achieved a good training error minimization thanks to a cheat : classfying green and grassy landscape as cows and beige and aride one as camels. In fact, your model has exploited a spurious correlation (between lanscapes and types of animal) to classify your data. Imagine your data comes from two different sources or environnements : in the first one 90% of cows are in a green landscape, in the second one only 70%. Shuffling both of them will lose this information and perhaps misslead to the utilisation of landscape to determine if an animal is a cow. In keeping both environnement and study them disctinclty, you can notice that there is a strong (but spurious) link between grassy environnement and cow that should be discarded."
   ]
  },
  {
   "cell_type": "markdown",
   "metadata": {
    "id": "L-Ht026RpjEf",
    "tags": []
   },
   "source": [
    "## The goal of Invariant Risk Minimization"
   ]
  },
  {
   "cell_type": "markdown",
   "metadata": {
    "tags": []
   },
   "source": [
    "### Definition of the study case "
   ]
  },
  {
   "cell_type": "markdown",
   "metadata": {
    "tags": []
   },
   "source": [
    "The main objective of Invariant Risk Minimization (IRM) is to provide a new learning paradigm in estimating nonlinear, invariant, causal predictors from multiple training environments, which enable out-of-distribution (OOD) generalization.\n",
    "\n",
    "In the following, we will consider datasets $D_e=\\{(x_i^e,y_i^e)\\}_{1\\leq i\\leq n_e}$ from different environnements $e\\in \\xi_{tr}$ where each pair describes the same random variables measured under different conditions.\n",
    "\n",
    "The objective here is to use these environnements to learn a predictor $f$ such that $Y\\approx f(X)$ and which performs well across a large set of unseen but related environments $\\xi_{all} \\supset \\xi_{tr}$.\n",
    "\n",
    "If we denote $R^e(f):=\\mathbb{E}_{X^e,Y^e}[l(f(X^e),Y^e)]$ for a certain loss $l$, the goal to be minimized can be written as : $$$$\n",
    "$$R^{OOD}(f) = max_{e\\in \\xi_{all}}R^e(f)$$"
   ]
  },
  {
   "cell_type": "markdown",
   "metadata": {
    "id": "HJFGQs_jpqlF",
    "tags": []
   },
   "source": [
    "### A first toy example"
   ]
  },
  {
   "cell_type": "markdown",
   "metadata": {
    "id": "HJFGQs_jpqlF",
    "jp-MarkdownHeadingCollapsed": true,
    "tags": []
   },
   "source": [
    "We will define here a concrete and practical example which will be usefull all along this study. \n",
    "\n",
    "Let's consider the three following random variables defined on a set of some environnement $e\\in\\xi_{tr} $ as :\n",
    "$$$$\n",
    "$$X_1^e \\sim \\mathcal{N}(0,\\,\\sigma^{2}_e)$$\n",
    "$$Y^e \\sim X_1^e + \\mathcal{N}(0,\\,\\sigma^{2}_e)$$\n",
    "$$X_2^e \\sim Y^e + \\mathcal{N}(0,\\,1)$$\n",
    "$$$$\n",
    "where $\\xi_{all} $ denotes the set of all possible/existing environnement.\n",
    "$$$$\n",
    "\n",
    "According to you, what will happen if we decide to predict $Y$, knowing $X_1$ and $X_2$ ?"
   ]
  },
  {
   "cell_type": "code",
   "execution_count": 1,
   "metadata": {},
   "outputs": [],
   "source": [
    "# Any idea ?\n",
    "\n"
   ]
  },
  {
   "cell_type": "markdown",
   "metadata": {
    "tags": []
   },
   "source": [
    "#### Question 1 : \n",
    "Define the previous variables on two different environnements (for example $\\sigma=0.1$ and $10)$.\n",
    "Generate a consequent number of samples."
   ]
  },
  {
   "cell_type": "code",
   "execution_count": 21,
   "metadata": {},
   "outputs": [],
   "source": [
    "# %load question1\n",
    "import numpy as np\n",
    "\n",
    "#Generate n samples under environnement sigma\n",
    "def sample(sigma, n):\n",
    "    X1 = np.random.normal(0,sigma,n).reshape(-1,1)\n",
    "    Y = X1 + np.random.normal(0,sigma,n).reshape(-1,1)\n",
    "    X2 = Y + np.random.normal(0,1,n).reshape(-1,1)\n",
    "    return X1, X2, Y\n",
    "\n",
    "n = 10000 # number of samples for each environnement \n",
    "\n",
    "sigma1 = 10 # variance for the environnement 1 noise \n",
    "sigma2 = 0.1 # variance for the environnement 2 noise \n",
    "\n",
    "X1e1, X2e1, Ye1 = sample(sigma1, n)\n",
    "X1e2, X2e2, Ye2 = sample(sigma2, n)"
   ]
  },
  {
   "cell_type": "markdown",
   "metadata": {
    "id": "HJFGQs_jpqlF",
    "jp-MarkdownHeadingCollapsed": true,
    "tags": []
   },
   "source": [
    "$$$$\n",
    "Just before pursuing this case, let's compute now some statistics about these random variables which will be useful later : (you can check these following results with your previous implementation)\n",
    "\n",
    "$\\sigma^2(X_1^e)=\\sigma^{2}_e$,\n",
    "\n",
    "$\\sigma^2(Y^e)=2\\sigma^{2}_e$,\n",
    "\n",
    "$\\sigma^2(X_2^e)=2\\sigma^{2}_e+1$,\n",
    "\n",
    "$\\sigma(X_1^e,Y^e)=\\sigma^{2}_e$,\n",
    "\n",
    "$\\sigma(X_2^e,Y^e)=2\\sigma^{2}_e$,\n",
    "\n",
    "$\\sigma^2(X_1^e,X_2^e)=\\sigma^{2}_e$\n",
    "$$$$"
   ]
  },
  {
   "cell_type": "markdown",
   "metadata": {
    "id": "KhhhPF7PxwVX"
   },
   "source": [
    "In order to predict $Y$, we will consider the three different linear regressions : $Y^e=aX_1^e+c$, $Y^e=bX_2^e+c$ and $Y^e=aX_1^e+bX_2^e+c$ and realize each regression on two distinct environnements."
   ]
  },
  {
   "cell_type": "markdown",
   "metadata": {
    "tags": []
   },
   "source": [
    "#### Question 2"
   ]
  },
  {
   "cell_type": "markdown",
   "metadata": {},
   "source": [
    "Realize the three regressions on two different environnements. For each regression, compare the coefficients between both environnement."
   ]
  },
  {
   "cell_type": "code",
   "execution_count": 139,
   "metadata": {
    "id": "_EYv0a2OpiVx"
   },
   "outputs": [
    {
     "name": "stdout",
     "output_type": "stream",
     "text": [
      "By running such regressions (despite different environnements), one might naively expect to \n",
      "have quite the same result for each pair of regressions on both environnement but this is not \n",
      "the case. \n",
      "For the first regression we obtain 1.006497 as coefficient on environnement 1 and 0.992666 \n",
      "on environnement 2.\n",
      "For the second regression we obtain 0.996178 as coefficient on environnement 1 and 0.019661 \n",
      "on environnement 2.\n",
      "For the third regression we obtain the couple (0.011667, 0.990279) as coefficients on \n",
      "environnement 1 and (0.983004, 0.009805) on environnement 2.\n"
     ]
    }
   ],
   "source": [
    "# %load question2\n",
    "from sklearn.linear_model import LinearRegression\n",
    "import question1\n",
    "\n",
    "def regressor(Y, X):\n",
    "    lr = LinearRegression()\n",
    "    lr.fit(X,Y)\n",
    "    return lr.coef_\n",
    "\n",
    "reg1_env1 = regressor(Ye1,X1e1)[0]\n",
    "reg2_env1 = regressor(Ye1,X2e1)[0]\n",
    "reg3_env1 = regressor(Ye1,np.concatenate([X1e1,X2e1], axis=1))[0]\n",
    "\n",
    "reg1_env2 = regressor(Ye2,X1e2)[0]\n",
    "reg2_env2 = regressor(Ye2,X2e2)[0]\n",
    "reg3_env2 = regressor(Ye2,np.concatenate([X1e2,X2e2], axis=1))[0]\n",
    "                      \n",
    "print(\"By running such regressions (despite different environnements), one might naively expect to \\nhave quite the same result for each pair of regressions on both environnement but this is not \\nthe case. \\nFor the first regression we obtain %f as coefficient on environnement 1 and %f \\non environnement 2.\\nFor the second regression we obtain %f as coefficient on environnement 1 and %f \\non environnement 2.\\nFor the third regression we obtain the couple (%f, %f) as coefficients on \\nenvironnement 1 and (%f, %f) on environnement 2.\" % (reg1_env1, reg1_env2, reg2_env1, reg2_env2, reg3_env1[0], reg3_env1[1], reg3_env2[0], reg3_env2[1]))"
   ]
  },
  {
   "cell_type": "markdown",
   "metadata": {},
   "source": [
    "### Explanation of the results"
   ]
  },
  {
   "cell_type": "markdown",
   "metadata": {
    "id": "zx-Z7G5T7dP3"
   },
   "source": [
    "In our example, only the regression $Y^e=aX_1^e+c$ has given quite the same result on both environnement, let's see more in detail why we obtained these result.\n",
    "\n",
    "Our linear regressor as it is defined solve the Least Square Criterion $$\\min \\frac1n\\sum\\limits_{k=1}^n(y_k-a_1X_1-...-a_mX_m+b)^2$$\n",
    "$$$$\n",
    "The calculation of the annulation point of the gradient (with respect to $(a_i)_i,b$) gives :\n",
    "$$$$\n",
    "$$\\begin{cases}\n",
    "a_1\\sigma^2(x_1)  &=\\sigma(x_1,y) \\\\\n",
    "b &=\\bar{y}-a_1\\bar{x_1}\n",
    "\\end{cases}\\leftrightarrow\\begin{cases}\n",
    "a_1  &=\\frac{\\sigma(x_1,y)}{\\sigma^2(x_1)} \\\\\n",
    "b &=\\bar{y}-a_1\\bar{x_1} \\\\\n",
    "\\end{cases}$$ for the 1D case \n",
    "and : \n",
    "$$$$\n",
    "$$\\begin{cases}\n",
    "a_1\\sigma^2(x_1) + a_2\\sigma(x_1,x_2)  &=\\sigma(x_1,y) \\\\\n",
    "a_1\\sigma(x_1,x_2) + a_2\\sigma^2(x_2)  &=\\sigma(x_2,y) \\\\\n",
    "b &=\\bar{y}-a_1\\bar{x_1}-a_2\\bar{x_2} \\\\\n",
    "\\end{cases}\\leftrightarrow\\begin{cases}\n",
    "a_1  &=\\frac{\\sigma^2(x_2)\\sigma(x_1,y)-\\sigma(x_1,x_2)\\sigma(x_2,y)}{\\sigma^2(x_1)\\sigma^2(x_2)-\\sigma(x_1,x_2)^2} \\\\\n",
    "a_2  &=\\frac{\\sigma^2(x_1)\\sigma(x_2,y)-\\sigma(x_1,x_2)\\sigma(x_1,y)}{\\sigma^2(x_1)\\sigma^2(x_2)-\\sigma(x_1,x_2)^2} \\\\\n",
    "b &=\\bar{y}-a_1\\bar{x_1}-a_2\\bar{x_2} \\\\\n",
    "\\end{cases}$$ for the 2D case \n",
    "\n",
    "\n",
    "\n"
   ]
  },
  {
   "cell_type": "markdown",
   "metadata": {
    "id": "w11TaVcYGBYp"
   },
   "source": [
    "Using these results on our original regressions gives the following analytical solutions : $$$$ \n",
    "$$Y^e = 1\\cdot X_1^e $$\n",
    "$$Y^e = \\frac{\\sigma^2_e}{\\sigma^2_e+0.5}\\cdot X_2^e$$\n",
    "$$Y^e = \\frac{1}{\\sigma^2_e+1}\\cdot X_1^e + \\frac{\\sigma^2_e}{\\sigma^2_e+1}\\cdot X_2^e $$\n",
    "$$$$\n",
    "The regression using $X_1$ is the only one whose coefficients are independant of the environnement; it highlights a invariant correlation contrary to the one using $X_2$. \n",
    "In the following, we will be interesting in finding a way to learn the invariant."
   ]
  },
  {
   "cell_type": "markdown",
   "metadata": {},
   "source": [
    "## How to build an algorithm for Invariant Risk Minimization ?"
   ]
  },
  {
   "cell_type": "markdown",
   "metadata": {},
   "source": [
    "Our goal in this topic is to learn correlations invariant across training environments. In the case of prediction problems if we keep the definition of $R^{OOD}(f)$ as it was previously defined, this means finding a data representation such that the optimal classifier, on top of that data representation, is the same for all environments."
   ]
  },
  {
   "cell_type": "markdown",
   "metadata": {},
   "source": [
    "### Formulation of the IRM algorithm"
   ]
  },
  {
   "cell_type": "markdown",
   "metadata": {},
   "source": [
    "Let's write $\\Phi:\\mathbb{X}\\rightarrow\\mathbb{H}$ a data representation where $\\mathbb{X}$ is the space of our data points $X$, $\\mathbb{H}$ another space and $\\mathbb{Y}$ the space of our output $Y$.\n",
    "We will say that a data representation $\\Phi$ *elicits an invariant predictor $w\\circ\\Phi$ if there exists a classifier $w:\\mathbb{H}\\rightarrow\\mathbb{Y}$ which is optimal simultaneously for all environnement*.\n",
    "Thus, it can be expressed as $w\\in \\displaystyle\\arg\\min_{\\bar w : \\mathbb{H}\\rightarrow\\mathbb{Y} }R^e(\\bar w \\circ \\Phi)$\n",
    "\n",
    "Obviously, every data representation is not equivalent, as for traditionnal we are interested in finding 'the best' one. Finally, a data representation as we have defined it in the context of Invariant Risk Minimization has two main concerns : being useful to predict well and eliciting a invariant predictor.\n",
    "\n",
    "The resolution of the following constrained optimization problem achieved these two objectives.\n",
    "$$$$\n",
    "$$ \\displaystyle \\min_{\\Phi:\\mathbb{X}\\rightarrow\\mathbb{H}, w:\\mathbb{H}\\rightarrow\\mathbb{Y}} \\displaystyle \\sum_{e\\in\\xi_{tr}}R^e(\\bar w \\circ \\Phi)$$\n",
    "$$w\\in \\arg\\min_{\\bar w : \\mathbb{H}\\rightarrow\\mathbb{Y} }R^e(\\bar w \\circ \\Phi)$$\n",
    "\n",
    "Unfortunately, the resolution of such a problem is not easy due to the fact it is bi-leveled."
   ]
  },
  {
   "cell_type": "markdown",
   "metadata": {
    "tags": []
   },
   "source": [
    "### From a complex formulation to a more usable one "
   ]
  },
  {
   "cell_type": "markdown",
   "metadata": {},
   "source": [
    "**1) From constraints to penalty**\n",
    "\n",
    "The previous problem could be reformulate into the following penalized loss where $\\mathbb{D}$ measures how close $w$ is to minimize $R^e(\\bar w \\circ \\Phi)$ and $\\lambda$ is a hyper-parameter handling the trade-off predictive power/invariance. $$$$ $$L_{IRM}(\\Phi,w) = \\sum_{e\\in\\xi_{tr}}R^e(\\bar w \\circ \\Phi) + \\lambda\\cdot\\mathbb{D}(w,\\Phi,e)$$ $$$$\n",
    "In practice we want $\\mathbb{D}$ to be differentiable. From now we will assume that this is the case and that $w$ is a linear classifier. \n",
    "\n",
    "**2) Choice of $\\mathbb{D}$**\n",
    "\n",
    "Among all possibilities we have for $\\mathbb{D}$, one seems more natural than the other; this is the square of the Euclidean distance to the optimal solution $w_{\\Phi}^e = \\mathbb{E}_{X^e}[\\Phi(X^e)\\Phi(X^e)^{T}]^{-1}\\mathbb{E}_{X^e,Y^e}[\\Phi(X^e)Y^e]$ $$$$\n",
    "$$\\mathbb{D}_{dist}(w,\\Phi,e) = \\|w-w_{\\Phi}^e\\|^2$$ $$$$\n",
    "Unfortunately after a deeper analysis this choice turns out to be a poor one."
   ]
  },
  {
   "cell_type": "markdown",
   "metadata": {},
   "source": [
    "#### Question 3"
   ]
  },
  {
   "cell_type": "markdown",
   "metadata": {},
   "source": [
    "Keeping the previous example (with $X_1,Y,X_2$) and the particular case of $\\Phi(x) = x\\cdot Diag([1,c])$ and $w=(1,0)^T$, plot ${D}_{dist}(w,\\Phi,e)$ as a function of c varying from $-1$ to $1$."
   ]
  },
  {
   "cell_type": "markdown",
   "metadata": {},
   "source": [
    "<div class=\"alert alert-warning\"> Do you want some indications ?\n",
    "<details>\n",
    "    <summary>Hint</summary>\n",
    "  Rather than using the exact formula to calculate $w_{\\Phi}^e$, you could consider a linear regression between $\\Phi(X^e)$ and $Y^e$, it should be easier !\n",
    "</details>\n",
    "</div>"
   ]
  },
  {
   "cell_type": "code",
   "execution_count": 140,
   "metadata": {},
   "outputs": [
    {
     "data": {
      "image/png": "[encoded data removed]",
      "text/plain": [
       "<Figure size 576x360 with 1 Axes>"
      ]
     },
     "metadata": {
      "needs_background": "light"
     },
     "output_type": "display_data"
    }
   ],
   "source": [
    "# %load question3\n",
    "import matplotlib.pyplot as plt\n",
    "import numpy as np\n",
    "\n",
    "X1, X2, Y = sample(sigma=10, n=10000)\n",
    "\n",
    "Ddist = []\n",
    "C =  np.linspace(-1, 1, 101)\n",
    "w  = np.array([1,0])\n",
    "\n",
    "for c in C:\n",
    "    X=np.concatenate([X1,X2], axis=1)\n",
    "    phi = np.array([[1, 0],\n",
    "                   [0, c]])\n",
    "    we = regressor(Y, X@phi)\n",
    "    Ddist.append(((we-w)@(we-w).T).sum())\n",
    "plt.figure(figsize=(8,5))\n",
    "plt.ylim(-1, 20)\n",
    "plt.plot(C, Ddist)\n",
    "plt.ylabel('Ddist')\n",
    "plt.xlabel('c')\n",
    "plt.title('Influence of the variable c on the Ddist')\n",
    "plt.show()"
   ]
  },
  {
   "cell_type": "markdown",
   "metadata": {},
   "source": [
    "The previous curve exhibits a clear issue with $\\mathbb{D}_{dist}$ : it is discontinous at $c=0$ which is the targeted value eliciting an invariant predictor. Even with a severe ridge regression instead of a linear regression, the same phenomenom could be observed, a little change in the previous cell allows to see it.\n",
    "Thus, the distance developped by authors to override this problem is just undoing the matrix inversion in the previous formula and calculating the square norm of the difference : $$$$\n",
    "$$\\mathbb{D}_{lin}(w,\\Phi,e) = \\|\\mathbb{E}_{X^e}[\\Phi(X^e)\\Phi(X^e)^{T}]\\cdot w- \\mathbb{E}_{X^e,Y^e}[\\Phi(X^e)Y^e]\\|^2$$ $$$$\n",
    "This distance can be interpreted as a measure of how much does the classifier $w$ violate the normal equations."
   ]
  },
  {
   "cell_type": "markdown",
   "metadata": {
    "tags": []
   },
   "source": [
    "#### Question 4"
   ]
  },
  {
   "cell_type": "markdown",
   "metadata": {},
   "source": [
    "Once again, plot $\\mathbb{D}_{lin}(w,\\Phi,e)$ as a function of c with the same parameters than **Question 3**.\n",
    "\n",
    "Spoiler : You should obtain a much more smooth curve this time !!"
   ]
  },
  {
   "cell_type": "code",
   "execution_count": 362,
   "metadata": {},
   "outputs": [
    {
     "data": {
      "image/png": "[encoded data removed]",
      "text/plain": [
       "<Figure size 576x360 with 1 Axes>"
      ]
     },
     "metadata": {},
     "output_type": "display_data"
    }
   ],
   "source": [
    "# %load question4\n",
    "import matplotlib.pyplot as plt\n",
    "import numpy as np\n",
    "\n",
    "import matplotlib.pyplot as plt\n",
    "import numpy as np\n",
    "\n",
    "X1, X2, Y = sample(sigma=10, n=10000)\n",
    "\n",
    "Dlin = []\n",
    "C =  np.linspace(-1, 1, 101)\n",
    "w  = np.array([1,0])\n",
    "\n",
    "for c in C:\n",
    "    X=np.concatenate([X1,X2], axis=1)\n",
    "    phi = np.array([[1, 0],\n",
    "                   [0, c]])\n",
    "    u = (phi.T @ X.T @ X @ phi @ w - Y.T @ X @ phi)/Y.shape[0]\n",
    "    Dlin.append((u @ u.T).sum())\n",
    "    #Dlin.append((np.linalg.norm(phi.T @ X.T @ X @ phi @ w - phi.T @ X.T @ Y) / X.shape[0])**2)\n",
    "\n",
    "with plt.xkcd(0.8, 40, 5): #don't hesitate to comment this line if you don't enjoy the graph\n",
    "    fig, ax = plt.subplots(figsize=(8,5))\n",
    "    ax.annotate(\n",
    "        'I did not lie, that is\\n much more smooth',\n",
    "        xy=(0, 0), arrowprops=dict(arrowstyle='->'), xytext=(-0.5, 6000))\n",
    "    ax.plot(C, Dlin)\n",
    "    plt.ylabel('Ddist')\n",
    "    plt.xlabel('c')\n",
    "    plt.title('Influence of the variable c on Dlin')\n",
    "    plt.show()"
   ]
  },
  {
   "cell_type": "markdown",
   "metadata": {},
   "source": [
    "**3) Fixing $w$** \n",
    "\n",
    "Suppose now an invertible mapping $\\Psi:\\mathbb{H}\\rightarrow\\mathbb{H'}$, we can rewrite our invariant predictor $w\\circ\\Phi$ as :$$$$\n",
    "$$w\\circ\\Phi = (w\\circ\\Psi^{-1})\\circ(\\Psi\\circ\\Phi) = \\bar w\\circ\\bar \\Phi$$\n",
    "$$$$\n",
    "This observation is in fact a real issue for our study case. Indeed, if you consider the invertible mapping $\\Psi_{\\gamma}(h) = \\gamma\\cdot h$, the distance $\\mathbb{D}_{lin}(w,\\Phi,e) = \\mathbb{D}_{lin}(\\dfrac1\\gamma \\cdot w,\\gamma\\cdot\\Phi,e)$ tends to zero by letting $\\gamma$ tend to zero, while the ERM term $R^e((\\dfrac1\\gamma \\cdot w) \\circ (\\gamma\\cdot\\Phi))$ is not affected. This is due to the fact that we dealing with an over-parametrized problem.\n",
    "To fix it, the solution is to choose a regressor $\\bar w$ and to restrict our search on data representations for which the optimal classifier on each environnement is the same fixed classifier $\\bar w$. $$$$\n",
    "\n",
    "At this point our function to be minimized can be expressed as : $$$$\n",
    "$$L_{IRM, w=\\bar w}(\\Phi) = \\sum_{e\\in\\xi_{tr}}R^e(\\bar w \\circ \\Phi) + \\lambda\\cdot\\mathbb{D}_{lin}(\\bar w,\\Phi,e)$$\n",
    "\n",
    "**4) Scalar classifier are sufficient to monitor invariance**\n",
    "\n",
    "The previous point suggests we can arbitrarly choose $\\bar w$, in the following we will choose $\\bar w = \\begin{pmatrix}1 & 0 & \\cdots & 0\\end{pmatrix}$. With such a choice, only the first component of the data representation would matter. As it could be surprising, the authors provides a demonstration in the case where the data representation is linear. You can find the explanation in part *3.1.4 Scalar fixed classifiers $\\bar w$ are sufficient to monitor invariance* (*p 8*) and the demonstration of the theorem used in Appendix *B.2 Proof of Theorem 4* (*pp 27-28*)\n",
    "\n",
    "Thus, this choice amounts to take $w=1$ scalar.\n",
    "\n",
    "**5) Final formulation**\n",
    "\n",
    "Remind that $R^e(f):=\\mathbb{E}_{X^e,Y^e}[l(f(X^e),Y^e)]$, then for any convex norm $l$, we get :$$$$\n",
    "$$\\|\\nabla_{w|w=1}R^e(w\\cdot \\Phi)\\|^2 = \\mathbb{D}_{lin}(w,\\Phi,e)$$\n",
    "$$$$\n",
    "By using mini-batches for stochastic gradient descent, an unbiased estimator of this term could be obtained as $$$$\n",
    "$$\\sum\\limits_{k=1}^{B}[\\nabla_{w|w=1}l(w\\cdot\\Phi(X^{e,i}_k),Y^{e,i}_k)\\cdot\\nabla_{w|w=1}l(w\\cdot\\Phi(X^{e,j}_k),Y^{e,j}_k)]$$\n",
    "$$$$\n",
    "with $(X^{e,i}_k,Y^{e,i}_k),(X^{e,j}_k,Y^{e,j}_k)$ two random mini-batches of size $B$."
   ]
  },
  {
   "cell_type": "markdown",
   "metadata": {},
   "source": [
    "That's all, you now have all the knowledge required to perform your first invariant risk minimization !!"
   ]
  },
  {
   "cell_type": "markdown",
   "metadata": {
    "tags": []
   },
   "source": [
    "## Let's code and test this model !"
   ]
  },
  {
   "cell_type": "markdown",
   "metadata": {},
   "source": [
    "### 1) Application on our toy example"
   ]
  },
  {
   "cell_type": "markdown",
   "metadata": {},
   "source": [
    "From now we will use torch which provides a very powerful and practical tool to compute gradient ! "
   ]
  },
  {
   "cell_type": "code",
   "execution_count": 141,
   "metadata": {},
   "outputs": [],
   "source": [
    "#Generate n samples under environnement sigma\n",
    "def sample_torch(n=10000, sigma=1.0):\n",
    "    X1 = torch.normal(0.0, sigma, size=(n,1))\n",
    "    y = X1 + torch.normal(0.0, sigma, size=(n,1))\n",
    "    X2 = y + torch.normal(0.0, 1, size=(n,1))\n",
    "    return X1, X2, y"
   ]
  },
  {
   "cell_type": "markdown",
   "metadata": {},
   "source": [
    "#### Question 5"
   ]
  },
  {
   "cell_type": "markdown",
   "metadata": {},
   "source": [
    "From the losses tensor under environnement e $$$$ $$losses=\\begin{pmatrix} \\cdots & l(w\\cdot\\Phi(X^{e}_k),Y^{e}_k)&\\cdots \\end{pmatrix}^T$$ $$$$create a function that computes $\\mathbb{D}_{lin}(w,\\Phi,e)$ thanks to its unbiased estimator.\n",
    "You could use the function *grad* from *torch.autograd* with the attribute *create_graph=True* to compute the gradient."
   ]
  },
  {
   "cell_type": "code",
   "execution_count": 142,
   "metadata": {},
   "outputs": [],
   "source": [
    "# %load question5\n",
    "import torch\n",
    "from torch.autograd import grad\n",
    "\n",
    "def D_lin(losses, w):\n",
    "    #shuffle the losses\n",
    "    permutation = torch.randperm(losses.shape[0])\n",
    "    losses = losses[permutation]\n",
    "    \n",
    "    #create two mini-batches of size losses.shape[0]/2\n",
    "    #list[a::n] returns a list containing elements indexed by a+k*n from the original list.\n",
    "    batch_1 = losses[0::2]\n",
    "    batch_2 = losses[1::2]\n",
    "    D = 0\n",
    "    for b1,b2 in tqdm(zip(batch_1, batch_2)):\n",
    "        grad_1 = grad(b1, w, create_graph=True, retain_graph=True)[0]\n",
    "        grad_2 = grad(b2, w, create_graph=True, retain_graph=True)[0] \n",
    "        D += grad_1 * grad_2\n",
    "    return D"
   ]
  },
  {
   "cell_type": "markdown",
   "metadata": {},
   "source": [
    "If you test the previous function with a losses of shape (5000,1), you will see that this function is really long (about 1min50 to run), it is due to the grad function which is really expensive to compute. As the algorithm requires using this function once a epoch, you could imagine how long it will take to train a relatively easy example.\n",
    "\n",
    "Fortunately it is possible to strongly decrease this time of calculation checking that $$$$\n",
    "$$\\sum\\limits_{k=1}^{B}[\\nabla_{w|w=1}l(w\\cdot\\Phi(X^{e,i}_k),Y^{e,i}_k)\\cdot\\nabla_{w|w=1}l(w\\cdot\\Phi(X^{e,j}_k),Y^{e,j}_k)]$$ $$\\simeq B\\cdot\\nabla_{w|w=1}\\dfrac1B\\sum\\limits_{k=1}^{B}\\Phi(X^{e,i}_k),Y^{e,i}_k)\\cdot\\nabla_{w|w=1}\\dfrac1B\\sum\\limits_{k=1}^{B}\\Phi(X^{e,j}_k),Y^{e,j}_k)$$\n",
    "\n",
    "As the trade-off predictive power/invariance is regulated by $\\lambda$, we will overlooked the $B$ coefficient in the previous formula. "
   ]
  },
  {
   "cell_type": "markdown",
   "metadata": {},
   "source": [
    "#### Question 6"
   ]
  },
  {
   "cell_type": "markdown",
   "metadata": {},
   "source": [
    "Use the previous remark to compute an estimation of $\\mathbb{D}_{lin}(w,\\Phi,e)$"
   ]
  },
  {
   "cell_type": "code",
   "execution_count": 106,
   "metadata": {},
   "outputs": [],
   "source": [
    "# %load question6\n",
    "import torch\n",
    "from torch.autograd import grad\n",
    "\n",
    "def D_lin_efficient(losses, w):\n",
    "    #shuffle the losses\n",
    "    permutation = torch.randperm(losses.shape[0])\n",
    "    losses = losses[permutation]\n",
    "    \n",
    "    #create two mini-batches of size losses.shape[0]/2\n",
    "    #list[a::n] returns a list containing elements indexed by a+k*n from the original list.\n",
    "    batch_1 = losses[0::2]\n",
    "    batch_2 = losses[1::2]\n",
    "    \n",
    "    grad_1 = grad(batch_1.mean(), w, create_graph=True)[0] \n",
    "    grad_2 = grad(batch_2.mean(), w, create_graph=True)[0] \n",
    "    \n",
    "    #As the result grad_1 * grad_2 is a tensor of shape [1], \n",
    "    #we use .sum() to \"transform\" it into scalar \n",
    "    return (grad_1 * grad_2).sum() "
   ]
  },
  {
   "cell_type": "markdown",
   "metadata": {},
   "source": [
    "We can now put all these elements together and see how well our Invariant Risk Minimization algorithm performs on our original example !!"
   ]
  },
  {
   "cell_type": "code",
   "execution_count": 132,
   "metadata": {},
   "outputs": [],
   "source": [
    "#Define several environnements\n",
    "n = 10000\n",
    "environments = [sample_torch(n=n, sigma=1), sample_torch(n=n, sigma=0.1)]"
   ]
  },
  {
   "cell_type": "code",
   "execution_count": 135,
   "metadata": {},
   "outputs": [],
   "source": [
    "# Define parameters, loss and optimizer of the model\n",
    "phi = torch.nn.Parameter(torch.ones((2,1)))\n",
    "w = torch.nn.Parameter(torch.Tensor([1.0]))\n",
    "\n",
    "mse = torch.nn.MSELoss(reduction=\"none\")\n",
    "\n",
    "optimizer = torch.optim.SGD([phi], lr=1e-3) "
   ]
  },
  {
   "cell_type": "code",
   "execution_count": 136,
   "metadata": {},
   "outputs": [],
   "source": [
    "#Instantiate our penalization coefficient\n",
    "lambda_ = 1e-5"
   ]
  },
  {
   "cell_type": "code",
   "execution_count": 138,
   "metadata": {
    "tags": []
   },
   "outputs": [
    {
     "name": "stderr",
     "output_type": "stream",
     "text": [
      "  0%|                                       | 72/50000 [00:00<02:20, 354.85it/s]"
     ]
    },
    {
     "name": "stdout",
     "output_type": "stream",
     "text": [
      "Parameter containing:\n",
      "tensor([[0.9696],\n",
      "        [0.1162]], requires_grad=True)\n"
     ]
    },
    {
     "name": "stderr",
     "output_type": "stream",
     "text": [
      " 10%|███▊                                 | 5079/50000 [00:16<01:46, 421.07it/s]"
     ]
    },
    {
     "name": "stdout",
     "output_type": "stream",
     "text": [
      "Parameter containing:\n",
      "tensor([[0.9920],\n",
      "        [0.0679]], requires_grad=True)\n"
     ]
    },
    {
     "name": "stderr",
     "output_type": "stream",
     "text": [
      " 20%|███████▎                            | 10072/50000 [00:31<01:48, 369.42it/s]"
     ]
    },
    {
     "name": "stdout",
     "output_type": "stream",
     "text": [
      "Parameter containing:\n",
      "tensor([[0.9972],\n",
      "        [0.0516]], requires_grad=True)\n"
     ]
    },
    {
     "name": "stderr",
     "output_type": "stream",
     "text": [
      " 30%|██████████▊                         | 15031/50000 [00:43<01:48, 322.14it/s]"
     ]
    },
    {
     "name": "stdout",
     "output_type": "stream",
     "text": [
      "Parameter containing:\n",
      "tensor([[0.9994],\n",
      "        [0.0426]], requires_grad=True)\n"
     ]
    },
    {
     "name": "stderr",
     "output_type": "stream",
     "text": [
      " 40%|██████████████▍                     | 20063/50000 [00:58<01:06, 450.81it/s]"
     ]
    },
    {
     "name": "stdout",
     "output_type": "stream",
     "text": [
      "Parameter containing:\n",
      "tensor([[1.0007],\n",
      "        [0.0368]], requires_grad=True)\n"
     ]
    },
    {
     "name": "stderr",
     "output_type": "stream",
     "text": [
      " 50%|██████████████████                  | 25045/50000 [01:09<01:02, 400.78it/s]"
     ]
    },
    {
     "name": "stdout",
     "output_type": "stream",
     "text": [
      "Parameter containing:\n",
      "tensor([[1.0014],\n",
      "        [0.0329]], requires_grad=True)\n"
     ]
    },
    {
     "name": "stderr",
     "output_type": "stream",
     "text": [
      " 60%|█████████████████████▋              | 30088/50000 [01:20<00:43, 460.29it/s]"
     ]
    },
    {
     "name": "stdout",
     "output_type": "stream",
     "text": [
      "Parameter containing:\n",
      "tensor([[1.0020],\n",
      "        [0.0296]], requires_grad=True)\n"
     ]
    },
    {
     "name": "stderr",
     "output_type": "stream",
     "text": [
      " 70%|█████████████████████████▎          | 35080/50000 [01:31<00:32, 458.86it/s]"
     ]
    },
    {
     "name": "stdout",
     "output_type": "stream",
     "text": [
      "Parameter containing:\n",
      "tensor([[1.0024],\n",
      "        [0.0272]], requires_grad=True)\n"
     ]
    },
    {
     "name": "stderr",
     "output_type": "stream",
     "text": [
      " 80%|████████████████████████████▊       | 40053/50000 [01:42<00:21, 460.01it/s]"
     ]
    },
    {
     "name": "stdout",
     "output_type": "stream",
     "text": [
      "Parameter containing:\n",
      "tensor([[1.0027],\n",
      "        [0.0251]], requires_grad=True)\n"
     ]
    },
    {
     "name": "stderr",
     "output_type": "stream",
     "text": [
      " 90%|████████████████████████████████▍   | 45051/50000 [01:53<00:11, 434.59it/s]"
     ]
    },
    {
     "name": "stdout",
     "output_type": "stream",
     "text": [
      "Parameter containing:\n",
      "tensor([[1.0029],\n",
      "        [0.0235]], requires_grad=True)\n"
     ]
    },
    {
     "name": "stderr",
     "output_type": "stream",
     "text": [
      "100%|████████████████████████████████████| 50000/50000 [02:04<00:00, 400.53it/s]\n"
     ]
    }
   ],
   "source": [
    "from tqdm import tqdm\n",
    "\n",
    "for iteration in tqdm(range(50000)):\n",
    "    R = 0\n",
    "    D = 0\n",
    "    for X1,X2, Y in environments:\n",
    "        X = torch.cat((X1,X2),1)\n",
    "        losses = mse(X @ phi * w, Y)\n",
    "        D += D_lin_efficient(losses, w)\n",
    "        R += losses.mean()\n",
    "    \n",
    "    loss = lambda_ * R + D\n",
    "    \n",
    "    optimizer.zero_grad()\n",
    "    loss.backward()\n",
    "    optimizer.step()\n",
    "    \n",
    "    if iteration % 5000 == 0: print(phi)"
   ]
  },
  {
   "cell_type": "markdown",
   "metadata": {},
   "source": [
    "As expected our algorithm found the value of $\\Phi$ which elicits an invariant regressor. Furthermore, it as converged to it quite quickly (about 10000 steps)."
   ]
  },
  {
   "cell_type": "markdown",
   "metadata": {},
   "source": [
    "### 2) A more complex problem "
   ]
  },
  {
   "cell_type": "code",
   "execution_count": 572,
   "metadata": {},
   "outputs": [],
   "source": [
    "#!pip install torchvision\n",
    "import numpy as np\n",
    "import torch\n",
    "from torchvision import datasets\n",
    "from torch import nn, optim, autograd\n",
    "\n",
    "\n",
    "# Load MNIST, make train/val splits, and shuffle train set examples\n",
    "\n",
    "mnist = datasets.MNIST('~/datasets/mnist', train=True, download=True)\n",
    "mnist_image, mnist_label = mnist.data[:10000], mnist.targets[:10000]"
   ]
  },
  {
   "cell_type": "code",
   "execution_count": 558,
   "metadata": {},
   "outputs": [],
   "source": [
    "mnist_even = mnist_image[mnist_label%2==0]\n",
    "mnist_odd = mnist_image[mnist_label%2==1]"
   ]
  },
  {
   "cell_type": "code",
   "execution_count": 559,
   "metadata": {},
   "outputs": [],
   "source": [
    "def environment(odd, even, env):\n",
    "    odd = odd[:,::2,::2]\n",
    "    even = even[:,::2,::2]\n",
    "    odd = torch.stack((env/255*odd,(1-env)/255*odd), 3)\n",
    "    even = torch.stack(((1-env)/255*even,env/255*even), 3)\n",
    "    even_label = torch.ones(even.shape[0])\n",
    "    odd_label = torch.zeros(odd.shape[0])\n",
    "    labels = torch.concat((even_label, odd_label), 0)\n",
    "    images = torch.concat((even, odd), 0)\n",
    "    perm = torch.randperm(len(labels))\n",
    "    \n",
    "    return {\n",
    "      'images': images[perm],\n",
    "      'labels': labels[perm]\n",
    "    }"
   ]
  },
  {
   "cell_type": "code",
   "execution_count": 561,
   "metadata": {},
   "outputs": [
    {
     "data": {
      "image/png": "[encoded data removed]",
      "text/plain": [
       "<Figure size 720x432 with 10 Axes>"
      ]
     },
     "metadata": {
      "needs_background": "light"
     },
     "output_type": "display_data"
    }
   ],
   "source": [
    "test = environment(mnist_odd[:5], mnist_even[:5], 0.2)\n",
    "\n",
    "images = test[\"images\"]\n",
    "labels = test[\"labels\"]\n",
    "\n",
    "fig, axs = plt.subplots(2,5, figsize=(10,6))\n",
    "for k in range(10):\n",
    "    #such a great way to plot, using the euclidean division\n",
    "    axs[k%2,k%5].imshow(torch.concat((images[k], torch.zeros((14,14,1))), 2))\n",
    "    axs[k%2,k%5].set_axis_off()\n",
    "    axs[k%2,k%5].set_title(labels[k].item())"
   ]
  },
  {
   "cell_type": "code",
   "execution_count": 562,
   "metadata": {},
   "outputs": [],
   "source": [
    "model_irm = nn.Sequential(nn.Linear(14*14*2,400, bias=False),\n",
    "                     nn.ReLU(),\n",
    "                     nn.Linear(400,400, bias=False),\n",
    "                     nn.ReLU(),\n",
    "                     nn.Linear(400,1, bias=False),\n",
    "                     nn.Sigmoid())\n",
    "\n",
    "model_erm = nn.Sequential(nn.Linear(14*14*2,400, bias=False),\n",
    "                     nn.ReLU(),\n",
    "                     nn.Linear(400,400, bias=False),\n",
    "                     nn.ReLU(),\n",
    "                     nn.Linear(400,1, bias=False),\n",
    "                     nn.Sigmoid())"
   ]
  },
  {
   "cell_type": "code",
   "execution_count": 563,
   "metadata": {},
   "outputs": [],
   "source": [
    "bce = nn.BCELoss(reduction=\"none\")"
   ]
  },
  {
   "cell_type": "code",
   "execution_count": 564,
   "metadata": {},
   "outputs": [],
   "source": [
    "environments = [environment(mnist_odd[:1000], mnist_even[:1000], 0.1), environment(mnist_odd[1000:2000], mnist_even[1000:2000], 0.5)]"
   ]
  },
  {
   "cell_type": "code",
   "execution_count": 565,
   "metadata": {},
   "outputs": [
    {
     "name": "stderr",
     "output_type": "stream",
     "text": [
      "100%|███████████████████████████████████████| 5000/5000 [18:48<00:00,  4.43it/s]\n"
     ]
    }
   ],
   "source": [
    "def D_(losses, w):\n",
    "    grad = autograd.grad(losses.mean(), w, create_graph=True)[0]\n",
    "    return torch.sum(grad**2)\n",
    "\n",
    "w = torch.nn.Parameter(torch.Tensor([1.0]))\n",
    "lambda_ = 1e-3\n",
    "optimizer_erm = optim.Adam(model_erm.parameters(), lr=1e-3)\n",
    "optimizer_irm = optim.Adam(model_irm.parameters(), lr=1e-3)\n",
    "\n",
    "for iteration in tqdm(range(5000)):\n",
    "    R_irm = 0\n",
    "    D_irm = 0\n",
    "    \n",
    "    loss_erm = 0\n",
    "    \n",
    "    for data in environments:\n",
    "        images = data['images']\n",
    "        images = images.view(images.shape[0],-1)\n",
    "        labels = data['labels']\n",
    "        \n",
    "        losses = bce(model_irm(images).ravel() * w, labels)\n",
    "        D_irm += D_(losses, w)#_lin_efficient(losses, w)\n",
    "        R_irm += losses.mean()\n",
    "        \n",
    "        loss_erm += bce(model_erm(images).ravel() * w, labels).mean()\n",
    "        \n",
    "    \n",
    "    loss_irm = lambda_ * R_irm + D_irm\n",
    "    \n",
    "    optimizer_irm.zero_grad()\n",
    "    loss_irm.backward()\n",
    "    optimizer_irm.step()\n",
    "    \n",
    "    optimizer_erm.zero_grad()\n",
    "    loss_erm.backward()\n",
    "    optimizer_erm.step()"
   ]
  },
  {
   "cell_type": "code",
   "execution_count": 566,
   "metadata": {},
   "outputs": [],
   "source": [
    "envtest = environment(mnist_odd[2500:3000], mnist_even[3000:3500], 0.7)\n",
    "im = envtest[\"images\"]\n",
    "lab = envtest[\"labels\"]"
   ]
  },
  {
   "cell_type": "code",
   "execution_count": 567,
   "metadata": {},
   "outputs": [],
   "source": [
    "pred_irm = (model_irm(im.view(im.shape[0],-1))>0.5).float().ravel()\n",
    "pred_erm = (model_erm(im.view(im.shape[0],-1))>0.5).float().ravel()"
   ]
  },
  {
   "cell_type": "code",
   "execution_count": 568,
   "metadata": {},
   "outputs": [],
   "source": [
    "accuracy_irm = (pred_irm==lab).float().mean()\n",
    "accuracy_erm = (pred_erm==lab).float().mean()"
   ]
  },
  {
   "cell_type": "code",
   "execution_count": 571,
   "metadata": {},
   "outputs": [
    {
     "name": "stdout",
     "output_type": "stream",
     "text": [
      "On a different environment, the Ivariant Risk Minimization paradigm achieves an accuracy of 56.900002 percent while the\n",
      "Experiment Risk Minimization achieves 32.400002 percent.\n"
     ]
    }
   ],
   "source": [
    "print('On a different environment, the Ivariant Risk Minimization paradigm achieves an accuracy of %f percent while the\\nExperiment Risk Minimization achieves %f percent.' %(accuracy_irm*100, accuracy_erm*100))"
   ]
  },
  {
   "cell_type": "markdown",
   "metadata": {},
   "source": [
    "# A bouger si ca marche au dessus"
   ]
  },
  {
   "cell_type": "code",
   "execution_count": 556,
   "metadata": {},
   "outputs": [],
   "source": [
    "#!pip install torchvision"
   ]
  },
  {
   "cell_type": "code",
   "execution_count": 145,
   "metadata": {},
   "outputs": [
    {
     "name": "stdout",
     "output_type": "stream",
     "text": [
      "Downloading http://yann.lecun.com/exdb/mnist/train-images-idx3-ubyte.gz\n",
      "Downloading http://yann.lecun.com/exdb/mnist/train-images-idx3-ubyte.gz to /Users/clementnicolle/datasets/mnist/MNIST/raw/train-images-idx3-ubyte.gz\n"
     ]
    },
    {
     "data": {
      "application/vnd.jupyter.widget-view+json": {
       "model_id": "52d057771baa4cd48eaf71627da27b26",
       "version_major": 2,
       "version_minor": 0
      },
      "text/plain": [
       "  0%|          | 0/9912422 [00:00<?, ?it/s]"
      ]
     },
     "metadata": {},
     "output_type": "display_data"
    },
    {
     "name": "stdout",
     "output_type": "stream",
     "text": [
      "Extracting /Users/clementnicolle/datasets/mnist/MNIST/raw/train-images-idx3-ubyte.gz to /Users/clementnicolle/datasets/mnist/MNIST/raw\n",
      "\n",
      "Downloading http://yann.lecun.com/exdb/mnist/train-labels-idx1-ubyte.gz\n",
      "Downloading http://yann.lecun.com/exdb/mnist/train-labels-idx1-ubyte.gz to /Users/clementnicolle/datasets/mnist/MNIST/raw/train-labels-idx1-ubyte.gz\n"
     ]
    },
    {
     "data": {
      "application/vnd.jupyter.widget-view+json": {
       "model_id": "6e2194bfa0f641ebb0e0faf40a0becb2",
       "version_major": 2,
       "version_minor": 0
      },
      "text/plain": [
       "  0%|          | 0/28881 [00:00<?, ?it/s]"
      ]
     },
     "metadata": {},
     "output_type": "display_data"
    },
    {
     "name": "stdout",
     "output_type": "stream",
     "text": [
      "Extracting /Users/clementnicolle/datasets/mnist/MNIST/raw/train-labels-idx1-ubyte.gz to /Users/clementnicolle/datasets/mnist/MNIST/raw\n",
      "\n",
      "Downloading http://yann.lecun.com/exdb/mnist/t10k-images-idx3-ubyte.gz\n",
      "Downloading http://yann.lecun.com/exdb/mnist/t10k-images-idx3-ubyte.gz to /Users/clementnicolle/datasets/mnist/MNIST/raw/t10k-images-idx3-ubyte.gz\n"
     ]
    },
    {
     "data": {
      "application/vnd.jupyter.widget-view+json": {
       "model_id": "729172b6e2534c299d25d98dd5403e63",
       "version_major": 2,
       "version_minor": 0
      },
      "text/plain": [
       "  0%|          | 0/1648877 [00:00<?, ?it/s]"
      ]
     },
     "metadata": {},
     "output_type": "display_data"
    },
    {
     "name": "stdout",
     "output_type": "stream",
     "text": [
      "Extracting /Users/clementnicolle/datasets/mnist/MNIST/raw/t10k-images-idx3-ubyte.gz to /Users/clementnicolle/datasets/mnist/MNIST/raw\n",
      "\n",
      "Downloading http://yann.lecun.com/exdb/mnist/t10k-labels-idx1-ubyte.gz\n",
      "Downloading http://yann.lecun.com/exdb/mnist/t10k-labels-idx1-ubyte.gz to /Users/clementnicolle/datasets/mnist/MNIST/raw/t10k-labels-idx1-ubyte.gz\n"
     ]
    },
    {
     "data": {
      "application/vnd.jupyter.widget-view+json": {
       "model_id": "c880d968700048c19775c6113e22be3e",
       "version_major": 2,
       "version_minor": 0
      },
      "text/plain": [
       "  0%|          | 0/4542 [00:00<?, ?it/s]"
      ]
     },
     "metadata": {},
     "output_type": "display_data"
    },
    {
     "name": "stdout",
     "output_type": "stream",
     "text": [
      "Extracting /Users/clementnicolle/datasets/mnist/MNIST/raw/t10k-labels-idx1-ubyte.gz to /Users/clementnicolle/datasets/mnist/MNIST/raw\n",
      "\n"
     ]
    }
   ],
   "source": [
    "import numpy as np\n",
    "import torch\n",
    "from torchvision import datasets\n",
    "from torch import nn, optim, autograd\n",
    "\n",
    "\n",
    "# Load MNIST, make train/val splits, and shuffle train set examples\n",
    "\n",
    "mnist = datasets.MNIST('~/datasets/mnist', train=True, download=True)\n",
    "mnist_train = (mnist.data[:50000], mnist.targets[:50000])\n",
    "mnist_val = (mnist.data[50000:], mnist.targets[50000:])\n",
    "\n",
    "rng_state = np.random.get_state()\n",
    "np.random.shuffle(mnist_train[0].numpy())\n",
    "np.random.set_state(rng_state)\n",
    "np.random.shuffle(mnist_train[1].numpy())"
   ]
  },
  {
   "cell_type": "code",
   "execution_count": 173,
   "metadata": {},
   "outputs": [],
   "source": [
    "mnist_image, mnist_label = mnist.data[:10000], mnist.targets[:10000]"
   ]
  },
  {
   "cell_type": "code",
   "execution_count": 180,
   "metadata": {},
   "outputs": [
    {
     "data": {
      "text/plain": [
       "tensor([False, False, False,  ..., False, False, False])"
      ]
     },
     "execution_count": 180,
     "metadata": {},
     "output_type": "execute_result"
    }
   ],
   "source": [
    "mnist_label%2==0"
   ]
  },
  {
   "cell_type": "code",
   "execution_count": 234,
   "metadata": {},
   "outputs": [],
   "source": [
    "mnist_even = mnist_image[mnist_label%2==0]\n",
    "mnist_odd = mnist_image[mnist_label%2==1]"
   ]
  },
  {
   "cell_type": "code",
   "execution_count": 248,
   "metadata": {},
   "outputs": [],
   "source": [
    "def environment(odd, even, env):\n",
    "    odd = odd[:,::2,::2]\n",
    "    even = even[:,::2,::2]\n",
    "    odd = torch.stack((env/255*odd,(1-env)/255*odd), 3)\n",
    "    even = torch.stack(((1-env)/255*even,env/255*even), 3)\n",
    "    even_label = torch.ones(even.shape[0])\n",
    "    odd_label = torch.zeros(odd.shape[0])\n",
    "    labels = torch.concat((even_label, odd_label), 0)\n",
    "    images = torch.concat((even, odd), 0)\n",
    "    perm = torch.randperm(len(labels))\n",
    "    \n",
    "    return {\n",
    "      'images': images[perm],\n",
    "      'labels': labels[perm]\n",
    "    }"
   ]
  },
  {
   "cell_type": "code",
   "execution_count": 300,
   "metadata": {},
   "outputs": [
    {
     "data": {
      "image/png": "[encoded data removed]",
      "text/plain": [
       "<Figure size 720x432 with 10 Axes>"
      ]
     },
     "metadata": {
      "needs_background": "light"
     },
     "output_type": "display_data"
    }
   ],
   "source": [
    "test = environment(mnist_odd[:5], mnist_even[:5], 0.2)\n",
    "\n",
    "images = test[\"images\"]\n",
    "labels = test[\"labels\"]\n",
    "\n",
    "fig, axs = plt.subplots(2,5, figsize=(10,6))\n",
    "for k in range(10):\n",
    "    #such a great way to plot, using the euclidean division\n",
    "    axs[k%2,k%5].imshow(torch.concat((images[k], torch.zeros((14,14,1))), 2))\n",
    "    axs[k%2,k%5].set_axis_off()\n",
    "    axs[k%2,k%5].set_title(labels[k].item())"
   ]
  },
  {
   "cell_type": "code",
   "execution_count": 517,
   "metadata": {},
   "outputs": [],
   "source": [
    "model = nn.Sequential(nn.Linear(14*14*2,400, bias=False),\n",
    "                     nn.ReLU(),\n",
    "                     nn.Linear(400,400, bias=False),\n",
    "                     nn.ReLU(),\n",
    "                     nn.Linear(400,1, bias=False),\n",
    "                     nn.Sigmoid())"
   ]
  },
  {
   "cell_type": "code",
   "execution_count": 518,
   "metadata": {},
   "outputs": [
    {
     "data": {
      "text/plain": [
       "torch.Size([2000, 392])"
      ]
     },
     "execution_count": 518,
     "metadata": {},
     "output_type": "execute_result"
    }
   ],
   "source": [
    "A = images.view(images.shape[0],-1)\n",
    "A.shape"
   ]
  },
  {
   "cell_type": "code",
   "execution_count": 519,
   "metadata": {},
   "outputs": [
    {
     "data": {
      "text/plain": [
       "torch.Size([2000])"
      ]
     },
     "execution_count": 519,
     "metadata": {},
     "output_type": "execute_result"
    }
   ],
   "source": [
    "model(A).ravel().shape"
   ]
  },
  {
   "cell_type": "code",
   "execution_count": 520,
   "metadata": {
    "tags": []
   },
   "outputs": [],
   "source": [
    "bce = nn.BCELoss(reduction=\"none\")\n",
    "#bce(model(A).ravel(),labels)"
   ]
  },
  {
   "cell_type": "code",
   "execution_count": 521,
   "metadata": {},
   "outputs": [],
   "source": [
    "environments = [environment(mnist_odd[:1000], mnist_even[:1000], 0.1), environment(mnist_odd[1000:2000], mnist_even[1000:2000], 0.5)]"
   ]
  },
  {
   "cell_type": "code",
   "execution_count": 522,
   "metadata": {},
   "outputs": [],
   "source": [
    "def D_(losses, w):\n",
    "    grad = autograd.grad(losses.mean(), w, create_graph=True)[0]\n",
    "    return torch.sum(grad**2)"
   ]
  },
  {
   "cell_type": "code",
   "execution_count": 523,
   "metadata": {
    "collapsed": true,
    "jupyter": {
     "outputs_hidden": true
    },
    "tags": []
   },
   "outputs": [
    {
     "name": "stderr",
     "output_type": "stream",
     "text": [
      "  0%|                                         | 1/10000 [00:00<18:09,  9.18it/s]"
     ]
    },
    {
     "name": "stdout",
     "output_type": "stream",
     "text": [
      "tensor(2.9167e-06, grad_fn=<AddBackward0>)\n",
      "tensor(1.3890, grad_fn=<AddBackward0>)\n"
     ]
    },
    {
     "name": "stderr",
     "output_type": "stream",
     "text": [
      "  1%|▍                                      | 103/10000 [00:05<08:52, 18.59it/s]"
     ]
    },
    {
     "name": "stdout",
     "output_type": "stream",
     "text": [
      "tensor(6.4228e-06, grad_fn=<AddBackward0>)\n",
      "tensor(1.2153, grad_fn=<AddBackward0>)\n"
     ]
    },
    {
     "name": "stderr",
     "output_type": "stream",
     "text": [
      "  2%|▊                                      | 203/10000 [00:11<09:00, 18.12it/s]"
     ]
    },
    {
     "name": "stdout",
     "output_type": "stream",
     "text": [
      "tensor(4.8083e-07, grad_fn=<AddBackward0>)\n",
      "tensor(0.8503, grad_fn=<AddBackward0>)\n"
     ]
    },
    {
     "name": "stderr",
     "output_type": "stream",
     "text": [
      "  3%|█▏                                     | 303/10000 [00:16<08:46, 18.42it/s]"
     ]
    },
    {
     "name": "stdout",
     "output_type": "stream",
     "text": [
      "tensor(6.3330e-08, grad_fn=<AddBackward0>)\n",
      "tensor(0.8230, grad_fn=<AddBackward0>)\n"
     ]
    },
    {
     "name": "stderr",
     "output_type": "stream",
     "text": [
      "  4%|█▌                                     | 403/10000 [00:22<08:36, 18.57it/s]"
     ]
    },
    {
     "name": "stdout",
     "output_type": "stream",
     "text": [
      "tensor(5.6718e-07, grad_fn=<AddBackward0>)\n",
      "tensor(0.8083, grad_fn=<AddBackward0>)\n"
     ]
    },
    {
     "name": "stderr",
     "output_type": "stream",
     "text": [
      "  5%|█▉                                     | 503/10000 [00:27<09:01, 17.53it/s]"
     ]
    },
    {
     "name": "stdout",
     "output_type": "stream",
     "text": [
      "tensor(1.4239e-05, grad_fn=<AddBackward0>)\n",
      "tensor(0.7990, grad_fn=<AddBackward0>)\n"
     ]
    },
    {
     "name": "stderr",
     "output_type": "stream",
     "text": [
      "  6%|██▎                                    | 603/10000 [00:33<10:00, 15.66it/s]"
     ]
    },
    {
     "name": "stdout",
     "output_type": "stream",
     "text": [
      "tensor(2.1891e-05, grad_fn=<AddBackward0>)\n",
      "tensor(0.7653, grad_fn=<AddBackward0>)\n"
     ]
    },
    {
     "name": "stderr",
     "output_type": "stream",
     "text": [
      "  7%|██▋                                    | 703/10000 [00:39<08:41, 17.82it/s]"
     ]
    },
    {
     "name": "stdout",
     "output_type": "stream",
     "text": [
      "tensor(8.0013e-06, grad_fn=<AddBackward0>)\n",
      "tensor(0.7460, grad_fn=<AddBackward0>)\n"
     ]
    },
    {
     "name": "stderr",
     "output_type": "stream",
     "text": [
      "  8%|███▏                                   | 803/10000 [00:45<08:35, 17.85it/s]"
     ]
    },
    {
     "name": "stdout",
     "output_type": "stream",
     "text": [
      "tensor(6.1838e-05, grad_fn=<AddBackward0>)\n",
      "tensor(0.7775, grad_fn=<AddBackward0>)\n"
     ]
    },
    {
     "name": "stderr",
     "output_type": "stream",
     "text": [
      "  9%|███▌                                   | 903/10000 [00:50<08:21, 18.14it/s]"
     ]
    },
    {
     "name": "stdout",
     "output_type": "stream",
     "text": [
      "tensor(4.0483e-08, grad_fn=<AddBackward0>)\n",
      "tensor(0.7384, grad_fn=<AddBackward0>)\n"
     ]
    },
    {
     "name": "stderr",
     "output_type": "stream",
     "text": [
      " 10%|███▊                                  | 1003/10000 [00:56<08:17, 18.08it/s]"
     ]
    },
    {
     "name": "stdout",
     "output_type": "stream",
     "text": [
      "tensor(3.0218e-06, grad_fn=<AddBackward0>)\n",
      "tensor(0.7002, grad_fn=<AddBackward0>)\n"
     ]
    },
    {
     "name": "stderr",
     "output_type": "stream",
     "text": [
      " 11%|████▏                                 | 1103/10000 [01:01<08:21, 17.73it/s]"
     ]
    },
    {
     "name": "stdout",
     "output_type": "stream",
     "text": [
      "tensor(4.9717e-06, grad_fn=<AddBackward0>)\n",
      "tensor(0.6787, grad_fn=<AddBackward0>)\n"
     ]
    },
    {
     "name": "stderr",
     "output_type": "stream",
     "text": [
      " 12%|████▌                                 | 1203/10000 [01:07<08:06, 18.07it/s]"
     ]
    },
    {
     "name": "stdout",
     "output_type": "stream",
     "text": [
      "tensor(4.8743e-06, grad_fn=<AddBackward0>)\n",
      "tensor(0.6515, grad_fn=<AddBackward0>)\n"
     ]
    },
    {
     "name": "stderr",
     "output_type": "stream",
     "text": [
      " 13%|████▉                                 | 1303/10000 [01:13<07:57, 18.23it/s]"
     ]
    },
    {
     "name": "stdout",
     "output_type": "stream",
     "text": [
      "tensor(2.3070e-07, grad_fn=<AddBackward0>)\n",
      "tensor(0.6380, grad_fn=<AddBackward0>)\n"
     ]
    },
    {
     "name": "stderr",
     "output_type": "stream",
     "text": [
      " 14%|█████▎                                | 1403/10000 [01:19<07:58, 17.97it/s]"
     ]
    },
    {
     "name": "stdout",
     "output_type": "stream",
     "text": [
      "tensor(1.5202e-06, grad_fn=<AddBackward0>)\n",
      "tensor(0.6193, grad_fn=<AddBackward0>)\n"
     ]
    },
    {
     "name": "stderr",
     "output_type": "stream",
     "text": [
      " 15%|█████▋                                | 1503/10000 [01:25<07:50, 18.05it/s]"
     ]
    },
    {
     "name": "stdout",
     "output_type": "stream",
     "text": [
      "tensor(1.1797e-06, grad_fn=<AddBackward0>)\n",
      "tensor(0.6107, grad_fn=<AddBackward0>)\n"
     ]
    },
    {
     "name": "stderr",
     "output_type": "stream",
     "text": [
      " 16%|██████                                | 1603/10000 [01:30<07:44, 18.07it/s]"
     ]
    },
    {
     "name": "stdout",
     "output_type": "stream",
     "text": [
      "tensor(0.0001, grad_fn=<AddBackward0>)\n",
      "tensor(0.5407, grad_fn=<AddBackward0>)\n"
     ]
    },
    {
     "name": "stderr",
     "output_type": "stream",
     "text": [
      " 17%|██████▍                               | 1703/10000 [01:36<07:38, 18.11it/s]"
     ]
    },
    {
     "name": "stdout",
     "output_type": "stream",
     "text": [
      "tensor(2.6917e-06, grad_fn=<AddBackward0>)\n",
      "tensor(0.5731, grad_fn=<AddBackward0>)\n"
     ]
    },
    {
     "name": "stderr",
     "output_type": "stream",
     "text": [
      " 18%|██████▊                               | 1803/10000 [01:41<07:31, 18.14it/s]"
     ]
    },
    {
     "name": "stdout",
     "output_type": "stream",
     "text": [
      "tensor(4.2746e-06, grad_fn=<AddBackward0>)\n",
      "tensor(0.5088, grad_fn=<AddBackward0>)\n"
     ]
    },
    {
     "name": "stderr",
     "output_type": "stream",
     "text": [
      " 19%|███████▏                              | 1903/10000 [01:47<07:24, 18.20it/s]"
     ]
    },
    {
     "name": "stdout",
     "output_type": "stream",
     "text": [
      "tensor(1.3510e-05, grad_fn=<AddBackward0>)\n",
      "tensor(0.5215, grad_fn=<AddBackward0>)\n"
     ]
    },
    {
     "name": "stderr",
     "output_type": "stream",
     "text": [
      " 20%|███████▌                              | 2001/10000 [01:55<13:06, 10.17it/s]"
     ]
    },
    {
     "name": "stdout",
     "output_type": "stream",
     "text": [
      "tensor(1.0357e-05, grad_fn=<AddBackward0>)\n",
      "tensor(0.4342, grad_fn=<AddBackward0>)\n"
     ]
    },
    {
     "name": "stderr",
     "output_type": "stream",
     "text": [
      " 21%|███████▉                              | 2103/10000 [02:03<07:46, 16.95it/s]"
     ]
    },
    {
     "name": "stdout",
     "output_type": "stream",
     "text": [
      "tensor(1.8111e-06, grad_fn=<AddBackward0>)\n",
      "tensor(0.5681, grad_fn=<AddBackward0>)\n"
     ]
    },
    {
     "name": "stderr",
     "output_type": "stream",
     "text": [
      " 22%|████████▎                             | 2203/10000 [02:10<07:05, 18.31it/s]"
     ]
    },
    {
     "name": "stdout",
     "output_type": "stream",
     "text": [
      "tensor(0.0002, grad_fn=<AddBackward0>)\n",
      "tensor(0.4848, grad_fn=<AddBackward0>)\n"
     ]
    },
    {
     "name": "stderr",
     "output_type": "stream",
     "text": [
      " 23%|████████▋                             | 2301/10000 [02:15<07:17, 17.59it/s]"
     ]
    },
    {
     "name": "stdout",
     "output_type": "stream",
     "text": [
      "tensor(5.7152e-07, grad_fn=<AddBackward0>)\n",
      "tensor(0.4089, grad_fn=<AddBackward0>)\n"
     ]
    },
    {
     "name": "stderr",
     "output_type": "stream",
     "text": [
      " 24%|█████████▏                            | 2404/10000 [02:24<07:37, 16.61it/s]"
     ]
    },
    {
     "name": "stdout",
     "output_type": "stream",
     "text": [
      "tensor(2.7718e-07, grad_fn=<AddBackward0>)\n",
      "tensor(0.3573, grad_fn=<AddBackward0>)\n"
     ]
    },
    {
     "name": "stderr",
     "output_type": "stream",
     "text": [
      " 25%|█████████▌                            | 2504/10000 [02:30<06:56, 18.00it/s]"
     ]
    },
    {
     "name": "stdout",
     "output_type": "stream",
     "text": [
      "tensor(0.0014, grad_fn=<AddBackward0>)\n",
      "tensor(0.3186, grad_fn=<AddBackward0>)\n"
     ]
    },
    {
     "name": "stderr",
     "output_type": "stream",
     "text": [
      " 26%|█████████▉                            | 2603/10000 [02:35<06:12, 19.83it/s]"
     ]
    },
    {
     "name": "stdout",
     "output_type": "stream",
     "text": [
      "tensor(7.8262e-05, grad_fn=<AddBackward0>)\n",
      "tensor(0.2833, grad_fn=<AddBackward0>)\n"
     ]
    },
    {
     "name": "stderr",
     "output_type": "stream",
     "text": [
      " 27%|██████████▎                           | 2703/10000 [02:40<06:07, 19.84it/s]"
     ]
    },
    {
     "name": "stdout",
     "output_type": "stream",
     "text": [
      "tensor(4.3308e-06, grad_fn=<AddBackward0>)\n",
      "tensor(0.2670, grad_fn=<AddBackward0>)\n"
     ]
    },
    {
     "name": "stderr",
     "output_type": "stream",
     "text": [
      " 28%|██████████▋                           | 2803/10000 [02:45<06:03, 19.79it/s]"
     ]
    },
    {
     "name": "stdout",
     "output_type": "stream",
     "text": [
      "tensor(2.8645e-05, grad_fn=<AddBackward0>)\n",
      "tensor(0.2296, grad_fn=<AddBackward0>)\n"
     ]
    },
    {
     "name": "stderr",
     "output_type": "stream",
     "text": [
      " 29%|███████████                           | 2904/10000 [02:50<05:55, 19.95it/s]"
     ]
    },
    {
     "name": "stdout",
     "output_type": "stream",
     "text": [
      "tensor(1.0350e-05, grad_fn=<AddBackward0>)\n",
      "tensor(0.1922, grad_fn=<AddBackward0>)\n"
     ]
    },
    {
     "name": "stderr",
     "output_type": "stream",
     "text": [
      " 30%|███████████▍                          | 3004/10000 [02:55<05:53, 19.77it/s]"
     ]
    },
    {
     "name": "stdout",
     "output_type": "stream",
     "text": [
      "tensor(2.9580e-06, grad_fn=<AddBackward0>)\n",
      "tensor(0.1682, grad_fn=<AddBackward0>)\n"
     ]
    },
    {
     "name": "stderr",
     "output_type": "stream",
     "text": [
      " 31%|███████████▊                          | 3104/10000 [03:02<05:55, 19.38it/s]"
     ]
    },
    {
     "name": "stdout",
     "output_type": "stream",
     "text": [
      "tensor(0.0002, grad_fn=<AddBackward0>)\n",
      "tensor(0.1547, grad_fn=<AddBackward0>)\n"
     ]
    },
    {
     "name": "stderr",
     "output_type": "stream",
     "text": [
      " 32%|████████████▏                         | 3204/10000 [03:08<05:51, 19.33it/s]"
     ]
    },
    {
     "name": "stdout",
     "output_type": "stream",
     "text": [
      "tensor(2.8849e-05, grad_fn=<AddBackward0>)\n",
      "tensor(0.1379, grad_fn=<AddBackward0>)\n"
     ]
    },
    {
     "name": "stderr",
     "output_type": "stream",
     "text": [
      " 33%|████████████▌                         | 3304/10000 [03:13<05:41, 19.62it/s]"
     ]
    },
    {
     "name": "stdout",
     "output_type": "stream",
     "text": [
      "tensor(1.8897e-05, grad_fn=<AddBackward0>)\n",
      "tensor(0.1234, grad_fn=<AddBackward0>)\n"
     ]
    },
    {
     "name": "stderr",
     "output_type": "stream",
     "text": [
      " 34%|████████████▉                         | 3404/10000 [03:18<05:34, 19.73it/s]"
     ]
    },
    {
     "name": "stdout",
     "output_type": "stream",
     "text": [
      "tensor(2.2030e-05, grad_fn=<AddBackward0>)\n",
      "tensor(0.1092, grad_fn=<AddBackward0>)\n"
     ]
    },
    {
     "name": "stderr",
     "output_type": "stream",
     "text": [
      " 35%|█████████████▎                        | 3504/10000 [03:23<05:29, 19.71it/s]"
     ]
    },
    {
     "name": "stdout",
     "output_type": "stream",
     "text": [
      "tensor(1.0518e-05, grad_fn=<AddBackward0>)\n",
      "tensor(0.1071, grad_fn=<AddBackward0>)\n"
     ]
    },
    {
     "name": "stderr",
     "output_type": "stream",
     "text": [
      " 36%|█████████████▋                        | 3604/10000 [03:28<05:28, 19.48it/s]"
     ]
    },
    {
     "name": "stdout",
     "output_type": "stream",
     "text": [
      "tensor(1.4259e-07, grad_fn=<AddBackward0>)\n",
      "tensor(0.0911, grad_fn=<AddBackward0>)\n"
     ]
    },
    {
     "name": "stderr",
     "output_type": "stream",
     "text": [
      " 37%|██████████████                        | 3704/10000 [03:34<05:22, 19.52it/s]"
     ]
    },
    {
     "name": "stdout",
     "output_type": "stream",
     "text": [
      "tensor(9.4541e-06, grad_fn=<AddBackward0>)\n",
      "tensor(0.0832, grad_fn=<AddBackward0>)\n"
     ]
    },
    {
     "name": "stderr",
     "output_type": "stream",
     "text": [
      " 38%|██████████████▍                       | 3804/10000 [03:39<05:14, 19.68it/s]"
     ]
    },
    {
     "name": "stdout",
     "output_type": "stream",
     "text": [
      "tensor(1.3752e-07, grad_fn=<AddBackward0>)\n",
      "tensor(0.0726, grad_fn=<AddBackward0>)\n"
     ]
    },
    {
     "name": "stderr",
     "output_type": "stream",
     "text": [
      " 39%|██████████████▊                       | 3904/10000 [03:44<05:15, 19.34it/s]"
     ]
    },
    {
     "name": "stdout",
     "output_type": "stream",
     "text": [
      "tensor(4.5267e-05, grad_fn=<AddBackward0>)\n",
      "tensor(0.0673, grad_fn=<AddBackward0>)\n"
     ]
    },
    {
     "name": "stderr",
     "output_type": "stream",
     "text": [
      " 40%|███████████████▏                      | 4004/10000 [03:49<05:06, 19.59it/s]"
     ]
    },
    {
     "name": "stdout",
     "output_type": "stream",
     "text": [
      "tensor(2.3297e-06, grad_fn=<AddBackward0>)\n",
      "tensor(0.0601, grad_fn=<AddBackward0>)\n"
     ]
    },
    {
     "name": "stderr",
     "output_type": "stream",
     "text": [
      " 41%|███████████████▌                      | 4104/10000 [03:54<05:02, 19.50it/s]"
     ]
    },
    {
     "name": "stdout",
     "output_type": "stream",
     "text": [
      "tensor(0.0002, grad_fn=<AddBackward0>)\n",
      "tensor(0.0542, grad_fn=<AddBackward0>)\n"
     ]
    },
    {
     "name": "stderr",
     "output_type": "stream",
     "text": [
      " 42%|███████████████▉                      | 4204/10000 [04:00<04:56, 19.52it/s]"
     ]
    },
    {
     "name": "stdout",
     "output_type": "stream",
     "text": [
      "tensor(2.0817e-06, grad_fn=<AddBackward0>)\n",
      "tensor(0.0500, grad_fn=<AddBackward0>)\n"
     ]
    },
    {
     "name": "stderr",
     "output_type": "stream",
     "text": [
      " 43%|████████████████▎                     | 4304/10000 [04:05<04:59, 19.05it/s]"
     ]
    },
    {
     "name": "stdout",
     "output_type": "stream",
     "text": [
      "tensor(1.8073e-05, grad_fn=<AddBackward0>)\n",
      "tensor(0.0455, grad_fn=<AddBackward0>)\n"
     ]
    },
    {
     "name": "stderr",
     "output_type": "stream",
     "text": [
      " 44%|████████████████▋                     | 4404/10000 [04:10<04:45, 19.61it/s]"
     ]
    },
    {
     "name": "stdout",
     "output_type": "stream",
     "text": [
      "tensor(2.4961e-05, grad_fn=<AddBackward0>)\n",
      "tensor(0.0418, grad_fn=<AddBackward0>)\n"
     ]
    },
    {
     "name": "stderr",
     "output_type": "stream",
     "text": [
      " 45%|█████████████████                     | 4504/10000 [04:15<04:42, 19.49it/s]"
     ]
    },
    {
     "name": "stdout",
     "output_type": "stream",
     "text": [
      "tensor(3.9647e-05, grad_fn=<AddBackward0>)\n",
      "tensor(0.0397, grad_fn=<AddBackward0>)\n"
     ]
    },
    {
     "name": "stderr",
     "output_type": "stream",
     "text": [
      " 46%|█████████████████▍                    | 4604/10000 [04:20<04:43, 19.06it/s]"
     ]
    },
    {
     "name": "stdout",
     "output_type": "stream",
     "text": [
      "tensor(9.4288e-05, grad_fn=<AddBackward0>)\n",
      "tensor(0.0369, grad_fn=<AddBackward0>)\n"
     ]
    },
    {
     "name": "stderr",
     "output_type": "stream",
     "text": [
      " 47%|█████████████████▉                    | 4704/10000 [04:26<04:34, 19.28it/s]"
     ]
    },
    {
     "name": "stdout",
     "output_type": "stream",
     "text": [
      "tensor(4.9221e-06, grad_fn=<AddBackward0>)\n",
      "tensor(0.0348, grad_fn=<AddBackward0>)\n"
     ]
    },
    {
     "name": "stderr",
     "output_type": "stream",
     "text": [
      " 48%|██████████████████▎                   | 4804/10000 [04:31<04:26, 19.53it/s]"
     ]
    },
    {
     "name": "stdout",
     "output_type": "stream",
     "text": [
      "tensor(1.6307e-06, grad_fn=<AddBackward0>)\n",
      "tensor(0.0329, grad_fn=<AddBackward0>)\n"
     ]
    },
    {
     "name": "stderr",
     "output_type": "stream",
     "text": [
      " 49%|██████████████████▋                   | 4902/10000 [04:37<06:22, 13.32it/s]"
     ]
    },
    {
     "name": "stdout",
     "output_type": "stream",
     "text": [
      "tensor(6.1752e-06, grad_fn=<AddBackward0>)\n",
      "tensor(0.0321, grad_fn=<AddBackward0>)\n"
     ]
    },
    {
     "name": "stderr",
     "output_type": "stream",
     "text": [
      " 50%|███████████████████                   | 5004/10000 [04:43<04:21, 19.08it/s]"
     ]
    },
    {
     "name": "stdout",
     "output_type": "stream",
     "text": [
      "tensor(3.4354e-05, grad_fn=<AddBackward0>)\n",
      "tensor(0.0308, grad_fn=<AddBackward0>)\n"
     ]
    },
    {
     "name": "stderr",
     "output_type": "stream",
     "text": [
      " 51%|███████████████████▍                  | 5104/10000 [04:49<04:23, 18.57it/s]"
     ]
    },
    {
     "name": "stdout",
     "output_type": "stream",
     "text": [
      "tensor(0.0001, grad_fn=<AddBackward0>)\n",
      "tensor(0.0295, grad_fn=<AddBackward0>)\n"
     ]
    },
    {
     "name": "stderr",
     "output_type": "stream",
     "text": [
      " 52%|███████████████████▊                  | 5204/10000 [04:54<04:09, 19.26it/s]"
     ]
    },
    {
     "name": "stdout",
     "output_type": "stream",
     "text": [
      "tensor(0.0001, grad_fn=<AddBackward0>)\n",
      "tensor(0.0289, grad_fn=<AddBackward0>)\n"
     ]
    },
    {
     "name": "stderr",
     "output_type": "stream",
     "text": [
      " 53%|████████████████████▏                 | 5304/10000 [04:59<04:02, 19.40it/s]"
     ]
    },
    {
     "name": "stdout",
     "output_type": "stream",
     "text": [
      "tensor(4.9362e-05, grad_fn=<AddBackward0>)\n",
      "tensor(0.0280, grad_fn=<AddBackward0>)\n"
     ]
    },
    {
     "name": "stderr",
     "output_type": "stream",
     "text": [
      " 54%|████████████████████▌                 | 5402/10000 [05:05<04:23, 17.46it/s]"
     ]
    },
    {
     "name": "stdout",
     "output_type": "stream",
     "text": [
      "tensor(1.0228e-06, grad_fn=<AddBackward0>)\n",
      "tensor(0.0269, grad_fn=<AddBackward0>)\n"
     ]
    },
    {
     "name": "stderr",
     "output_type": "stream",
     "text": [
      " 55%|████████████████████▉                 | 5504/10000 [05:10<03:54, 19.18it/s]"
     ]
    },
    {
     "name": "stdout",
     "output_type": "stream",
     "text": [
      "tensor(0.0010, grad_fn=<AddBackward0>)\n",
      "tensor(0.0270, grad_fn=<AddBackward0>)\n"
     ]
    },
    {
     "name": "stderr",
     "output_type": "stream",
     "text": [
      " 56%|█████████████████████▎                | 5604/10000 [05:15<03:49, 19.16it/s]"
     ]
    },
    {
     "name": "stdout",
     "output_type": "stream",
     "text": [
      "tensor(9.2046e-06, grad_fn=<AddBackward0>)\n",
      "tensor(0.0265, grad_fn=<AddBackward0>)\n"
     ]
    },
    {
     "name": "stderr",
     "output_type": "stream",
     "text": [
      " 57%|█████████████████████▋                | 5704/10000 [05:21<03:39, 19.59it/s]"
     ]
    },
    {
     "name": "stdout",
     "output_type": "stream",
     "text": [
      "tensor(4.7110e-05, grad_fn=<AddBackward0>)\n",
      "tensor(0.0255, grad_fn=<AddBackward0>)\n"
     ]
    },
    {
     "name": "stderr",
     "output_type": "stream",
     "text": [
      " 58%|██████████████████████                | 5804/10000 [05:26<03:35, 19.45it/s]"
     ]
    },
    {
     "name": "stdout",
     "output_type": "stream",
     "text": [
      "tensor(5.5713e-06, grad_fn=<AddBackward0>)\n",
      "tensor(0.0249, grad_fn=<AddBackward0>)\n"
     ]
    },
    {
     "name": "stderr",
     "output_type": "stream",
     "text": [
      " 59%|██████████████████████▍               | 5904/10000 [05:31<03:36, 18.93it/s]"
     ]
    },
    {
     "name": "stdout",
     "output_type": "stream",
     "text": [
      "tensor(0.0002, grad_fn=<AddBackward0>)\n",
      "tensor(0.0245, grad_fn=<AddBackward0>)\n"
     ]
    },
    {
     "name": "stderr",
     "output_type": "stream",
     "text": [
      " 60%|██████████████████████▊               | 6004/10000 [05:36<03:27, 19.29it/s]"
     ]
    },
    {
     "name": "stdout",
     "output_type": "stream",
     "text": [
      "tensor(1.9872e-06, grad_fn=<AddBackward0>)\n",
      "tensor(0.0240, grad_fn=<AddBackward0>)\n"
     ]
    },
    {
     "name": "stderr",
     "output_type": "stream",
     "text": [
      " 61%|███████████████████████▏              | 6104/10000 [05:42<03:23, 19.10it/s]"
     ]
    },
    {
     "name": "stdout",
     "output_type": "stream",
     "text": [
      "tensor(1.7130e-06, grad_fn=<AddBackward0>)\n",
      "tensor(0.0234, grad_fn=<AddBackward0>)\n"
     ]
    },
    {
     "name": "stderr",
     "output_type": "stream",
     "text": [
      " 62%|███████████████████████▌              | 6204/10000 [05:47<03:14, 19.54it/s]"
     ]
    },
    {
     "name": "stdout",
     "output_type": "stream",
     "text": [
      "tensor(0.0002, grad_fn=<AddBackward0>)\n",
      "tensor(0.0471, grad_fn=<AddBackward0>)\n"
     ]
    },
    {
     "name": "stderr",
     "output_type": "stream",
     "text": [
      " 63%|███████████████████████▉              | 6303/10000 [05:52<03:05, 19.89it/s]"
     ]
    },
    {
     "name": "stdout",
     "output_type": "stream",
     "text": [
      "tensor(4.2810e-06, grad_fn=<AddBackward0>)\n",
      "tensor(0.0255, grad_fn=<AddBackward0>)\n"
     ]
    },
    {
     "name": "stderr",
     "output_type": "stream",
     "text": [
      " 64%|████████████████████████▎             | 6404/10000 [05:57<03:01, 19.81it/s]"
     ]
    },
    {
     "name": "stdout",
     "output_type": "stream",
     "text": [
      "tensor(3.1615e-07, grad_fn=<AddBackward0>)\n",
      "tensor(0.0231, grad_fn=<AddBackward0>)\n"
     ]
    },
    {
     "name": "stderr",
     "output_type": "stream",
     "text": [
      " 65%|████████████████████████▋             | 6504/10000 [06:02<02:56, 19.80it/s]"
     ]
    },
    {
     "name": "stdout",
     "output_type": "stream",
     "text": [
      "tensor(6.2138e-07, grad_fn=<AddBackward0>)\n",
      "tensor(0.0218, grad_fn=<AddBackward0>)\n"
     ]
    },
    {
     "name": "stderr",
     "output_type": "stream",
     "text": [
      " 66%|█████████████████████████             | 6604/10000 [06:08<02:52, 19.70it/s]"
     ]
    },
    {
     "name": "stdout",
     "output_type": "stream",
     "text": [
      "tensor(1.1860e-06, grad_fn=<AddBackward0>)\n",
      "tensor(0.0207, grad_fn=<AddBackward0>)\n"
     ]
    },
    {
     "name": "stderr",
     "output_type": "stream",
     "text": [
      " 67%|█████████████████████████▍            | 6704/10000 [06:13<02:49, 19.50it/s]"
     ]
    },
    {
     "name": "stdout",
     "output_type": "stream",
     "text": [
      "tensor(4.3284e-07, grad_fn=<AddBackward0>)\n",
      "tensor(0.0196, grad_fn=<AddBackward0>)\n"
     ]
    },
    {
     "name": "stderr",
     "output_type": "stream",
     "text": [
      " 68%|█████████████████████████▊            | 6804/10000 [06:18<02:44, 19.44it/s]"
     ]
    },
    {
     "name": "stdout",
     "output_type": "stream",
     "text": [
      "tensor(3.5185e-07, grad_fn=<AddBackward0>)\n",
      "tensor(0.0187, grad_fn=<AddBackward0>)\n"
     ]
    },
    {
     "name": "stderr",
     "output_type": "stream",
     "text": [
      " 69%|██████████████████████████▏           | 6904/10000 [06:23<02:40, 19.23it/s]"
     ]
    },
    {
     "name": "stdout",
     "output_type": "stream",
     "text": [
      "tensor(2.0607e-07, grad_fn=<AddBackward0>)\n",
      "tensor(0.0176, grad_fn=<AddBackward0>)\n"
     ]
    },
    {
     "name": "stderr",
     "output_type": "stream",
     "text": [
      " 70%|██████████████████████████▌           | 7004/10000 [06:29<02:39, 18.75it/s]"
     ]
    },
    {
     "name": "stdout",
     "output_type": "stream",
     "text": [
      "tensor(1.2094e-05, grad_fn=<AddBackward0>)\n",
      "tensor(0.0166, grad_fn=<AddBackward0>)\n"
     ]
    },
    {
     "name": "stderr",
     "output_type": "stream",
     "text": [
      " 71%|██████████████████████████▉           | 7104/10000 [06:34<02:37, 18.41it/s]"
     ]
    },
    {
     "name": "stdout",
     "output_type": "stream",
     "text": [
      "tensor(4.1008e-07, grad_fn=<AddBackward0>)\n",
      "tensor(0.0160, grad_fn=<AddBackward0>)\n"
     ]
    },
    {
     "name": "stderr",
     "output_type": "stream",
     "text": [
      " 72%|███████████████████████████▎          | 7202/10000 [06:40<02:39, 17.56it/s]"
     ]
    },
    {
     "name": "stdout",
     "output_type": "stream",
     "text": [
      "tensor(7.9009e-07, grad_fn=<AddBackward0>)\n",
      "tensor(0.0156, grad_fn=<AddBackward0>)\n"
     ]
    },
    {
     "name": "stderr",
     "output_type": "stream",
     "text": [
      " 73%|███████████████████████████▋          | 7302/10000 [06:45<02:31, 17.76it/s]"
     ]
    },
    {
     "name": "stdout",
     "output_type": "stream",
     "text": [
      "tensor(3.6740e-07, grad_fn=<AddBackward0>)\n",
      "tensor(0.0152, grad_fn=<AddBackward0>)\n"
     ]
    },
    {
     "name": "stderr",
     "output_type": "stream",
     "text": [
      " 74%|████████████████████████████▏         | 7402/10000 [06:51<02:26, 17.70it/s]"
     ]
    },
    {
     "name": "stdout",
     "output_type": "stream",
     "text": [
      "tensor(1.2821e-07, grad_fn=<AddBackward0>)\n",
      "tensor(0.0148, grad_fn=<AddBackward0>)\n"
     ]
    },
    {
     "name": "stderr",
     "output_type": "stream",
     "text": [
      " 75%|████████████████████████████▌         | 7502/10000 [06:57<02:26, 17.07it/s]"
     ]
    },
    {
     "name": "stdout",
     "output_type": "stream",
     "text": [
      "tensor(2.5862e-06, grad_fn=<AddBackward0>)\n",
      "tensor(0.0143, grad_fn=<AddBackward0>)\n"
     ]
    },
    {
     "name": "stderr",
     "output_type": "stream",
     "text": [
      " 76%|████████████████████████████▉         | 7602/10000 [07:03<02:23, 16.76it/s]"
     ]
    },
    {
     "name": "stdout",
     "output_type": "stream",
     "text": [
      "tensor(1.2836e-05, grad_fn=<AddBackward0>)\n",
      "tensor(0.0138, grad_fn=<AddBackward0>)\n"
     ]
    },
    {
     "name": "stderr",
     "output_type": "stream",
     "text": [
      " 77%|█████████████████████████████▎        | 7702/10000 [07:09<02:21, 16.26it/s]"
     ]
    },
    {
     "name": "stdout",
     "output_type": "stream",
     "text": [
      "tensor(2.0386e-06, grad_fn=<AddBackward0>)\n",
      "tensor(0.0134, grad_fn=<AddBackward0>)\n"
     ]
    },
    {
     "name": "stderr",
     "output_type": "stream",
     "text": [
      " 78%|█████████████████████████████▋        | 7802/10000 [07:16<02:23, 15.30it/s]"
     ]
    },
    {
     "name": "stdout",
     "output_type": "stream",
     "text": [
      "tensor(8.7661e-07, grad_fn=<AddBackward0>)\n",
      "tensor(0.0128, grad_fn=<AddBackward0>)\n"
     ]
    },
    {
     "name": "stderr",
     "output_type": "stream",
     "text": [
      " 79%|██████████████████████████████        | 7902/10000 [07:22<02:15, 15.46it/s]"
     ]
    },
    {
     "name": "stdout",
     "output_type": "stream",
     "text": [
      "tensor(7.2009e-07, grad_fn=<AddBackward0>)\n",
      "tensor(0.0123, grad_fn=<AddBackward0>)\n"
     ]
    },
    {
     "name": "stderr",
     "output_type": "stream",
     "text": [
      " 80%|██████████████████████████████▍       | 8002/10000 [07:29<02:17, 14.56it/s]"
     ]
    },
    {
     "name": "stdout",
     "output_type": "stream",
     "text": [
      "tensor(9.6809e-07, grad_fn=<AddBackward0>)\n",
      "tensor(0.0119, grad_fn=<AddBackward0>)\n"
     ]
    },
    {
     "name": "stderr",
     "output_type": "stream",
     "text": [
      " 81%|██████████████████████████████▊       | 8102/10000 [07:36<02:12, 14.28it/s]"
     ]
    },
    {
     "name": "stdout",
     "output_type": "stream",
     "text": [
      "tensor(3.9018e-07, grad_fn=<AddBackward0>)\n",
      "tensor(0.0115, grad_fn=<AddBackward0>)\n"
     ]
    },
    {
     "name": "stderr",
     "output_type": "stream",
     "text": [
      " 82%|███████████████████████████████▏      | 8202/10000 [07:43<02:10, 13.80it/s]"
     ]
    },
    {
     "name": "stdout",
     "output_type": "stream",
     "text": [
      "tensor(5.1998e-07, grad_fn=<AddBackward0>)\n",
      "tensor(0.0112, grad_fn=<AddBackward0>)\n"
     ]
    },
    {
     "name": "stderr",
     "output_type": "stream",
     "text": [
      " 83%|███████████████████████████████▌      | 8302/10000 [07:53<02:21, 11.96it/s]"
     ]
    },
    {
     "name": "stdout",
     "output_type": "stream",
     "text": [
      "tensor(1.5230e-06, grad_fn=<AddBackward0>)\n",
      "tensor(0.0110, grad_fn=<AddBackward0>)\n"
     ]
    },
    {
     "name": "stderr",
     "output_type": "stream",
     "text": [
      " 84%|███████████████████████████████▉      | 8401/10000 [08:01<02:05, 12.78it/s]"
     ]
    },
    {
     "name": "stdout",
     "output_type": "stream",
     "text": [
      "tensor(2.7092e-06, grad_fn=<AddBackward0>)\n",
      "tensor(0.0109, grad_fn=<AddBackward0>)\n"
     ]
    },
    {
     "name": "stderr",
     "output_type": "stream",
     "text": [
      " 85%|████████████████████████████████▎     | 8501/10000 [08:09<01:59, 12.58it/s]"
     ]
    },
    {
     "name": "stdout",
     "output_type": "stream",
     "text": [
      "tensor(2.2599e-06, grad_fn=<AddBackward0>)\n",
      "tensor(0.0109, grad_fn=<AddBackward0>)\n"
     ]
    },
    {
     "name": "stderr",
     "output_type": "stream",
     "text": [
      " 86%|████████████████████████████████▋     | 8601/10000 [08:17<01:56, 12.02it/s]"
     ]
    },
    {
     "name": "stdout",
     "output_type": "stream",
     "text": [
      "tensor(1.3921e-07, grad_fn=<AddBackward0>)\n",
      "tensor(0.0107, grad_fn=<AddBackward0>)\n"
     ]
    },
    {
     "name": "stderr",
     "output_type": "stream",
     "text": [
      " 87%|█████████████████████████████████     | 8701/10000 [08:28<02:37,  8.24it/s]"
     ]
    },
    {
     "name": "stdout",
     "output_type": "stream",
     "text": [
      "tensor(9.8353e-07, grad_fn=<AddBackward0>)\n",
      "tensor(0.0105, grad_fn=<AddBackward0>)\n"
     ]
    },
    {
     "name": "stderr",
     "output_type": "stream",
     "text": [
      " 88%|█████████████████████████████████▍    | 8802/10000 [08:38<01:56, 10.31it/s]"
     ]
    },
    {
     "name": "stdout",
     "output_type": "stream",
     "text": [
      "tensor(7.4645e-07, grad_fn=<AddBackward0>)\n",
      "tensor(0.0103, grad_fn=<AddBackward0>)\n"
     ]
    },
    {
     "name": "stderr",
     "output_type": "stream",
     "text": [
      " 89%|█████████████████████████████████▊    | 8901/10000 [08:48<02:14,  8.14it/s]"
     ]
    },
    {
     "name": "stdout",
     "output_type": "stream",
     "text": [
      "tensor(6.1191e-07, grad_fn=<AddBackward0>)\n",
      "tensor(0.0100, grad_fn=<AddBackward0>)\n"
     ]
    },
    {
     "name": "stderr",
     "output_type": "stream",
     "text": [
      " 90%|██████████████████████████████████▏   | 9002/10000 [08:58<01:36, 10.32it/s]"
     ]
    },
    {
     "name": "stdout",
     "output_type": "stream",
     "text": [
      "tensor(8.3318e-06, grad_fn=<AddBackward0>)\n",
      "tensor(0.0095, grad_fn=<AddBackward0>)\n"
     ]
    },
    {
     "name": "stderr",
     "output_type": "stream",
     "text": [
      " 91%|██████████████████████████████████▌   | 9101/10000 [09:08<01:32,  9.69it/s]"
     ]
    },
    {
     "name": "stdout",
     "output_type": "stream",
     "text": [
      "tensor(5.2032e-06, grad_fn=<AddBackward0>)\n",
      "tensor(0.0092, grad_fn=<AddBackward0>)\n"
     ]
    },
    {
     "name": "stderr",
     "output_type": "stream",
     "text": [
      " 92%|██████████████████████████████████▉   | 9202/10000 [09:19<01:28,  8.99it/s]"
     ]
    },
    {
     "name": "stdout",
     "output_type": "stream",
     "text": [
      "tensor(4.8630e-06, grad_fn=<AddBackward0>)\n",
      "tensor(0.0090, grad_fn=<AddBackward0>)\n"
     ]
    },
    {
     "name": "stderr",
     "output_type": "stream",
     "text": [
      " 93%|███████████████████████████████████▎  | 9301/10000 [09:30<01:23,  8.37it/s]"
     ]
    },
    {
     "name": "stdout",
     "output_type": "stream",
     "text": [
      "tensor(8.9164e-08, grad_fn=<AddBackward0>)\n",
      "tensor(0.0088, grad_fn=<AddBackward0>)\n"
     ]
    },
    {
     "name": "stderr",
     "output_type": "stream",
     "text": [
      " 94%|███████████████████████████████████▋  | 9402/10000 [09:42<01:06,  9.01it/s]"
     ]
    },
    {
     "name": "stdout",
     "output_type": "stream",
     "text": [
      "tensor(1.6671e-06, grad_fn=<AddBackward0>)\n",
      "tensor(0.0084, grad_fn=<AddBackward0>)\n"
     ]
    },
    {
     "name": "stderr",
     "output_type": "stream",
     "text": [
      " 95%|████████████████████████████████████  | 9501/10000 [09:53<00:55,  8.98it/s]"
     ]
    },
    {
     "name": "stdout",
     "output_type": "stream",
     "text": [
      "tensor(2.4731e-07, grad_fn=<AddBackward0>)\n",
      "tensor(0.0082, grad_fn=<AddBackward0>)\n"
     ]
    },
    {
     "name": "stderr",
     "output_type": "stream",
     "text": [
      " 96%|████████████████████████████████████▍ | 9601/10000 [10:04<00:46,  8.55it/s]"
     ]
    },
    {
     "name": "stdout",
     "output_type": "stream",
     "text": [
      "tensor(2.5081e-07, grad_fn=<AddBackward0>)\n",
      "tensor(0.0079, grad_fn=<AddBackward0>)\n"
     ]
    },
    {
     "name": "stderr",
     "output_type": "stream",
     "text": [
      " 97%|████████████████████████████████████▊ | 9701/10000 [10:16<00:35,  8.53it/s]"
     ]
    },
    {
     "name": "stdout",
     "output_type": "stream",
     "text": [
      "tensor(3.2891e-07, grad_fn=<AddBackward0>)\n",
      "tensor(0.0077, grad_fn=<AddBackward0>)\n"
     ]
    },
    {
     "name": "stderr",
     "output_type": "stream",
     "text": [
      " 98%|█████████████████████████████████████▏| 9801/10000 [10:28<00:24,  8.17it/s]"
     ]
    },
    {
     "name": "stdout",
     "output_type": "stream",
     "text": [
      "tensor(3.5791e-07, grad_fn=<AddBackward0>)\n",
      "tensor(0.0076, grad_fn=<AddBackward0>)\n"
     ]
    },
    {
     "name": "stderr",
     "output_type": "stream",
     "text": [
      " 99%|█████████████████████████████████████▌| 9901/10000 [10:40<00:11,  8.46it/s]"
     ]
    },
    {
     "name": "stdout",
     "output_type": "stream",
     "text": [
      "tensor(3.8235e-07, grad_fn=<AddBackward0>)\n",
      "tensor(0.0076, grad_fn=<AddBackward0>)\n"
     ]
    },
    {
     "name": "stderr",
     "output_type": "stream",
     "text": [
      "100%|█████████████████████████████████████| 10000/10000 [10:53<00:00, 15.31it/s]\n"
     ]
    }
   ],
   "source": [
    "w = torch.nn.Parameter(torch.Tensor([1.0]))\n",
    "lambda_ = 1e-3\n",
    "optimizer = optim.Adam(model.parameters(), lr=1e-3)\n",
    "\n",
    "for iteration in tqdm(range(10000)):\n",
    "    R = 0\n",
    "    D = 0\n",
    "    for data in environments:\n",
    "        images = data['images']\n",
    "        images = images.view(images.shape[0],-1)\n",
    "        labels = data['labels']\n",
    "        \n",
    "        losses = bce(model(images).ravel() * w, labels)\n",
    "        D += D_(losses, w)#_lin_efficient(losses, w)\n",
    "        R += losses.mean()\n",
    "    if (iteration%100==0):    \n",
    "        print(D)\n",
    "        print(R)\n",
    "    \n",
    "    loss = lambda_ * R + D\n",
    "    \n",
    "    optimizer.zero_grad()\n",
    "    loss.backward()\n",
    "    optimizer.step()"
   ]
  },
  {
   "cell_type": "code",
   "execution_count": 524,
   "metadata": {},
   "outputs": [
    {
     "data": {
      "text/plain": [
       "tensor([[1.],\n",
       "        [0.],\n",
       "        [0.],\n",
       "        [1.],\n",
       "        [0.],\n",
       "        [1.],\n",
       "        [1.],\n",
       "        [0.],\n",
       "        [0.],\n",
       "        [0.]])"
      ]
     },
     "execution_count": 524,
     "metadata": {},
     "output_type": "execute_result"
    }
   ],
   "source": [
    "(model(images)[:10]>0.5).float()"
   ]
  },
  {
   "cell_type": "code",
   "execution_count": 525,
   "metadata": {},
   "outputs": [
    {
     "data": {
      "text/plain": [
       "tensor([1., 0., 0., 1., 0., 1., 1., 0., 0., 0.])"
      ]
     },
     "execution_count": 525,
     "metadata": {},
     "output_type": "execute_result"
    }
   ],
   "source": [
    "labels[:10]"
   ]
  },
  {
   "cell_type": "code",
   "execution_count": 544,
   "metadata": {},
   "outputs": [],
   "source": [
    "envtest = environment(mnist_odd[2500:3000], mnist_even[3000:3500], 0.7)\n",
    "im = envtest[\"images\"]\n",
    "lab = envtest[\"labels\"]"
   ]
  },
  {
   "cell_type": "code",
   "execution_count": 545,
   "metadata": {},
   "outputs": [],
   "source": [
    "pred = (model(im.view(im.shape[0],-1))>0.5).float().ravel()"
   ]
  },
  {
   "cell_type": "code",
   "execution_count": 547,
   "metadata": {},
   "outputs": [
    {
     "data": {
      "text/plain": [
       "tensor(0.5930)"
      ]
     },
     "execution_count": 547,
     "metadata": {},
     "output_type": "execute_result"
    }
   ],
   "source": [
    "(pred==lab).float().mean()"
   ]
  },
  {
   "cell_type": "code",
   "execution_count": 552,
   "metadata": {},
   "outputs": [],
   "source": [
    "model_erm = nn.Sequential(nn.Linear(14*14*2,400, bias=False),\n",
    "                     nn.ReLU(),\n",
    "                     nn.Linear(400,400, bias=False),\n",
    "                     nn.ReLU(),\n",
    "                     nn.Linear(400,1, bias=False),\n",
    "                     nn.Sigmoid())"
   ]
  },
  {
   "cell_type": "code",
   "execution_count": 553,
   "metadata": {},
   "outputs": [
    {
     "name": "stderr",
     "output_type": "stream",
     "text": [
      "  0%|                                          | 2/5000 [00:00<09:03,  9.20it/s]"
     ]
    },
    {
     "name": "stdout",
     "output_type": "stream",
     "text": [
      "tensor(1.3844, grad_fn=<AddBackward0>)\n"
     ]
    },
    {
     "name": "stderr",
     "output_type": "stream",
     "text": [
      "  2%|▊                                       | 102/5000 [00:06<05:09, 15.82it/s]"
     ]
    },
    {
     "name": "stdout",
     "output_type": "stream",
     "text": [
      "tensor(0.0106, grad_fn=<AddBackward0>)\n"
     ]
    },
    {
     "name": "stderr",
     "output_type": "stream",
     "text": [
      "  4%|█▌                                      | 202/5000 [00:12<05:14, 15.26it/s]"
     ]
    },
    {
     "name": "stdout",
     "output_type": "stream",
     "text": [
      "tensor(0.0010, grad_fn=<AddBackward0>)\n"
     ]
    },
    {
     "name": "stderr",
     "output_type": "stream",
     "text": [
      "  6%|██▍                                     | 302/5000 [00:19<06:37, 11.83it/s]"
     ]
    },
    {
     "name": "stdout",
     "output_type": "stream",
     "text": [
      "tensor(0.0004, grad_fn=<AddBackward0>)\n"
     ]
    },
    {
     "name": "stderr",
     "output_type": "stream",
     "text": [
      "  8%|███▏                                    | 402/5000 [00:28<07:03, 10.86it/s]"
     ]
    },
    {
     "name": "stdout",
     "output_type": "stream",
     "text": [
      "tensor(0.0002, grad_fn=<AddBackward0>)\n"
     ]
    },
    {
     "name": "stderr",
     "output_type": "stream",
     "text": [
      " 10%|████                                    | 502/5000 [00:38<07:57,  9.42it/s]"
     ]
    },
    {
     "name": "stdout",
     "output_type": "stream",
     "text": [
      "tensor(0.0001, grad_fn=<AddBackward0>)\n"
     ]
    },
    {
     "name": "stderr",
     "output_type": "stream",
     "text": [
      " 12%|████▊                                   | 602/5000 [00:50<08:00,  9.16it/s]"
     ]
    },
    {
     "name": "stdout",
     "output_type": "stream",
     "text": [
      "tensor(8.8883e-05, grad_fn=<AddBackward0>)\n"
     ]
    },
    {
     "name": "stderr",
     "output_type": "stream",
     "text": [
      " 14%|█████▌                                  | 701/5000 [01:01<07:56,  9.02it/s]"
     ]
    },
    {
     "name": "stdout",
     "output_type": "stream",
     "text": [
      "tensor(6.4859e-05, grad_fn=<AddBackward0>)\n"
     ]
    },
    {
     "name": "stderr",
     "output_type": "stream",
     "text": [
      " 16%|██████▍                                 | 802/5000 [01:12<07:39,  9.14it/s]"
     ]
    },
    {
     "name": "stdout",
     "output_type": "stream",
     "text": [
      "tensor(4.9389e-05, grad_fn=<AddBackward0>)\n"
     ]
    },
    {
     "name": "stderr",
     "output_type": "stream",
     "text": [
      " 18%|███████▏                                | 902/5000 [01:24<07:40,  8.91it/s]"
     ]
    },
    {
     "name": "stdout",
     "output_type": "stream",
     "text": [
      "tensor(3.8827e-05, grad_fn=<AddBackward0>)\n"
     ]
    },
    {
     "name": "stderr",
     "output_type": "stream",
     "text": [
      " 20%|███████▊                               | 1001/5000 [01:35<07:47,  8.55it/s]"
     ]
    },
    {
     "name": "stdout",
     "output_type": "stream",
     "text": [
      "tensor(3.1280e-05, grad_fn=<AddBackward0>)\n"
     ]
    },
    {
     "name": "stderr",
     "output_type": "stream",
     "text": [
      " 22%|████████▌                              | 1101/5000 [01:49<11:10,  5.81it/s]"
     ]
    },
    {
     "name": "stdout",
     "output_type": "stream",
     "text": [
      "tensor(2.5683e-05, grad_fn=<AddBackward0>)\n"
     ]
    },
    {
     "name": "stderr",
     "output_type": "stream",
     "text": [
      " 24%|█████████▎                             | 1201/5000 [02:02<07:54,  8.00it/s]"
     ]
    },
    {
     "name": "stdout",
     "output_type": "stream",
     "text": [
      "tensor(2.1431e-05, grad_fn=<AddBackward0>)\n"
     ]
    },
    {
     "name": "stderr",
     "output_type": "stream",
     "text": [
      " 26%|██████████▏                            | 1301/5000 [02:15<07:47,  7.91it/s]"
     ]
    },
    {
     "name": "stdout",
     "output_type": "stream",
     "text": [
      "tensor(1.8117e-05, grad_fn=<AddBackward0>)\n"
     ]
    },
    {
     "name": "stderr",
     "output_type": "stream",
     "text": [
      " 28%|██████████▉                            | 1401/5000 [02:28<07:41,  7.80it/s]"
     ]
    },
    {
     "name": "stdout",
     "output_type": "stream",
     "text": [
      "tensor(1.5489e-05, grad_fn=<AddBackward0>)\n"
     ]
    },
    {
     "name": "stderr",
     "output_type": "stream",
     "text": [
      " 30%|███████████▋                           | 1501/5000 [02:42<08:42,  6.70it/s]"
     ]
    },
    {
     "name": "stdout",
     "output_type": "stream",
     "text": [
      "tensor(1.3372e-05, grad_fn=<AddBackward0>)\n"
     ]
    },
    {
     "name": "stderr",
     "output_type": "stream",
     "text": [
      " 32%|████████████▍                          | 1601/5000 [02:57<08:11,  6.91it/s]"
     ]
    },
    {
     "name": "stdout",
     "output_type": "stream",
     "text": [
      "tensor(1.1640e-05, grad_fn=<AddBackward0>)\n"
     ]
    },
    {
     "name": "stderr",
     "output_type": "stream",
     "text": [
      " 34%|█████████████▎                         | 1701/5000 [03:14<07:05,  7.75it/s]"
     ]
    },
    {
     "name": "stdout",
     "output_type": "stream",
     "text": [
      "tensor(1.0206e-05, grad_fn=<AddBackward0>)\n"
     ]
    },
    {
     "name": "stderr",
     "output_type": "stream",
     "text": [
      " 36%|██████████████                         | 1801/5000 [03:27<06:58,  7.65it/s]"
     ]
    },
    {
     "name": "stdout",
     "output_type": "stream",
     "text": [
      "tensor(9.0031e-06, grad_fn=<AddBackward0>)\n"
     ]
    },
    {
     "name": "stderr",
     "output_type": "stream",
     "text": [
      " 38%|██████████████▊                        | 1901/5000 [03:41<06:53,  7.49it/s]"
     ]
    },
    {
     "name": "stdout",
     "output_type": "stream",
     "text": [
      "tensor(7.9872e-06, grad_fn=<AddBackward0>)\n"
     ]
    },
    {
     "name": "stderr",
     "output_type": "stream",
     "text": [
      " 40%|███████████████▌                       | 2001/5000 [03:55<07:01,  7.12it/s]"
     ]
    },
    {
     "name": "stdout",
     "output_type": "stream",
     "text": [
      "tensor(7.1213e-06, grad_fn=<AddBackward0>)\n"
     ]
    },
    {
     "name": "stderr",
     "output_type": "stream",
     "text": [
      " 42%|████████████████▍                      | 2101/5000 [04:09<06:40,  7.23it/s]"
     ]
    },
    {
     "name": "stdout",
     "output_type": "stream",
     "text": [
      "tensor(6.3780e-06, grad_fn=<AddBackward0>)\n"
     ]
    },
    {
     "name": "stderr",
     "output_type": "stream",
     "text": [
      " 44%|█████████████████▏                     | 2201/5000 [04:23<06:36,  7.07it/s]"
     ]
    },
    {
     "name": "stdout",
     "output_type": "stream",
     "text": [
      "tensor(5.7345e-06, grad_fn=<AddBackward0>)\n"
     ]
    },
    {
     "name": "stderr",
     "output_type": "stream",
     "text": [
      " 46%|█████████████████▉                     | 2301/5000 [04:37<06:27,  6.96it/s]"
     ]
    },
    {
     "name": "stdout",
     "output_type": "stream",
     "text": [
      "tensor(5.1751e-06, grad_fn=<AddBackward0>)\n"
     ]
    },
    {
     "name": "stderr",
     "output_type": "stream",
     "text": [
      " 48%|██████████████████▋                    | 2401/5000 [04:51<06:12,  6.97it/s]"
     ]
    },
    {
     "name": "stdout",
     "output_type": "stream",
     "text": [
      "tensor(4.6859e-06, grad_fn=<AddBackward0>)\n"
     ]
    },
    {
     "name": "stderr",
     "output_type": "stream",
     "text": [
      " 50%|███████████████████▌                   | 2501/5000 [05:07<07:16,  5.73it/s]"
     ]
    },
    {
     "name": "stdout",
     "output_type": "stream",
     "text": [
      "tensor(4.2537e-06, grad_fn=<AddBackward0>)\n"
     ]
    },
    {
     "name": "stderr",
     "output_type": "stream",
     "text": [
      " 52%|████████████████████▎                  | 2601/5000 [05:20<05:28,  7.30it/s]"
     ]
    },
    {
     "name": "stdout",
     "output_type": "stream",
     "text": [
      "tensor(3.8734e-06, grad_fn=<AddBackward0>)\n"
     ]
    },
    {
     "name": "stderr",
     "output_type": "stream",
     "text": [
      " 54%|█████████████████████                  | 2701/5000 [05:36<05:24,  7.09it/s]"
     ]
    },
    {
     "name": "stdout",
     "output_type": "stream",
     "text": [
      "tensor(3.5357e-06, grad_fn=<AddBackward0>)\n"
     ]
    },
    {
     "name": "stderr",
     "output_type": "stream",
     "text": [
      " 56%|█████████████████████▊                 | 2801/5000 [05:51<05:06,  7.17it/s]"
     ]
    },
    {
     "name": "stdout",
     "output_type": "stream",
     "text": [
      "tensor(3.2338e-06, grad_fn=<AddBackward0>)\n"
     ]
    },
    {
     "name": "stderr",
     "output_type": "stream",
     "text": [
      " 58%|██████████████████████▋                | 2901/5000 [06:05<04:55,  7.11it/s]"
     ]
    },
    {
     "name": "stdout",
     "output_type": "stream",
     "text": [
      "tensor(2.9644e-06, grad_fn=<AddBackward0>)\n"
     ]
    },
    {
     "name": "stderr",
     "output_type": "stream",
     "text": [
      " 60%|███████████████████████▍               | 3001/5000 [06:19<04:47,  6.94it/s]"
     ]
    },
    {
     "name": "stdout",
     "output_type": "stream",
     "text": [
      "tensor(2.7224e-06, grad_fn=<AddBackward0>)\n"
     ]
    },
    {
     "name": "stderr",
     "output_type": "stream",
     "text": [
      " 62%|████████████████████████▏              | 3101/5000 [06:33<04:28,  7.06it/s]"
     ]
    },
    {
     "name": "stdout",
     "output_type": "stream",
     "text": [
      "tensor(2.5057e-06, grad_fn=<AddBackward0>)\n"
     ]
    },
    {
     "name": "stderr",
     "output_type": "stream",
     "text": [
      " 64%|████████████████████████▉              | 3201/5000 [06:47<04:16,  7.01it/s]"
     ]
    },
    {
     "name": "stdout",
     "output_type": "stream",
     "text": [
      "tensor(2.3095e-06, grad_fn=<AddBackward0>)\n"
     ]
    },
    {
     "name": "stderr",
     "output_type": "stream",
     "text": [
      " 66%|█████████████████████████▋             | 3301/5000 [07:02<03:59,  7.08it/s]"
     ]
    },
    {
     "name": "stdout",
     "output_type": "stream",
     "text": [
      "tensor(2.1315e-06, grad_fn=<AddBackward0>)\n"
     ]
    },
    {
     "name": "stderr",
     "output_type": "stream",
     "text": [
      " 68%|██████████████████████████▌            | 3401/5000 [07:16<03:46,  7.07it/s]"
     ]
    },
    {
     "name": "stdout",
     "output_type": "stream",
     "text": [
      "tensor(1.9700e-06, grad_fn=<AddBackward0>)\n"
     ]
    },
    {
     "name": "stderr",
     "output_type": "stream",
     "text": [
      " 70%|███████████████████████████▎           | 3501/5000 [07:30<03:31,  7.08it/s]"
     ]
    },
    {
     "name": "stdout",
     "output_type": "stream",
     "text": [
      "tensor(1.8232e-06, grad_fn=<AddBackward0>)\n"
     ]
    },
    {
     "name": "stderr",
     "output_type": "stream",
     "text": [
      " 72%|████████████████████████████           | 3601/5000 [07:45<03:18,  7.03it/s]"
     ]
    },
    {
     "name": "stdout",
     "output_type": "stream",
     "text": [
      "tensor(1.6889e-06, grad_fn=<AddBackward0>)\n"
     ]
    },
    {
     "name": "stderr",
     "output_type": "stream",
     "text": [
      " 74%|████████████████████████████▊          | 3701/5000 [07:59<03:06,  6.98it/s]"
     ]
    },
    {
     "name": "stdout",
     "output_type": "stream",
     "text": [
      "tensor(1.5669e-06, grad_fn=<AddBackward0>)\n"
     ]
    },
    {
     "name": "stderr",
     "output_type": "stream",
     "text": [
      " 76%|█████████████████████████████▋         | 3801/5000 [08:14<03:05,  6.46it/s]"
     ]
    },
    {
     "name": "stdout",
     "output_type": "stream",
     "text": [
      "tensor(1.4549e-06, grad_fn=<AddBackward0>)\n"
     ]
    },
    {
     "name": "stderr",
     "output_type": "stream",
     "text": [
      " 78%|██████████████████████████████▍        | 3901/5000 [08:28<02:37,  6.96it/s]"
     ]
    },
    {
     "name": "stdout",
     "output_type": "stream",
     "text": [
      "tensor(1.3521e-06, grad_fn=<AddBackward0>)\n"
     ]
    },
    {
     "name": "stderr",
     "output_type": "stream",
     "text": [
      " 80%|███████████████████████████████▏       | 4001/5000 [08:43<02:28,  6.70it/s]"
     ]
    },
    {
     "name": "stdout",
     "output_type": "stream",
     "text": [
      "tensor(1.2578e-06, grad_fn=<AddBackward0>)\n"
     ]
    },
    {
     "name": "stderr",
     "output_type": "stream",
     "text": [
      " 82%|███████████████████████████████▉       | 4101/5000 [08:58<02:10,  6.87it/s]"
     ]
    },
    {
     "name": "stdout",
     "output_type": "stream",
     "text": [
      "tensor(1.1718e-06, grad_fn=<AddBackward0>)\n"
     ]
    },
    {
     "name": "stderr",
     "output_type": "stream",
     "text": [
      " 84%|████████████████████████████████▊      | 4201/5000 [09:13<01:58,  6.74it/s]"
     ]
    },
    {
     "name": "stdout",
     "output_type": "stream",
     "text": [
      "tensor(1.0914e-06, grad_fn=<AddBackward0>)\n"
     ]
    },
    {
     "name": "stderr",
     "output_type": "stream",
     "text": [
      " 86%|█████████████████████████████████▌     | 4301/5000 [09:28<01:42,  6.83it/s]"
     ]
    },
    {
     "name": "stdout",
     "output_type": "stream",
     "text": [
      "tensor(1.0196e-06, grad_fn=<AddBackward0>)\n"
     ]
    },
    {
     "name": "stderr",
     "output_type": "stream",
     "text": [
      " 88%|██████████████████████████████████▎    | 4401/5000 [09:43<01:27,  6.85it/s]"
     ]
    },
    {
     "name": "stdout",
     "output_type": "stream",
     "text": [
      "tensor(9.5120e-07, grad_fn=<AddBackward0>)\n"
     ]
    },
    {
     "name": "stderr",
     "output_type": "stream",
     "text": [
      " 90%|███████████████████████████████████    | 4501/5000 [09:57<01:13,  6.82it/s]"
     ]
    },
    {
     "name": "stdout",
     "output_type": "stream",
     "text": [
      "tensor(8.8838e-07, grad_fn=<AddBackward0>)\n"
     ]
    },
    {
     "name": "stderr",
     "output_type": "stream",
     "text": [
      " 92%|███████████████████████████████████▉   | 4601/5000 [10:12<00:59,  6.76it/s]"
     ]
    },
    {
     "name": "stdout",
     "output_type": "stream",
     "text": [
      "tensor(8.2982e-07, grad_fn=<AddBackward0>)\n"
     ]
    },
    {
     "name": "stderr",
     "output_type": "stream",
     "text": [
      " 94%|████████████████████████████████████▋  | 4701/5000 [10:27<00:44,  6.73it/s]"
     ]
    },
    {
     "name": "stdout",
     "output_type": "stream",
     "text": [
      "tensor(7.7623e-07, grad_fn=<AddBackward0>)\n"
     ]
    },
    {
     "name": "stderr",
     "output_type": "stream",
     "text": [
      " 96%|█████████████████████████████████████▍ | 4801/5000 [10:43<00:30,  6.59it/s]"
     ]
    },
    {
     "name": "stdout",
     "output_type": "stream",
     "text": [
      "tensor(7.2637e-07, grad_fn=<AddBackward0>)\n"
     ]
    },
    {
     "name": "stderr",
     "output_type": "stream",
     "text": [
      " 98%|██████████████████████████████████████▏| 4901/5000 [10:58<00:15,  6.60it/s]"
     ]
    },
    {
     "name": "stdout",
     "output_type": "stream",
     "text": [
      "tensor(6.8006e-07, grad_fn=<AddBackward0>)\n"
     ]
    },
    {
     "name": "stderr",
     "output_type": "stream",
     "text": [
      "100%|███████████████████████████████████████| 5000/5000 [11:13<00:00,  7.42it/s]\n"
     ]
    }
   ],
   "source": [
    "lambda_ = 1e-3\n",
    "optimizer = optim.Adam(model_erm.parameters(), lr=1e-3)\n",
    "\n",
    "for iteration in tqdm(range(5000)):\n",
    "    R = 0\n",
    "    for data in environments:\n",
    "        images = data['images']\n",
    "        images = images.view(images.shape[0],-1)\n",
    "        labels = data['labels']\n",
    "        \n",
    "        losses = bce(model_erm(images).ravel() * w, labels)\n",
    "        R += losses.mean()\n",
    "    if (iteration%100==0): \n",
    "        print(R)\n",
    "    \n",
    "    loss = R\n",
    "    \n",
    "    optimizer.zero_grad()\n",
    "    loss.backward()\n",
    "    optimizer.step()"
   ]
  },
  {
   "cell_type": "code",
   "execution_count": 554,
   "metadata": {},
   "outputs": [],
   "source": [
    "pred = (model_erm(im.view(im.shape[0],-1))>0.5).float().ravel()"
   ]
  },
  {
   "cell_type": "code",
   "execution_count": 555,
   "metadata": {},
   "outputs": [
    {
     "data": {
      "text/plain": [
       "tensor(0.3150)"
      ]
     },
     "execution_count": 555,
     "metadata": {},
     "output_type": "execute_result"
    }
   ],
   "source": [
    "(pred==lab).float().mean()"
   ]
  },
  {
   "cell_type": "code",
   "execution_count": null,
   "metadata": {},
   "outputs": [],
   "source": [
    "# Define and instantiate the model\n",
    "\n",
    "class MLP(nn.Module):\n",
    "def __init__(self):\n",
    "    super(MLP, self).__init__()\n",
    "    if flags.grayscale_model:\n",
    "        lin1 = nn.Linear(14 * 14, flags.hidden_dim)\n",
    "    else:\n",
    "        lin1 = nn.Linear(2 * 14 * 14, flags.hidden_dim)\n",
    "        lin2 = nn.Linear(flags.hidden_dim, flags.hidden_dim)\n",
    "        lin3 = nn.Linear(flags.hidden_dim, 1)\n",
    "        for lin in [lin1, lin2, lin3]:\n",
    "            nn.init.xavier_uniform_(lin.weight)\n",
    "            nn.init.zeros_(lin.bias)\n",
    "            self._main = nn.Sequential(lin1, nn.ReLU(True), lin2, nn.ReLU(True), lin3)\n",
    "def forward(self, input):\n",
    "  if flags.grayscale_model:\n",
    "    out = input.view(input.shape[0], 2, 14 * 14).sum(dim=1)\n",
    "  else:\n",
    "    out = input.view(input.shape[0], 2 * 14 * 14)\n",
    "  out = self._main(out)\n",
    "  return out\n",
    "\n",
    "mlp = MLP().cuda()\n",
    "\n",
    "  # Define loss function helpers\n",
    "\n",
    "  def mean_nll(logits, y):\n",
    "    return nn.functional.binary_cross_entropy_with_logits(logits, y)\n",
    "\n",
    "  def mean_accuracy(logits, y):\n",
    "    preds = (logits > 0.).float()\n",
    "    return ((preds - y).abs() < 1e-2).float().mean()\n",
    "\n",
    "def penalty(logits, y):\n",
    "scale = torch.tensor(1.).cuda().requires_grad_()\n",
    "loss = mean_nll(logits * scale, y)\n",
    "grad = autograd.grad(loss, [scale], create_graph=True)[0]\n",
    "return torch.sum(grad**2)\n",
    "\n",
    "# Train loop\n",
    "\n",
    "def pretty_print(*values):\n",
    "col_width = 13\n",
    "def format_val(v):\n",
    "  if not isinstance(v, str):\n",
    "    v = np.array2string(v, precision=5, floatmode='fixed')\n",
    "  return v.ljust(col_width)\n",
    "str_values = [format_val(v) for v in values]\n",
    "print(\"   \".join(str_values))\n",
    "\n",
    "optimizer = optim.Adam(mlp.parameters(), lr=flags.lr)\n",
    "\n",
    "pretty_print('step', 'train nll', 'train acc', 'train penalty', 'test acc')\n",
    "\n",
    "for step in range(flags.steps):\n",
    "for env in envs:\n",
    "  logits = mlp(env['images'])\n",
    "  env['nll'] = mean_nll(logits, env['labels'])\n",
    "  env['acc'] = mean_accuracy(logits, env['labels'])\n",
    "  env['penalty'] = penalty(logits, env['labels'])\n",
    "\n",
    "train_nll = torch.stack([envs[0]['nll'], envs[1]['nll']]).mean()\n",
    "train_acc = torch.stack([envs[0]['acc'], envs[1]['acc']]).mean()\n",
    "train_penalty = torch.stack([envs[0]['penalty'], envs[1]['penalty']]).mean()\n",
    "\n",
    "weight_norm = torch.tensor(0.).cuda()\n",
    "for w in mlp.parameters():\n",
    "  weight_norm += w.norm().pow(2)\n",
    "\n",
    "loss = train_nll.clone()\n",
    "loss += flags.l2_regularizer_weight * weight_norm\n",
    "penalty_weight = (flags.penalty_weight \n",
    "    if step >= flags.penalty_anneal_iters else 1.0)\n",
    "loss += penalty_weight * train_penalty\n",
    "if penalty_weight > 1.0:\n",
    "  # Rescale the entire loss to keep gradients in a reasonable range\n",
    "  loss /= penalty_weight\n",
    "\n",
    "optimizer.zero_grad()\n",
    "loss.backward()\n",
    "optimizer.step()\n",
    "\n",
    "test_acc = envs[2]['acc']\n",
    "if step % 100 == 0:\n",
    "  pretty_print(\n",
    "    np.int32(step),\n",
    "    train_nll.detach().cpu().numpy(),\n",
    "    train_acc.detach().cpu().numpy(),\n",
    "    train_penalty.detach().cpu().numpy(),\n",
    "    test_acc.detach().cpu().numpy()\n",
    "  )\n",
    "\n",
    "final_train_accs.append(train_acc.detach().cpu().numpy())\n",
    "final_test_accs.append(test_acc.detach().cpu().numpy())\n",
    "print('Final train acc (mean/std across restarts so far):')\n",
    "print(np.mean(final_train_accs), np.std(final_train_accs))\n",
    "print('Final test acc (mean/std across restarts so far):')\n",
    "print(np.mean(final_test_accs), np.std(final_test_accs))"
   ]
  },
  {
   "cell_type": "markdown",
   "metadata": {
    "id": "JMtNe_Bw4Ga7"
   },
   "source": [
    "### Test"
   ]
  },
  {
   "cell_type": "markdown",
   "metadata": {},
   "source": [
    "<div class=\"alert alert-danger\">\n",
    "    <a href=\"#Pong-theory\" data-toggle=\"collapse\"><b>Answers:</b></a><br>\n",
    "<div id=\"Pong-theory\" class=\"collapse\">\n",
    "\n",
    "One frame is a $210\\times 160$ RGB image with a 256 color palette, so the set of all possible frames has size $256^{210 \\times 160 \\times 3} \\sim 10^{242579}$. That's a little too many for an efficient enumeration. Of course, most of the possible images will never occur in a Breakout game and the true state space is actually a much smaller subset of the full set of possible images. Nevertheless, unless we provide a large engineering effort in describing the state space with few variables (which would be contradictory of our goal of a \"human-level\" AI) we will need to automatically discover some structure in the state sampled data.\n",
    "\n",
    "This is not an MDP because the transition dynamics do not respect Markov's property. The probability of transitioning from $s_t$ to $s_{t+1}$ is *not* independent of previous states. The problem here is that a single frame of the game does not reflect the velocity of the ball.\n",
    "\n",
    "To recover Markov's property one could simply stack a few frames together in the state space.\n",
    "</div>\n",
    "</div>"
   ]
  },
  {
   "cell_type": "markdown",
   "metadata": {},
   "source": [
    "# A collapsible section within markdown\n",
    "\n",
    "### Question \n",
    "\n",
    "What symbol is ...?  \n",
    "<br></br>\n",
    "\n",
    "<details>\n",
    "    <summary>Click once on <font color=\"red\"><b>this text</b></font> to hide/unhide the answer!</summary>\n",
    "  \n",
    "  ### Answer\n",
    "  The answer is the arrow thingy...\n",
    "</details>\n",
    "\n",
    "# Another example of collapsible section with markdown\n",
    "\n",
    "<details>\n",
    "  <summary>Click to expand!</summary>\n",
    "  \n",
    "  ## Heading\n",
    "  1. A numbered\n",
    "  2. list\n",
    "     * With some\n",
    "     * Sub bullets\n",
    "</details>"
   ]
  },
  {
   "cell_type": "code",
   "execution_count": null,
   "metadata": {},
   "outputs": [],
   "source": []
  }
 ],
 "metadata": {
  "colab": {
   "provenance": []
  },
  "kernelspec": {
   "display_name": "Python 3 (ipykernel)",
   "language": "python",
   "name": "python3"
  },
  "language_info": {
   "codemirror_mode": {
    "name": "ipython",
    "version": 3
   },
   "file_extension": ".py",
   "mimetype": "text/x-python",
   "name": "python",
   "nbconvert_exporter": "python",
   "pygments_lexer": "ipython3",
   "version": "3.9.7"
  }
 },
 "nbformat": 4,
 "nbformat_minor": 4
}
