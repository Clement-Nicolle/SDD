{
 "cells": [
  {
   "cell_type": "markdown",
   "id": "f1be03c0-4fa6-4bf8-915e-629c3721b430",
   "metadata": {
    "tags": []
   },
   "source": [
    "Clement NICOLLE"
   ]
  },
  {
   "cell_type": "markdown",
   "id": "40267644-4ffa-46a6-8cf8-f65af226f41d",
   "metadata": {
    "tags": []
   },
   "source": [
    "## Decision Theory assignement\n",
    "In this study we are interested in the quetion of making a ranking of all countries around the world regarding three main criteria : the Health, the Education and the Standard of Living."
   ]
  },
  {
   "cell_type": "markdown",
   "id": "7769a44a-d60d-4d26-8f49-e3dc4823d05d",
   "metadata": {
    "tags": []
   },
   "source": [
    "### Load and Preprocessing of data used"
   ]
  },
  {
   "cell_type": "code",
   "execution_count": 1,
   "id": "7560791d-ed33-4b24-a96d-860741d1b410",
   "metadata": {},
   "outputs": [],
   "source": [
    "# Import libraries useful for this case of study\n",
    "\n",
    "import pandas as pd\n",
    "import numpy as np\n",
    "import scipy as sp\n",
    "from scipy.optimize import linprog"
   ]
  },
  {
   "cell_type": "code",
   "execution_count": 2,
   "id": "59452717-6168-4b25-8f88-71b89e3b91d8",
   "metadata": {},
   "outputs": [
    {
     "data": {
      "text/html": [
       "<div>\n",
       "<style scoped>\n",
       "    .dataframe tbody tr th:only-of-type {\n",
       "        vertical-align: middle;\n",
       "    }\n",
       "\n",
       "    .dataframe tbody tr th {\n",
       "        vertical-align: top;\n",
       "    }\n",
       "\n",
       "    .dataframe thead th {\n",
       "        text-align: right;\n",
       "    }\n",
       "</style>\n",
       "<table border=\"1\" class=\"dataframe\">\n",
       "  <thead>\n",
       "    <tr style=\"text-align: right;\">\n",
       "      <th></th>\n",
       "      <th>Human Development Index (HDI)</th>\n",
       "      <th>Life expectancy at birth</th>\n",
       "      <th>Expected years of schooling</th>\n",
       "      <th>Mean years of schooling</th>\n",
       "      <th>Gross national income (GNI) per capita</th>\n",
       "    </tr>\n",
       "    <tr>\n",
       "      <th>Country</th>\n",
       "      <th></th>\n",
       "      <th></th>\n",
       "      <th></th>\n",
       "      <th></th>\n",
       "      <th></th>\n",
       "    </tr>\n",
       "  </thead>\n",
       "  <tbody>\n",
       "    <tr>\n",
       "      <th>Switzerland</th>\n",
       "      <td>0.962</td>\n",
       "      <td>83.9872</td>\n",
       "      <td>16.500299</td>\n",
       "      <td>13.85966</td>\n",
       "      <td>66933.00454</td>\n",
       "    </tr>\n",
       "    <tr>\n",
       "      <th>Norway</th>\n",
       "      <td>0.961</td>\n",
       "      <td>83.2339</td>\n",
       "      <td>18.1852</td>\n",
       "      <td>13.00363</td>\n",
       "      <td>64660.10622</td>\n",
       "    </tr>\n",
       "    <tr>\n",
       "      <th>Iceland</th>\n",
       "      <td>0.959</td>\n",
       "      <td>82.6782</td>\n",
       "      <td>19.163059</td>\n",
       "      <td>13.76717</td>\n",
       "      <td>55782.04981</td>\n",
       "    </tr>\n",
       "    <tr>\n",
       "      <th>Hong Kong, China (SAR)</th>\n",
       "      <td>0.952</td>\n",
       "      <td>85.4734</td>\n",
       "      <td>17.27817</td>\n",
       "      <td>12.22621</td>\n",
       "      <td>62606.8454</td>\n",
       "    </tr>\n",
       "    <tr>\n",
       "      <th>Australia</th>\n",
       "      <td>0.951</td>\n",
       "      <td>84.5265</td>\n",
       "      <td>21.05459</td>\n",
       "      <td>12.72682</td>\n",
       "      <td>49238.43335</td>\n",
       "    </tr>\n",
       "  </tbody>\n",
       "</table>\n",
       "</div>"
      ],
      "text/plain": [
       "                       Human Development Index (HDI)   \\\n",
       "Country                                                 \n",
       "Switzerland                                     0.962   \n",
       "Norway                                          0.961   \n",
       "Iceland                                         0.959   \n",
       "Hong Kong, China (SAR)                          0.952   \n",
       "Australia                                       0.951   \n",
       "\n",
       "                       Life expectancy at birth Expected years of schooling  \\\n",
       "Country                                                                       \n",
       "Switzerland                             83.9872                   16.500299   \n",
       "Norway                                  83.2339                     18.1852   \n",
       "Iceland                                 82.6782                   19.163059   \n",
       "Hong Kong, China (SAR)                  85.4734                    17.27817   \n",
       "Australia                               84.5265                    21.05459   \n",
       "\n",
       "                       Mean years of schooling  \\\n",
       "Country                                          \n",
       "Switzerland                           13.85966   \n",
       "Norway                                13.00363   \n",
       "Iceland                               13.76717   \n",
       "Hong Kong, China (SAR)                12.22621   \n",
       "Australia                             12.72682   \n",
       "\n",
       "                       Gross national income (GNI) per capita  \n",
       "Country                                                        \n",
       "Switzerland                                       66933.00454  \n",
       "Norway                                            64660.10622  \n",
       "Iceland                                           55782.04981  \n",
       "Hong Kong, China (SAR)                             62606.8454  \n",
       "Australia                                         49238.43335  "
      ]
     },
     "execution_count": 2,
     "metadata": {},
     "output_type": "execute_result"
    }
   ],
   "source": [
    "# Load the 2021-2022 HDI available on \n",
    "# https://hdr.undp.org/en/content/human-development-index-hdi\n",
    "\n",
    "df = pd.read_excel('./HDR21-22_Statistical_Annex_HDI_Table.xlsx', \n",
    "                   usecols='B,C,E,G,I,K', skiprows=4)\n",
    "df['Country'] = df['Unnamed: 1'] \n",
    "df.drop('Unnamed: 1', axis=1, inplace = True)\n",
    "df.drop(0, inplace = True) #first line is empty\n",
    "for i in range(198,202):\n",
    "    df.drop(i, inplace = True) #some data are uncomplete (this is the case\n",
    "                               #for 4 countries)\n",
    "        \n",
    "for i in range(204,225):       #these lines are note countries but\n",
    "    df.drop(i, inplace = True) #sets of countries\n",
    "\n",
    "df.dropna(inplace=True)\n",
    "df.set_index('Country', inplace=True)\n",
    "df.head()"
   ]
  },
  {
   "cell_type": "code",
   "execution_count": 3,
   "id": "65b137bc-24f0-4c14-a074-da48ca4c8d0e",
   "metadata": {},
   "outputs": [
    {
     "data": {
      "text/html": [
       "<div>\n",
       "<style scoped>\n",
       "    .dataframe tbody tr th:only-of-type {\n",
       "        vertical-align: middle;\n",
       "    }\n",
       "\n",
       "    .dataframe tbody tr th {\n",
       "        vertical-align: top;\n",
       "    }\n",
       "\n",
       "    .dataframe thead th {\n",
       "        text-align: right;\n",
       "    }\n",
       "</style>\n",
       "<table border=\"1\" class=\"dataframe\">\n",
       "  <thead>\n",
       "    <tr style=\"text-align: right;\">\n",
       "      <th></th>\n",
       "      <th>HDI</th>\n",
       "      <th>Health</th>\n",
       "      <th>Education</th>\n",
       "      <th>Standard of living</th>\n",
       "      <th>HDI ranking</th>\n",
       "    </tr>\n",
       "    <tr>\n",
       "      <th>Country</th>\n",
       "      <th></th>\n",
       "      <th></th>\n",
       "      <th></th>\n",
       "      <th></th>\n",
       "      <th></th>\n",
       "    </tr>\n",
       "  </thead>\n",
       "  <tbody>\n",
       "    <tr>\n",
       "      <th>Switzerland</th>\n",
       "      <td>0.962</td>\n",
       "      <td>83.9872</td>\n",
       "      <td>15.179980</td>\n",
       "      <td>66933.00454</td>\n",
       "      <td>1</td>\n",
       "    </tr>\n",
       "    <tr>\n",
       "      <th>Norway</th>\n",
       "      <td>0.961</td>\n",
       "      <td>83.2339</td>\n",
       "      <td>15.594415</td>\n",
       "      <td>64660.10622</td>\n",
       "      <td>2</td>\n",
       "    </tr>\n",
       "    <tr>\n",
       "      <th>Iceland</th>\n",
       "      <td>0.959</td>\n",
       "      <td>82.6782</td>\n",
       "      <td>16.465115</td>\n",
       "      <td>55782.04981</td>\n",
       "      <td>3</td>\n",
       "    </tr>\n",
       "    <tr>\n",
       "      <th>Hong Kong, China (SAR)</th>\n",
       "      <td>0.952</td>\n",
       "      <td>85.4734</td>\n",
       "      <td>14.752190</td>\n",
       "      <td>62606.8454</td>\n",
       "      <td>4</td>\n",
       "    </tr>\n",
       "    <tr>\n",
       "      <th>Australia</th>\n",
       "      <td>0.951</td>\n",
       "      <td>84.5265</td>\n",
       "      <td>16.890705</td>\n",
       "      <td>49238.43335</td>\n",
       "      <td>5</td>\n",
       "    </tr>\n",
       "  </tbody>\n",
       "</table>\n",
       "</div>"
      ],
      "text/plain": [
       "                          HDI   Health  Education Standard of living  \\\n",
       "Country                                                                \n",
       "Switzerland             0.962  83.9872  15.179980        66933.00454   \n",
       "Norway                  0.961  83.2339  15.594415        64660.10622   \n",
       "Iceland                 0.959  82.6782  16.465115        55782.04981   \n",
       "Hong Kong, China (SAR)  0.952  85.4734  14.752190         62606.8454   \n",
       "Australia               0.951  84.5265  16.890705        49238.43335   \n",
       "\n",
       "                        HDI ranking  \n",
       "Country                              \n",
       "Switzerland                       1  \n",
       "Norway                            2  \n",
       "Iceland                           3  \n",
       "Hong Kong, China (SAR)            4  \n",
       "Australia                         5  "
      ]
     },
     "execution_count": 3,
     "metadata": {},
     "output_type": "execute_result"
    }
   ],
   "source": [
    "# From the previous brute DataFrame create a new one more usable, mainly :\n",
    "# - change the name of columns according to the assignement\n",
    "# - compute the Standard of living index from expected and mean years \n",
    "# of schooling\n",
    "# - add a column for the HDI ranking\n",
    "\n",
    "df_hes = pd.DataFrame(df.index)\n",
    "df_hes['HDI'] = df['Human Development Index (HDI) '].values\n",
    "df_hes['Health'] = df['Life expectancy at birth'].values\n",
    "df_hes['Education'] = df.apply(lambda x : (x['Expected years of schooling']+x['Mean years of schooling'])/2, axis=1).values\n",
    "df_hes['Standard of living'] = df['Gross national income (GNI) per capita'].values\n",
    "df_hes = df_hes.sort_values('HDI', ascending = False)\n",
    "df_hes.reset_index(inplace =True)\n",
    "df_hes['HDI ranking']=df_hes['index'].apply(lambda x : x+1)\n",
    "df_hes.drop('index',axis=1, inplace=True)\n",
    "df_hes.set_index('Country', inplace=True)\n",
    "df_hes.head()"
   ]
  },
  {
   "cell_type": "code",
   "execution_count": 4,
   "id": "617eb6a5-cefc-48a1-925a-7cbb26711905",
   "metadata": {},
   "outputs": [],
   "source": [
    "# Normalize the different criteria \n",
    "\n",
    "df_hes['Health'] = df_hes.Health/df_hes.Health.max()\n",
    "df_hes['Education'] = df_hes.Education/df_hes.Education.max()\n",
    "df_hes['Standard of living'] = df_hes['Standard of living']/df_hes['Standard of living'].max()"
   ]
  },
  {
   "cell_type": "markdown",
   "id": "3c43ff9e-1808-4dee-895d-14eff30d779a",
   "metadata": {
    "tags": []
   },
   "source": [
    "### First Method :  Using Direct Comparisons of Subset of Alternatives to Infer Criteria Weights"
   ]
  },
  {
   "cell_type": "markdown",
   "id": "569a013f-d4b6-49c2-bec7-ae0415182067",
   "metadata": {
    "jp-MarkdownHeadingCollapsed": true,
    "tags": []
   },
   "source": [
    "Let $C_{2k} \\succ C_{2k+1}$ a set of comparisons of some countries.\n",
    "\n",
    "If we denote as $h_{2k}, e_{2k}, s_{2k}$ the healh, education and standard of living of country $C_{2k}$ (resp $C_{2k+1}$) and $w_h, w_e, w_s$ the weights associated which have to be determined, we can write this optimization problem as :\n",
    "\n",
    "$$\\min \\sum\\limits_{k} e_k$$\n",
    "under the constraints : \n",
    "$$h_{2k}*w_h+ e_{2k}*w_e+ s_{2k}*w_s-h_{2k+1}*w_h+ e_{2k+1}*w_e+ s_{2k+1}*w_s+e_k\\geq\\delta_k$$\n",
    "$$w_h+ w_e+ w_s = 1$$\n",
    "$$w_h, w_e, w_s\\geq 0$$\n",
    "$$e_k\\geq0$$"
   ]
  },
  {
   "cell_type": "markdown",
   "id": "935b9772-791d-4950-8792-f08333b3823e",
   "metadata": {},
   "source": [
    "To solve such a linear problem, the library scipy.optimize provides the wonderful function linprog but we first need to rewrite the previous system as :\n",
    "\n",
    "$$\\min c^T.w$$\n",
    "under the constraints :\n",
    "$$A_{ub}.w\\leq b_{ub}$$\n",
    "$$A_{eq}.w = b_{eq}$$\n",
    "\n",
    "where $w=\\begin{pmatrix}w_h \\\\ w_e \\\\ w_s \\\\ \\vdots \\\\ e_k \\\\ \\vdots \\end{pmatrix}, c=\\begin{pmatrix}0 \\\\ 0 \\\\ 0 \\\\ 1\\\\ \\vdots \\\\ 1\\end{pmatrix}, b_{ub}=\\begin{pmatrix} \\vdots \\\\ -\\delta_k \\\\ \\vdots \\end{pmatrix}, A_{eq} = \\begin{pmatrix} 1&1&1&0&\\cdots&0\\end{pmatrix}$\n",
    "\n",
    "$A_{ub}= \\begin{pmatrix} \\vdots & \\vdots & \\vdots & -1 & 0 & \\cdots & 0\\\\ h_{2k+1}-h_{2k} & e_{2k+1}-e_{2k} & s_{2k+1}-s_{2k} & 0 & \\ddots & \\ddots & \\vdots\\\\ \\vdots & \\vdots & \\vdots & \\vdots & \\ddots & \\ddots & 0\\\\ \\vdots & \\vdots & \\vdots & 0 & \\cdots & 0 & -1 \\end{pmatrix} $ and  $b_{eq} = \\begin{pmatrix} 1 \\end{pmatrix}$"
   ]
  },
  {
   "cell_type": "code",
   "execution_count": 5,
   "id": "7bd5a9e2-c70f-4d2f-af35-d65578c6e5a4",
   "metadata": {},
   "outputs": [],
   "source": [
    "# Create a list of comparisons couples\n",
    "\n",
    "comparisons = [('Oman','Brazil'),('Ireland', 'Portugal'),\n",
    "               ('Türkiye', 'Ukraine'), ('Zimbabwe', 'Haiti'),\n",
    "               ('Japan','Estonia'),('Algeria','Panama'),\n",
    "              ('Kenya','India'),('Peru', 'Romania')]"
   ]
  },
  {
   "cell_type": "code",
   "execution_count": 6,
   "id": "e3711ee2-1448-44f9-8344-684d3bccd992",
   "metadata": {},
   "outputs": [],
   "source": [
    "# Define the value of the parameter delta\n",
    "\n",
    "delta_ = 0.1"
   ]
  },
  {
   "cell_type": "code",
   "execution_count": 7,
   "id": "c769972f-ed84-4b18-ab4c-c16ac365194b",
   "metadata": {},
   "outputs": [],
   "source": [
    "# Create the matrices used by the linprog function\n",
    "\n",
    "Aub = np.zeros((len(comparisons),len(comparisons)+3))\n",
    "for i,couple in enumerate(comparisons):\n",
    "    best,worth = couple\n",
    "    Aub[i][0] = df_hes.loc[worth].Health - df_hes.loc[best].Health\n",
    "    Aub[i][1] = df_hes.loc[worth].Education - df_hes.loc[best].Education\n",
    "    Aub[i][2] = df_hes.loc[worth]['Standard of living'] - df_hes.loc[best]['Standard of living']\n",
    "    Aub[i][3+i] = -1\n",
    "\n",
    "bub = - delta_ * np.ones(len(comparisons))\n",
    "\n",
    "Aeq = np.zeros((1,len(comparisons)+3))\n",
    "Aeq[0][0] = 1\n",
    "Aeq[0][1] = 1\n",
    "Aeq[0][2] = 1\n",
    "\n",
    "beq = np.array([1])\n",
    "\n",
    "c = np.ones(len(comparisons)+3)\n",
    "c[0] = 0\n",
    "c[1] = 0\n",
    "c[2] = 0"
   ]
  },
  {
   "cell_type": "code",
   "execution_count": 8,
   "id": "7a377550-e212-46c9-b9b1-cc84a12fdd73",
   "metadata": {},
   "outputs": [
    {
     "name": "stdout",
     "output_type": "stream",
     "text": [
      "Optimization terminated successfully.\n",
      "         Current function value: 0.583074    \n",
      "         Iterations: 11\n"
     ]
    },
    {
     "data": {
      "text/plain": [
       "array([0.26926672, 0.67999576, 0.05073751])"
      ]
     },
     "execution_count": 8,
     "metadata": {},
     "output_type": "execute_result"
    }
   ],
   "source": [
    "# Solve the linear problem and store the solution weights \n",
    "\n",
    "res = linprog(c, A_ub=Aub, b_ub=bub, A_eq=Aeq, b_eq=beq, method='simplex', options={\"disp\": True})  # linear programming p[roblem\n",
    "w = res.x[0:3]\n",
    "w"
   ]
  },
  {
   "cell_type": "code",
   "execution_count": 9,
   "id": "0d3a8845-f2d3-47a6-9d3e-2468c943b0c7",
   "metadata": {},
   "outputs": [
    {
     "data": {
      "text/html": [
       "<div>\n",
       "<style scoped>\n",
       "    .dataframe tbody tr th:only-of-type {\n",
       "        vertical-align: middle;\n",
       "    }\n",
       "\n",
       "    .dataframe tbody tr th {\n",
       "        vertical-align: top;\n",
       "    }\n",
       "\n",
       "    .dataframe thead th {\n",
       "        text-align: right;\n",
       "    }\n",
       "</style>\n",
       "<table border=\"1\" class=\"dataframe\">\n",
       "  <thead>\n",
       "    <tr style=\"text-align: right;\">\n",
       "      <th></th>\n",
       "      <th>HDI</th>\n",
       "      <th>Health</th>\n",
       "      <th>Education</th>\n",
       "      <th>Standard of living</th>\n",
       "      <th>HDI ranking</th>\n",
       "      <th>Result</th>\n",
       "      <th>New ranking</th>\n",
       "    </tr>\n",
       "    <tr>\n",
       "      <th>Country</th>\n",
       "      <th></th>\n",
       "      <th></th>\n",
       "      <th></th>\n",
       "      <th></th>\n",
       "      <th></th>\n",
       "      <th></th>\n",
       "      <th></th>\n",
       "    </tr>\n",
       "  </thead>\n",
       "  <tbody>\n",
       "    <tr>\n",
       "      <th>Australia</th>\n",
       "      <td>0.951</td>\n",
       "      <td>0.988922</td>\n",
       "      <td>1.000000</td>\n",
       "      <td>0.335344</td>\n",
       "      <td>5</td>\n",
       "      <td>0.963294</td>\n",
       "      <td>1</td>\n",
       "    </tr>\n",
       "    <tr>\n",
       "      <th>New Zealand</th>\n",
       "      <td>0.937</td>\n",
       "      <td>0.964643</td>\n",
       "      <td>0.983635</td>\n",
       "      <td>0.300057</td>\n",
       "      <td>14</td>\n",
       "      <td>0.943838</td>\n",
       "      <td>2</td>\n",
       "    </tr>\n",
       "    <tr>\n",
       "      <th>Iceland</th>\n",
       "      <td>0.959</td>\n",
       "      <td>0.967297</td>\n",
       "      <td>0.974803</td>\n",
       "      <td>0.37991</td>\n",
       "      <td>3</td>\n",
       "      <td>0.942599</td>\n",
       "      <td>3</td>\n",
       "    </tr>\n",
       "    <tr>\n",
       "      <th>Sweden</th>\n",
       "      <td>0.947</td>\n",
       "      <td>0.970867</td>\n",
       "      <td>0.948103</td>\n",
       "      <td>0.371106</td>\n",
       "      <td>7</td>\n",
       "      <td>0.924957</td>\n",
       "      <td>4</td>\n",
       "    </tr>\n",
       "    <tr>\n",
       "      <th>Belgium</th>\n",
       "      <td>0.937</td>\n",
       "      <td>0.957944</td>\n",
       "      <td>0.946672</td>\n",
       "      <td>0.35615</td>\n",
       "      <td>13</td>\n",
       "      <td>0.919745</td>\n",
       "      <td>5</td>\n",
       "    </tr>\n",
       "  </tbody>\n",
       "</table>\n",
       "</div>"
      ],
      "text/plain": [
       "               HDI    Health  Education Standard of living  HDI ranking  \\\n",
       "Country                                                                   \n",
       "Australia    0.951  0.988922   1.000000           0.335344            5   \n",
       "New Zealand  0.937  0.964643   0.983635           0.300057           14   \n",
       "Iceland      0.959  0.967297   0.974803            0.37991            3   \n",
       "Sweden       0.947  0.970867   0.948103           0.371106            7   \n",
       "Belgium      0.937  0.957944   0.946672            0.35615           13   \n",
       "\n",
       "               Result  New ranking  \n",
       "Country                             \n",
       "Australia    0.963294            1  \n",
       "New Zealand  0.943838            2  \n",
       "Iceland      0.942599            3  \n",
       "Sweden       0.924957            4  \n",
       "Belgium      0.919745            5  "
      ]
     },
     "execution_count": 9,
     "metadata": {},
     "output_type": "execute_result"
    }
   ],
   "source": [
    "# Calculate for each country its score and determine its new rank\n",
    "\n",
    "df_hes['Result']= df_hes.apply(lambda x : w[0]*x.Health + w[1]*x.Education +\n",
    "                              w[2]*x['Standard of living'], axis=1)\n",
    "df_hes.sort_values('Result', ascending=False, inplace = True)\n",
    "df_hes.reset_index(inplace =True)\n",
    "df_hes.reset_index(inplace =True)\n",
    "df_hes['New ranking']=df_hes['index'].apply(lambda x : x+1)\n",
    "df_hes.drop('index',axis=1, inplace=True)\n",
    "df_hes.set_index('Country', inplace=True)\n",
    "df_hes.head()"
   ]
  },
  {
   "cell_type": "markdown",
   "id": "14e76c27-bc53-4405-83dc-a99593b71822",
   "metadata": {},
   "source": [
    "#### Question 1"
   ]
  },
  {
   "cell_type": "markdown",
   "id": "029e5f3d-6cf4-4669-9a03-0f619cb5dd86",
   "metadata": {},
   "source": [
    "As we a priori want to give the same importance to the difference of values for every criteria, I took the same value for each delta. \n",
    "\n",
    "After several tries, the value of 0.1 seemed to be the most relevant."
   ]
  },
  {
   "cell_type": "markdown",
   "id": "49ac7e7e-1287-4654-9e6c-32298d4cb98f",
   "metadata": {},
   "source": [
    "#### Question 2"
   ]
  },
  {
   "cell_type": "code",
   "execution_count": 10,
   "id": "af7984ea-2e14-41ef-b3d7-1fcdab2da2da",
   "metadata": {},
   "outputs": [
    {
     "data": {
      "text/html": [
       "<div>\n",
       "<style scoped>\n",
       "    .dataframe tbody tr th:only-of-type {\n",
       "        vertical-align: middle;\n",
       "    }\n",
       "\n",
       "    .dataframe tbody tr th {\n",
       "        vertical-align: top;\n",
       "    }\n",
       "\n",
       "    .dataframe thead th {\n",
       "        text-align: right;\n",
       "    }\n",
       "</style>\n",
       "<table border=\"1\" class=\"dataframe\">\n",
       "  <thead>\n",
       "    <tr style=\"text-align: right;\">\n",
       "      <th></th>\n",
       "      <th>Health</th>\n",
       "      <th>Education</th>\n",
       "      <th>Standard of living</th>\n",
       "      <th>New ranking</th>\n",
       "    </tr>\n",
       "    <tr>\n",
       "      <th>Country</th>\n",
       "      <th></th>\n",
       "      <th></th>\n",
       "      <th></th>\n",
       "      <th></th>\n",
       "    </tr>\n",
       "  </thead>\n",
       "  <tbody>\n",
       "    <tr>\n",
       "      <th>Oman</th>\n",
       "      <td>0.848692</td>\n",
       "      <td>0.776389</td>\n",
       "      <td>0.184256</td>\n",
       "      <td>55</td>\n",
       "    </tr>\n",
       "    <tr>\n",
       "      <th>Brazil</th>\n",
       "      <td>0.851147</td>\n",
       "      <td>0.702394</td>\n",
       "      <td>0.097868</td>\n",
       "      <td>93</td>\n",
       "    </tr>\n",
       "    <tr>\n",
       "      <th>Ireland</th>\n",
       "      <td>0.959335</td>\n",
       "      <td>0.903676</td>\n",
       "      <td>0.518757</td>\n",
       "      <td>10</td>\n",
       "    </tr>\n",
       "    <tr>\n",
       "      <th>Portugal</th>\n",
       "      <td>0.948182</td>\n",
       "      <td>0.782891</td>\n",
       "      <td>0.225803</td>\n",
       "      <td>44</td>\n",
       "    </tr>\n",
       "    <tr>\n",
       "      <th>Türkiye</th>\n",
       "      <td>0.889545</td>\n",
       "      <td>0.798408</td>\n",
       "      <td>0.211352</td>\n",
       "      <td>49</td>\n",
       "    </tr>\n",
       "    <tr>\n",
       "      <th>Ukraine</th>\n",
       "      <td>0.837968</td>\n",
       "      <td>0.772259</td>\n",
       "      <td>0.090278</td>\n",
       "      <td>63</td>\n",
       "    </tr>\n",
       "    <tr>\n",
       "      <th>Zimbabwe</th>\n",
       "      <td>0.693234</td>\n",
       "      <td>0.616371</td>\n",
       "      <td>0.025948</td>\n",
       "      <td>135</td>\n",
       "    </tr>\n",
       "    <tr>\n",
       "      <th>Haiti</th>\n",
       "      <td>0.739322</td>\n",
       "      <td>0.451550</td>\n",
       "      <td>0.019393</td>\n",
       "      <td>167</td>\n",
       "    </tr>\n",
       "    <tr>\n",
       "      <th>Japan</th>\n",
       "      <td>0.991933</td>\n",
       "      <td>0.846256</td>\n",
       "      <td>0.287914</td>\n",
       "      <td>24</td>\n",
       "    </tr>\n",
       "    <tr>\n",
       "      <th>Estonia</th>\n",
       "      <td>0.902545</td>\n",
       "      <td>0.872592</td>\n",
       "      <td>0.259132</td>\n",
       "      <td>25</td>\n",
       "    </tr>\n",
       "    <tr>\n",
       "      <th>Algeria</th>\n",
       "      <td>0.893573</td>\n",
       "      <td>0.671854</td>\n",
       "      <td>0.073556</td>\n",
       "      <td>102</td>\n",
       "    </tr>\n",
       "    <tr>\n",
       "      <th>Panama</th>\n",
       "      <td>0.891778</td>\n",
       "      <td>0.698564</td>\n",
       "      <td>0.183593</td>\n",
       "      <td>80</td>\n",
       "    </tr>\n",
       "    <tr>\n",
       "      <th>Kenya</th>\n",
       "      <td>0.718668</td>\n",
       "      <td>0.513613</td>\n",
       "      <td>0.030468</td>\n",
       "      <td>153</td>\n",
       "    </tr>\n",
       "    <tr>\n",
       "      <th>India</th>\n",
       "      <td>0.786675</td>\n",
       "      <td>0.548519</td>\n",
       "      <td>0.044882</td>\n",
       "      <td>138</td>\n",
       "    </tr>\n",
       "    <tr>\n",
       "      <th>Peru</th>\n",
       "      <td>0.846777</td>\n",
       "      <td>0.748141</td>\n",
       "      <td>0.083402</td>\n",
       "      <td>72</td>\n",
       "    </tr>\n",
       "    <tr>\n",
       "      <th>Romania</th>\n",
       "      <td>0.867927</td>\n",
       "      <td>0.755002</td>\n",
       "      <td>0.204504</td>\n",
       "      <td>62</td>\n",
       "    </tr>\n",
       "  </tbody>\n",
       "</table>\n",
       "</div>"
      ],
      "text/plain": [
       "            Health  Education Standard of living  New ranking\n",
       "Country                                                      \n",
       "Oman      0.848692   0.776389           0.184256           55\n",
       "Brazil    0.851147   0.702394           0.097868           93\n",
       "Ireland   0.959335   0.903676           0.518757           10\n",
       "Portugal  0.948182   0.782891           0.225803           44\n",
       "Türkiye   0.889545   0.798408           0.211352           49\n",
       "Ukraine   0.837968   0.772259           0.090278           63\n",
       "Zimbabwe  0.693234   0.616371           0.025948          135\n",
       "Haiti     0.739322   0.451550           0.019393          167\n",
       "Japan     0.991933   0.846256           0.287914           24\n",
       "Estonia   0.902545   0.872592           0.259132           25\n",
       "Algeria   0.893573   0.671854           0.073556          102\n",
       "Panama    0.891778   0.698564           0.183593           80\n",
       "Kenya     0.718668   0.513613           0.030468          153\n",
       "India     0.786675   0.548519           0.044882          138\n",
       "Peru      0.846777   0.748141           0.083402           72\n",
       "Romania   0.867927   0.755002           0.204504           62"
      ]
     },
     "execution_count": 10,
     "metadata": {},
     "output_type": "execute_result"
    }
   ],
   "source": [
    "# extract the new rank of countries used to infer weights\n",
    "\n",
    "original_countries = np.concatenate(np.array(comparisons))\n",
    "df_hes.loc[original_countries][['Health','Education', \n",
    "                                'Standard of living','New ranking']]"
   ]
  },
  {
   "cell_type": "markdown",
   "id": "82b36f68-91bd-4785-aa3a-32441eff3ebb",
   "metadata": {},
   "source": [
    "Our optimal solution exhibits 3 inconsistencies (out of 8), which are Panama $\\succ$ Algeria, India $\\succ$ Kenya and Romania $\\succ$ Peru.\n",
    "\n",
    "In the case of the two last inconsistencies, they are not surprising, in fact the **three** criteria of India (resp Romania)\n",
    "are superior to these of Kenya (resp Peru)"
   ]
  },
  {
   "cell_type": "markdown",
   "id": "2eed5206-78ce-4f76-a41f-4309bd81b220",
   "metadata": {},
   "source": [
    "#### Question 3"
   ]
  },
  {
   "cell_type": "code",
   "execution_count": 11,
   "id": "8857a829-30b5-49df-bfb7-382bed29ede0",
   "metadata": {},
   "outputs": [
    {
     "name": "stdout",
     "output_type": "stream",
     "text": [
      "Given delta = 0.100000, the optimal weights are 0.269267 for the   Health, 0.679996 for the Education and 0.050738 for the standard of living\n"
     ]
    }
   ],
   "source": [
    "print('Given delta = %f, the optimal weights are %f for the   Health, %f for the Education and %f for the standard of living' % (delta_, w[0], w[1], w[2]))"
   ]
  },
  {
   "cell_type": "markdown",
   "id": "fbe54c69-a9f9-418e-a364-39f2ff29f1c9",
   "metadata": {},
   "source": [
    "#### Question 4"
   ]
  },
  {
   "cell_type": "code",
   "execution_count": 12,
   "id": "8f0b2f36-508b-40ca-afd5-6b74a9d864af",
   "metadata": {},
   "outputs": [
    {
     "data": {
      "text/plain": [
       "HDI                      0.936\n",
       "Health                0.967044\n",
       "Education             0.894891\n",
       "Standard of living    0.318791\n",
       "HDI ranking                 15\n",
       "Result                 0.88509\n",
       "New ranking                 15\n",
       "Name: Canada, dtype: object"
      ]
     },
     "execution_count": 12,
     "metadata": {},
     "output_type": "execute_result"
    }
   ],
   "source": [
    "# Load statistics of Canada\n",
    "\n",
    "df_hes.loc['Canada']"
   ]
  },
  {
   "cell_type": "markdown",
   "id": "8e01fa29-ece7-4bdb-8bcd-d86b05bdbf61",
   "metadata": {},
   "source": [
    "Canada ranks 15th with this method. Interestingly, it obtains the same rank than with the HDI ranking !"
   ]
  },
  {
   "cell_type": "markdown",
   "id": "28e39421-9ab4-4618-85af-14f54bb2f98d",
   "metadata": {
    "tags": []
   },
   "source": [
    "### Second Method : Applying Data Envelopment Analysis "
   ]
  },
  {
   "cell_type": "markdown",
   "id": "6d6c9134-f751-4a9b-8628-e663d81d480f",
   "metadata": {},
   "source": [
    "In our study case, the higher values of each criteria of a country are, the better the country will be ranked. In the context of Data Envelopment Analysis, it means that all three criteria are considered as output and there is no input. Applying DAE using an output-oriented model and assuming variable returns to scale (VRS) gives us for every country $o$ this linear problem to solve :\n",
    "\n",
    "$$\\max \\phi + \\epsilon\\cdot(r_h^++r_e^++r_s^+)$$\n",
    "under the constraints : \n",
    "$$\\sum\\limits_{k=1}^n \\lambda_k h_k -r_h^+ = \\phi h_o$$\n",
    "$$\\sum\\limits_{k=1}^n \\lambda_k e_k -r_e^+ = \\phi e_o$$\n",
    "$$\\sum\\limits_{k=1}^n \\lambda_k s_k -r_s^+ = \\phi s_o$$\n",
    "$$\\sum\\limits_{k=1}^n \\lambda_k=1$$\n",
    "$$\\lambda_k\\geq0$$\n",
    "where $n$ is the number of country, $h_k,e_k,s_k$ the criteria associated to country $k$ and $\\epsilon$ an arbitrary small number."
   ]
  },
  {
   "cell_type": "markdown",
   "id": "3b43c2ef-660d-4b9e-bc60-fab0ed807c21",
   "metadata": {},
   "source": [
    "Once again, it can be solved thanks to the linprog function rewriting the previous problem as :\n",
    "\n",
    "$$\\min c^T.w$$\n",
    "under the constraints :\n",
    "$$A_{eq}.w = b_{eq}$$\n",
    "\n",
    "where $w=\\begin{pmatrix}\\phi \\\\ r_h^+ \\\\ r_e^+ \\\\ r_s^+ \\\\ \\vdots \\\\ \\lambda_k \\\\ \\vdots \\end{pmatrix}, c=\\begin{pmatrix}-1 \\\\ -\\epsilon \\\\ -\\epsilon \\\\ -\\epsilon \\\\ \\vdots \\\\ 0 \\\\ \\vdots \\end{pmatrix},b_{eq} = \\begin{pmatrix} 0\\\\0\\\\0\\\\1 \\end{pmatrix}$ and \n",
    "$A_{eq} = \\begin{pmatrix} h_o & 1 & 0 & 0 & \\cdots & h_k & \\cdots\\\\ e_o & 0 & 1 & 0 & \\cdots & e_k & \\cdots\\\\ s_o & 0 & 0 & 1 & \\cdots & s_k & \\cdots\\\\ 0 & 0 & 0 & 0 & 1 & \\cdots & 1 \\end{pmatrix} $"
   ]
  },
  {
   "cell_type": "code",
   "execution_count": 13,
   "id": "d085181f-ec58-4403-a825-3d89ad1cf6cc",
   "metadata": {},
   "outputs": [
    {
     "data": {
      "text/html": [
       "<div>\n",
       "<style scoped>\n",
       "    .dataframe tbody tr th:only-of-type {\n",
       "        vertical-align: middle;\n",
       "    }\n",
       "\n",
       "    .dataframe tbody tr th {\n",
       "        vertical-align: top;\n",
       "    }\n",
       "\n",
       "    .dataframe thead th {\n",
       "        text-align: right;\n",
       "    }\n",
       "</style>\n",
       "<table border=\"1\" class=\"dataframe\">\n",
       "  <thead>\n",
       "    <tr style=\"text-align: right;\">\n",
       "      <th></th>\n",
       "      <th>Health</th>\n",
       "      <th>Education</th>\n",
       "      <th>Standard of living</th>\n",
       "    </tr>\n",
       "    <tr>\n",
       "      <th>Country</th>\n",
       "      <th></th>\n",
       "      <th></th>\n",
       "      <th></th>\n",
       "    </tr>\n",
       "  </thead>\n",
       "  <tbody>\n",
       "    <tr>\n",
       "      <th>Switzerland</th>\n",
       "      <td>83.9872</td>\n",
       "      <td>15.179980</td>\n",
       "      <td>66933.00454</td>\n",
       "    </tr>\n",
       "    <tr>\n",
       "      <th>Norway</th>\n",
       "      <td>83.2339</td>\n",
       "      <td>15.594415</td>\n",
       "      <td>64660.10622</td>\n",
       "    </tr>\n",
       "    <tr>\n",
       "      <th>Iceland</th>\n",
       "      <td>82.6782</td>\n",
       "      <td>16.465115</td>\n",
       "      <td>55782.04981</td>\n",
       "    </tr>\n",
       "    <tr>\n",
       "      <th>Hong Kong, China (SAR)</th>\n",
       "      <td>85.4734</td>\n",
       "      <td>14.752190</td>\n",
       "      <td>62606.8454</td>\n",
       "    </tr>\n",
       "    <tr>\n",
       "      <th>Australia</th>\n",
       "      <td>84.5265</td>\n",
       "      <td>16.890705</td>\n",
       "      <td>49238.43335</td>\n",
       "    </tr>\n",
       "  </tbody>\n",
       "</table>\n",
       "</div>"
      ],
      "text/plain": [
       "                         Health  Education Standard of living\n",
       "Country                                                      \n",
       "Switzerland             83.9872  15.179980        66933.00454\n",
       "Norway                  83.2339  15.594415        64660.10622\n",
       "Iceland                 82.6782  16.465115        55782.04981\n",
       "Hong Kong, China (SAR)  85.4734  14.752190         62606.8454\n",
       "Australia               84.5265  16.890705        49238.43335"
      ]
     },
     "execution_count": 13,
     "metadata": {},
     "output_type": "execute_result"
    }
   ],
   "source": [
    "# From the previous brute DataFrame df create a new one more usable, mainly :\n",
    "# - change the name of columns according to the assignement\n",
    "# - compute the Standard of living index from expected and mean years \n",
    "# of schooling\n",
    "# This time, values are not normalized \n",
    "\n",
    "df_hes = pd.DataFrame(df.index)\n",
    "df_hes['Health'] = df['Life expectancy at birth'].values\n",
    "df_hes['Education'] = df.apply(lambda x : (x['Expected years of schooling']+x['Mean years of schooling'])/2, axis=1).values\n",
    "df_hes['Standard of living'] = df['Gross national income (GNI) per capita'].values\n",
    "df_hes.set_index('Country', inplace=True)\n",
    "df_hes.head()"
   ]
  },
  {
   "cell_type": "code",
   "execution_count": 14,
   "id": "263bbd82-7625-463d-a16a-ebf3067c5293",
   "metadata": {},
   "outputs": [],
   "source": [
    "# Define the arbitrary small number epsilon\n",
    "\n",
    "epsilon = 10**(-10)"
   ]
  },
  {
   "cell_type": "code",
   "execution_count": 15,
   "id": "adc1fdb6-e97d-4017-b1df-2b5d3fee3a94",
   "metadata": {
    "collapsed": true,
    "jupyter": {
     "outputs_hidden": true
    },
    "tags": []
   },
   "outputs": [
    {
     "name": "stderr",
     "output_type": "stream",
     "text": [
      "/var/folders/cw/0462_tfj1_3byvx3q4snmrwc0000gn/T/ipykernel_1964/3016920408.py:32: OptimizeWarning: The pivot operation produces a pivot value of: 6.8e-06, which is only slightly greater than the specified tolerance 1.0e-09. This may lead to issues regarding the numerical stability of the simplex method. Removing redundant constraints, changing the pivot strategy via Bland's rule or increasing the tolerance may help reduce the issue.\n",
      "  res = linprog(c, A_eq=Aeq, b_eq=beq, method='simplex', options={\"disp\": False})  # linear programming p[roblem\n",
      "/var/folders/cw/0462_tfj1_3byvx3q4snmrwc0000gn/T/ipykernel_1964/3016920408.py:32: OptimizeWarning: The pivot operation produces a pivot value of: 9.1e-06, which is only slightly greater than the specified tolerance 1.0e-09. This may lead to issues regarding the numerical stability of the simplex method. Removing redundant constraints, changing the pivot strategy via Bland's rule or increasing the tolerance may help reduce the issue.\n",
      "  res = linprog(c, A_eq=Aeq, b_eq=beq, method='simplex', options={\"disp\": False})  # linear programming p[roblem\n"
     ]
    }
   ],
   "source": [
    "# Solve these linear problem and store results\n",
    "\n",
    "efficiencies = []\n",
    "results = np.zeros((df_hes.shape[0],df_hes.shape[0]+4))\n",
    "\n",
    "for n in range(df_hes.shape[0]):\n",
    "    # for each country, define their associated matrices\n",
    "    \n",
    "    c = np.zeros(df_hes.shape[0]+4)\n",
    "    c[0] = -1\n",
    "    c[1] = -epsilon\n",
    "    c[2] = -epsilon\n",
    "    c[3] = -epsilon\n",
    "\n",
    "    Aeq = np.zeros((4, df_hes.shape[0]+4))\n",
    "    Aeq[0][0] = df_hes.iloc[n].Health\n",
    "    Aeq[0][1] = 1\n",
    "    Aeq[1][0] = df_hes.iloc[n].Education\n",
    "    Aeq[1][2] = 1\n",
    "    Aeq[2][0] = df_hes.iloc[n]['Standard of living']\n",
    "    Aeq[2][3] = 1\n",
    "    for k in range(df_hes.shape[0]):\n",
    "        Aeq[0][k+4] = - df_hes.iloc[k].Health\n",
    "        Aeq[1][k+4] = - df_hes.iloc[k].Education\n",
    "        Aeq[2][k+4] = - df_hes.iloc[k]['Standard of living']\n",
    "        Aeq[3][k+4] = 1\n",
    "\n",
    "    beq = np.zeros((4))\n",
    "    beq[3] = 1\n",
    "    \n",
    "    # Solve the linear problem for country n\n",
    "    res = linprog(c, A_eq=Aeq, b_eq=beq, method='simplex', options={\"disp\": False})  # linear programming p[roblem\n",
    "    w = res.x\n",
    "    efficiencies.append(1/w[0]) #store efficiency\n",
    "    results[n] = w #store other parameters"
   ]
  },
  {
   "cell_type": "code",
   "execution_count": 16,
   "id": "7d579bed-833a-4092-b7ed-7fb62241fb7b",
   "metadata": {},
   "outputs": [],
   "source": [
    "# Add the Efficiency column to the DataFrame\n",
    "\n",
    "df_hes['Efficiency'] = efficiencies"
   ]
  },
  {
   "cell_type": "markdown",
   "id": "36f8e877-2574-4e6a-ba8d-9d28c5163f39",
   "metadata": {
    "tags": []
   },
   "source": [
    "#### Question 1"
   ]
  },
  {
   "cell_type": "code",
   "execution_count": 17,
   "id": "1491246c-a607-41c1-b6e9-9d20ff8db53e",
   "metadata": {},
   "outputs": [
    {
     "data": {
      "text/html": [
       "<div>\n",
       "<style scoped>\n",
       "    .dataframe tbody tr th:only-of-type {\n",
       "        vertical-align: middle;\n",
       "    }\n",
       "\n",
       "    .dataframe tbody tr th {\n",
       "        vertical-align: top;\n",
       "    }\n",
       "\n",
       "    .dataframe thead th {\n",
       "        text-align: right;\n",
       "    }\n",
       "</style>\n",
       "<table border=\"1\" class=\"dataframe\">\n",
       "  <thead>\n",
       "    <tr style=\"text-align: right;\">\n",
       "      <th></th>\n",
       "      <th>Health</th>\n",
       "      <th>Education</th>\n",
       "      <th>Standard of living</th>\n",
       "      <th>Efficiency</th>\n",
       "    </tr>\n",
       "    <tr>\n",
       "      <th>Country</th>\n",
       "      <th></th>\n",
       "      <th></th>\n",
       "      <th></th>\n",
       "      <th></th>\n",
       "    </tr>\n",
       "  </thead>\n",
       "  <tbody>\n",
       "    <tr>\n",
       "      <th>Hong Kong, China (SAR)</th>\n",
       "      <td>85.4734</td>\n",
       "      <td>14.752190</td>\n",
       "      <td>62606.8454</td>\n",
       "      <td>1.0</td>\n",
       "    </tr>\n",
       "    <tr>\n",
       "      <th>Australia</th>\n",
       "      <td>84.5265</td>\n",
       "      <td>16.890705</td>\n",
       "      <td>49238.43335</td>\n",
       "      <td>1.0</td>\n",
       "    </tr>\n",
       "    <tr>\n",
       "      <th>Liechtenstein</th>\n",
       "      <td>83.2575</td>\n",
       "      <td>13.860055</td>\n",
       "      <td>146829.7006</td>\n",
       "      <td>1.0</td>\n",
       "    </tr>\n",
       "  </tbody>\n",
       "</table>\n",
       "</div>"
      ],
      "text/plain": [
       "                         Health  Education Standard of living  Efficiency\n",
       "Country                                                                  \n",
       "Hong Kong, China (SAR)  85.4734  14.752190         62606.8454         1.0\n",
       "Australia               84.5265  16.890705        49238.43335         1.0\n",
       "Liechtenstein           83.2575  13.860055        146829.7006         1.0"
      ]
     },
     "execution_count": 17,
     "metadata": {},
     "output_type": "execute_result"
    }
   ],
   "source": [
    "# Extract countries lying on efficient frontier \n",
    "\n",
    "df_hes[df_hes['Efficiency']==1]"
   ]
  },
  {
   "cell_type": "markdown",
   "id": "6bbc2217-e5f1-47ce-96b6-ace76bdc3f17",
   "metadata": {},
   "source": [
    "Three countries lie on the efficient frontier, they are Honk Kong, Australia and the Liechtenstein."
   ]
  },
  {
   "cell_type": "markdown",
   "id": "395970c4-d8db-48b1-8b5a-f098deb1979d",
   "metadata": {
    "tags": []
   },
   "source": [
    "#### Question 2"
   ]
  },
  {
   "cell_type": "code",
   "execution_count": 18,
   "id": "fac16f06-5991-4bf3-9a88-c6dcb056b8ff",
   "metadata": {},
   "outputs": [],
   "source": [
    "# Extract from the results array the efficient target\n",
    "# of each country and the convex coefficients of ERS\n",
    "\n",
    "hk_index = 4 + df_hes.reset_index()[df_hes.reset_index()[\n",
    "    'Country']=='Hong Kong, China (SAR)'].index.values[0]\n",
    "aus_index = 4 + df_hes.reset_index()[df_hes.reset_index()[\n",
    "    'Country']=='Australia'].index.values[0]\n",
    "lie_index = 4 + df_hes.reset_index()[df_hes.reset_index()[\n",
    "    'Country']=='Liechtenstein'].index.values[0]\n",
    "\n",
    "eff_target_h = []\n",
    "eff_target_e = []\n",
    "eff_target_s = []\n",
    "coeff_hk = []\n",
    "coeff_aus = []\n",
    "coeff_lie = []\n",
    "\n",
    "for n in range(df_hes.shape[0]):\n",
    "    eff_target_h.append(results[n][0]*df_hes.iloc[n].Health+results[n][1])\n",
    "    eff_target_e.append(results[n][0]*df_hes.iloc[n].Education+results[n][2])\n",
    "    eff_target_s.append(results[n][0]*df_hes.iloc[n]['Standard of living']+results[n][3])\n",
    "    coeff_hk.append(results[n][hk_index])\n",
    "    coeff_aus.append(results[n][aus_index])\n",
    "    coeff_lie.append(results[n][lie_index])"
   ]
  },
  {
   "cell_type": "code",
   "execution_count": 19,
   "id": "4a3578b3-a8db-44f5-a929-07e06b05f418",
   "metadata": {},
   "outputs": [],
   "source": [
    "# Add these information to the DataFrame\n",
    "\n",
    "df_hes['Efficient target health'] = eff_target_h\n",
    "df_hes['Efficient target education'] = eff_target_e\n",
    "df_hes['Efficient target standard of living'] = eff_target_s\n",
    "df_hes['Lambda Hong Kong'] = coeff_hk\n",
    "df_hes['Lambda Australia'] = coeff_aus\n",
    "df_hes['Lambda Liechtenstein'] = coeff_lie"
   ]
  },
  {
   "cell_type": "code",
   "execution_count": 20,
   "id": "bfc3780f-b0a2-4cda-bd7a-88806d68c5c4",
   "metadata": {},
   "outputs": [
    {
     "data": {
      "text/plain": [
       "Health                                     82.4513\n",
       "Education                                 16.61429\n",
       "Standard of living                     44057.31394\n",
       "Efficiency                                0.983635\n",
       "Efficient target health                    84.5265\n",
       "Efficient target education               16.890705\n",
       "Efficient target standard of living    49238.43335\n",
       "Lambda Hong Kong                               0.0\n",
       "Lambda Australia                               1.0\n",
       "Lambda Liechtenstein                           0.0\n",
       "Name: New Zealand, dtype: object"
      ]
     },
     "execution_count": 20,
     "metadata": {},
     "output_type": "execute_result"
    }
   ],
   "source": [
    "df_hes.loc['New Zealand']"
   ]
  },
  {
   "cell_type": "markdown",
   "id": "449eee8a-0c62-49ad-bcb1-b8f6040834a5",
   "metadata": {},
   "source": [
    "The Efficiency rating of New Zealand is 0.983635.\n",
    "\n",
    "According to the result of the DEA method, it is not efficient. Target values for its three criteria are 84.5265 for health, 16.890705 for education and 49238.43335 for standard of living.\n",
    "\n",
    "It is achieved by the following convex combination of ERS member :\n",
    "\n",
    "$$x_{New Zealand} = 0 \\cdot x_{Hong Kong} + 1 \\cdot x_{Australia} + 0 \\cdot x_{Liechtenstein}$$\n",
    "\n",
    "where $x_{Country}$ represents any of the three criteria value."
   ]
  }
 ],
 "metadata": {
  "kernelspec": {
   "display_name": "Python 3 (ipykernel)",
   "language": "python",
   "name": "python3"
  },
  "language_info": {
   "codemirror_mode": {
    "name": "ipython",
    "version": 3
   },
   "file_extension": ".py",
   "mimetype": "text/x-python",
   "name": "python",
   "nbconvert_exporter": "python",
   "pygments_lexer": "ipython3",
   "version": "3.9.7"
  }
 },
 "nbformat": 4,
 "nbformat_minor": 5
}
